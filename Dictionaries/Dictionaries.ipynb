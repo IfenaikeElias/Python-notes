{
 "cells": [
  {
   "cell_type": "markdown",
   "id": "cb0e6735",
   "metadata": {},
   "source": [
    "## **Dictionaries**"
   ]
  },
  {
   "cell_type": "markdown",
   "id": "d45da3a6",
   "metadata": {},
   "source": [
    "A dictionary is just like a list but it stores element in `key-value` pairs\n",
    "\n",
    "Every elemt of a dictionary is in this form:\n",
    "```pythons\n",
    "key: value\n",
    "\n",
    "```\n",
    "\n",
    "both keys could be integers, float, strings, they are called **Hashable types**, while values can be anything (lists, dictionaries, integres, strings, etc)"
   ]
  },
  {
   "cell_type": "code",
   "execution_count": 2,
   "id": "26b05385",
   "metadata": {},
   "outputs": [],
   "source": [
    "days = {'January':31, 'February':28, 'March':31, 'April':30,\n",
    " 'May':31, 'June':30, 'July':31, 'August':31,\n",
    " 'September':30, 'October':31, 'November':30, 'December':31}"
   ]
  },
  {
   "cell_type": "markdown",
   "id": "dea7936d",
   "metadata": {},
   "source": [
    "When we use an unhashable type as key we get an error "
   ]
  },
  {
   "cell_type": "code",
   "execution_count": 6,
   "id": "494a0749",
   "metadata": {},
   "outputs": [
    {
     "ename": "TypeError",
     "evalue": "unhashable type: 'list'",
     "output_type": "error",
     "traceback": [
      "\u001b[31m---------------------------------------------------------------------------\u001b[39m",
      "\u001b[31mTypeError\u001b[39m                                 Traceback (most recent call last)",
      "\u001b[36mCell\u001b[39m\u001b[36m \u001b[39m\u001b[32mIn[6]\u001b[39m\u001b[32m, line 2\u001b[39m\n\u001b[32m      1\u001b[39m \u001b[38;5;66;03m# Using an unhashable type as key\u001b[39;00m\n\u001b[32m----> \u001b[39m\u001b[32m2\u001b[39m days = {[\u001b[32m1\u001b[39m,\u001b[32m2\u001b[39m]: \u001b[32m3\u001b[39m}\n",
      "\u001b[31mTypeError\u001b[39m: unhashable type: 'list'"
     ]
    }
   ],
   "source": [
    "# Using an unhashable type as key\n",
    "days = {[1,2]: 3}"
   ]
  },
  {
   "cell_type": "code",
   "execution_count": 3,
   "id": "d699af3f",
   "metadata": {},
   "outputs": [
    {
     "name": "stdout",
     "output_type": "stream",
     "text": [
      "{'January': 31, 'February': 28, 'March': 31, 'April': 30, 'May': 31, 'June': 30, 'July': 31, 'August': 31, 'September': 30, 'October': 31, 'November': 30, 'December': 31}\n",
      "\n",
      "\n",
      "\n",
      "<class 'dict'>\n"
     ]
    }
   ],
   "source": [
    "print(days)\n",
    "print(\"\\n\\n\")\n",
    "\n",
    "print(type(days))\n",
    "\n"
   ]
  },
  {
   "cell_type": "markdown",
   "id": "752da134",
   "metadata": {},
   "source": [
    "### **The dictionary constructor**\n",
    "\n",
    "The dictionary constructor `dict()` or `{}` is used to create a dictionary"
   ]
  },
  {
   "cell_type": "code",
   "execution_count": 1,
   "id": "479834a0",
   "metadata": {},
   "outputs": [
    {
     "name": "stdout",
     "output_type": "stream",
     "text": [
      "{'x': 1, 'y': 2, 'z': 3}\n"
     ]
    }
   ],
   "source": [
    "new_dict = dict(x=  1, y= 2, z= 3)\n",
    "print(new_dict)"
   ]
  },
  {
   "cell_type": "markdown",
   "id": "128fb473",
   "metadata": {},
   "source": [
    "Empty dictionary"
   ]
  },
  {
   "cell_type": "code",
   "execution_count": 4,
   "id": "6550718c",
   "metadata": {},
   "outputs": [
    {
     "name": "stdout",
     "output_type": "stream",
     "text": [
      "{}\n",
      "{}\n"
     ]
    }
   ],
   "source": [
    "print(dict())\n",
    "\n",
    "# or \n",
    "\n",
    "print({})"
   ]
  },
  {
   "cell_type": "code",
   "execution_count": 29,
   "id": "359b1e62",
   "metadata": {},
   "outputs": [
    {
     "name": "stdout",
     "output_type": "stream",
     "text": [
      "{1: 2, 2: 4, 3: 8, 4: 16, 5: 32, 6: 64, 7: 128, 8: 256, 9: 512}\n"
     ]
    }
   ],
   "source": [
    "# creating a dictionary from an iterable\n",
    "\n",
    "power_of_two = {}\n",
    "\n",
    "for integers in range(1, 10):\n",
    "    power_of_two[integers]= 2**integers\n",
    "\n",
    "print(power_of_two)"
   ]
  },
  {
   "cell_type": "markdown",
   "id": "be6f7d21",
   "metadata": {},
   "source": [
    "### **Accesing keys and valuesof a dictionary**\n",
    "To access the keys of a dictionary we use the `keys()` method, while we use the `values()` methods to acces the values of a dictionary."
   ]
  },
  {
   "cell_type": "code",
   "execution_count": 30,
   "id": "ea359299",
   "metadata": {},
   "outputs": [
    {
     "name": "stdout",
     "output_type": "stream",
     "text": [
      "keys:  dict_keys(['apples', 'banana', 'mangoes'])\n",
      "\n",
      "\n",
      "\n",
      "values:  dict_values([2, 7, 3])\n"
     ]
    }
   ],
   "source": [
    "basket = {\"apples\": 2, \"banana\": 7, \"mangoes\": 3}\n",
    "\n",
    "print(\"keys: \", basket.keys())\n",
    "print(\"\\n\\n\")\n",
    "print(\"values: \", basket.values())"
   ]
  },
  {
   "cell_type": "markdown",
   "id": "3721cb7b",
   "metadata": {},
   "source": [
    "### **Looping through a Dictionary**\n",
    "\n",
    "When we loop through a dictionary or use the `in` operator on a dictionary, we are essentially looping or checking through the keys.\n",
    "To loop through the values we would use the `values()` method.\n"
   ]
  },
  {
   "cell_type": "code",
   "execution_count": 31,
   "id": "87fe8ede",
   "metadata": {},
   "outputs": [
    {
     "name": "stdout",
     "output_type": "stream",
     "text": [
      "apples\n",
      "banana\n",
      "mangoes\n"
     ]
    }
   ],
   "source": [
    "# default looping through a dict, loops through the keys\n",
    "for each in basket:\n",
    "    print(each)"
   ]
  },
  {
   "cell_type": "code",
   "execution_count": 32,
   "id": "f835e69f",
   "metadata": {},
   "outputs": [
    {
     "name": "stdout",
     "output_type": "stream",
     "text": [
      "True\n"
     ]
    }
   ],
   "source": [
    "print(\"apples\" in basket)"
   ]
  },
  {
   "cell_type": "code",
   "execution_count": 33,
   "id": "f6e57124",
   "metadata": {},
   "outputs": [
    {
     "name": "stdout",
     "output_type": "stream",
     "text": [
      "False\n"
     ]
    }
   ],
   "source": [
    "print(2 in basket)"
   ]
  },
  {
   "cell_type": "code",
   "execution_count": 34,
   "id": "b2862915",
   "metadata": {},
   "outputs": [
    {
     "name": "stdout",
     "output_type": "stream",
     "text": [
      "2\n",
      "7\n",
      "3\n"
     ]
    }
   ],
   "source": [
    "# looping through values\n",
    "for each in basket.values():\n",
    "    print(each)"
   ]
  },
  {
   "cell_type": "code",
   "execution_count": 35,
   "id": "498885a1",
   "metadata": {},
   "outputs": [
    {
     "name": "stdout",
     "output_type": "stream",
     "text": [
      "True\n"
     ]
    }
   ],
   "source": [
    "print(2 in basket.values())"
   ]
  },
  {
   "cell_type": "markdown",
   "id": "3eba5e05",
   "metadata": {},
   "source": [
    "we can return returns all keys and values of a dictionary bind together as pairs using the `items()` method"
   ]
  },
  {
   "cell_type": "code",
   "execution_count": 12,
   "id": "824c1990",
   "metadata": {},
   "outputs": [
    {
     "data": {
      "text/plain": [
       "dict_items([('apples', 2), ('banana', 7), ('mangoes', 3)])"
      ]
     },
     "execution_count": 12,
     "metadata": {},
     "output_type": "execute_result"
    }
   ],
   "source": [
    "basket.items()"
   ]
  },
  {
   "cell_type": "markdown",
   "id": "ee02795e",
   "metadata": {},
   "source": [
    "Looping through items of a dict"
   ]
  },
  {
   "cell_type": "code",
   "execution_count": 15,
   "id": "b535345a",
   "metadata": {},
   "outputs": [
    {
     "name": "stdout",
     "output_type": "stream",
     "text": [
      "('apples', 2)\n",
      "('banana', 7)\n",
      "('mangoes', 3)\n"
     ]
    }
   ],
   "source": [
    "for each in basket.items():\n",
    "    print(each)"
   ]
  },
  {
   "cell_type": "code",
   "execution_count": 16,
   "id": "e17efdd8",
   "metadata": {},
   "outputs": [
    {
     "name": "stdout",
     "output_type": "stream",
     "text": [
      "apples 2\n",
      "banana 7\n",
      "mangoes 3\n"
     ]
    }
   ],
   "source": [
    "for key, value in basket.items():\n",
    "    print(key, value)"
   ]
  },
  {
   "cell_type": "code",
   "execution_count": 17,
   "id": "231bf9d4",
   "metadata": {},
   "outputs": [
    {
     "name": "stdout",
     "output_type": "stream",
     "text": [
      "2\n",
      "7\n",
      "3\n"
     ]
    }
   ],
   "source": [
    "# print value alone\n",
    "\n",
    "for key, value in basket.items():\n",
    "    print(value)"
   ]
  },
  {
   "cell_type": "markdown",
   "id": "a7da2d97",
   "metadata": {},
   "source": [
    "### **Accessing values using their keys**"
   ]
  },
  {
   "cell_type": "code",
   "execution_count": 19,
   "id": "ad71ec32",
   "metadata": {},
   "outputs": [
    {
     "data": {
      "text/plain": [
       "2"
      ]
     },
     "execution_count": 19,
     "metadata": {},
     "output_type": "execute_result"
    }
   ],
   "source": [
    "# return value of keyword apple in basket\n",
    "basket[\"apples\"]"
   ]
  },
  {
   "cell_type": "markdown",
   "id": "d9a9d169",
   "metadata": {},
   "source": [
    "### **Counting with a dictionary**"
   ]
  },
  {
   "cell_type": "markdown",
   "id": "f23485f1",
   "metadata": {},
   "source": [
    "Say we need to count the occurence of a  word in a text file we can just use the logic:\n"
   ]
  },
  {
   "cell_type": "code",
   "execution_count": 5,
   "id": "55269edb",
   "metadata": {},
   "outputs": [
    {
     "name": "stdout",
     "output_type": "stream",
     "text": [
      "there are  47  words in the file\n"
     ]
    }
   ],
   "source": [
    "from string import punctuation\n",
    "text =  open(\"romeo_and_juliet.txt\").read()\n",
    "\n",
    "text = text.lower()\n",
    "for p in punctuation:\n",
    "    text = text.replace(p, \"\")\n",
    "words = text.split()\n",
    "print(\"there are \" , len(words), \" words in the file\")"
   ]
  },
  {
   "cell_type": "code",
   "execution_count": 7,
   "id": "b1bd6ea4",
   "metadata": {},
   "outputs": [
    {
     "name": "stdout",
     "output_type": "stream",
     "text": [
      "('ache', 1)\n",
      "('art', 1)\n",
      "('bound', 1)\n",
      "('but', 1)\n",
      "('calls', 1)\n",
      "('cannot', 1)\n",
      "('dark', 1)\n",
      "('does', 1)\n",
      "('find', 1)\n",
      "('forever', 3)\n",
      "('heart', 3)\n",
      "('i', 1)\n",
      "('in', 2)\n",
      "('it', 1)\n",
      "('love', 5)\n",
      "('my', 8)\n",
      "('night', 1)\n",
      "('oh', 2)\n",
      "('soul', 2)\n",
      "('the', 2)\n",
      "('thee', 1)\n",
      "('thou', 1)\n",
      "('thy', 1)\n",
      "('true', 1)\n",
      "('voice', 1)\n",
      "('where', 1)\n",
      "('why', 1)\n",
      "('you', 1)\n"
     ]
    }
   ],
   "source": [
    "d= {}\n",
    "for each in words:\n",
    "    if each in d:\n",
    "        d[each] += 1\n",
    "    else:\n",
    "        d[each] = 1\n",
    "\n",
    "items = list(d.items())\n",
    "items.sort()\n",
    "for i in items:\n",
    "    print(i)\n",
    "    \n"
   ]
  },
  {
   "cell_type": "markdown",
   "id": "f6a9f69c",
   "metadata": {},
   "source": [
    "### **Import Dictionary Methods**\n",
    "\n"
   ]
  },
  {
   "cell_type": "markdown",
   "id": "82989bb9",
   "metadata": {},
   "source": [
    "**get method**\n",
    "\n",
    "the get method allows us to retrieve values associated with a given key.\n",
    "\n",
    "syntax:\n",
    "```python\n",
    "dict.get(key, default=None)\n",
    "```"
   ]
  },
  {
   "cell_type": "code",
   "execution_count": null,
   "id": "8bd26936",
   "metadata": {},
   "outputs": [
    {
     "name": "stdout",
     "output_type": "stream",
     "text": [
      "1\n",
      "None\n",
      "0\n"
     ]
    }
   ],
   "source": [
    "my_dict = {\"a\": 1, \"b\": 2}\n",
    "\n",
    "print(my_dict.get(\"a\")) # Output 1\n",
    "print(my_dict.get(\"c\")) # Outputs Non because key \"c\" doesn't exist\n",
    "\n",
    "# using get with a default value\n",
    "print(my_dict.get(\"c\", 0)) # returns 0, temporarily creates key \"c\" to dictionary and sets default value to 0"
   ]
  },
  {
   "cell_type": "markdown",
   "id": "09085bbc",
   "metadata": {},
   "source": [
    "Using the get method to count into a dictionary"
   ]
  },
  {
   "cell_type": "code",
   "execution_count": 15,
   "id": "68ea6b5a",
   "metadata": {},
   "outputs": [
    {
     "name": "stdout",
     "output_type": "stream",
     "text": [
      "{'a': 1, 'b': 2, 'c': 3, 'd': 2}\n"
     ]
    }
   ],
   "source": [
    "def count_elements(lst):\n",
    "    counts = {}\n",
    "    for each in lst:\n",
    "        counts[each] = counts.get(each, 0) + 1\n",
    "    return counts\n",
    "\n",
    "lst = [\"a\", \"b\",\"b\", \"c\", \"d\", \"c\", \"c\", \"d\"]\n",
    "element_count = count_elements(lst)\n",
    "print(element_count)\n"
   ]
  },
  {
   "cell_type": "markdown",
   "id": "f738070f",
   "metadata": {},
   "source": [
    "Some DSA shit..... \n",
    "\n",
    "Dictionaries as Hashmaps. Leetcode 1 (Two sum)\n",
    "\n",
    "goal is two get idex of two numbers in a list that sum up to a given target\n"
   ]
  },
  {
   "cell_type": "code",
   "execution_count": 19,
   "id": "f44389ec",
   "metadata": {},
   "outputs": [],
   "source": [
    "def two_sum(nums, target):\n",
    "    # create hashmap to track numbers and index and lookup complement, this way we can check complements that are also in nums\n",
    "    num_map = {}\n",
    "    #loop through index, element pair in nums\n",
    "    for idx, each in enumerate(nums):\n",
    "        # get complement (what number needs to be added to get target)\n",
    "        complement = target - each\n",
    "        # look up hash map if complement is there\n",
    "        if num_map.get(complement) is not None:\n",
    "            # if yes, return index of our number and it's complement\n",
    "            return [num_map[complement], idx]\n",
    "        #add number and idx to hashmap if it doesn't have a complement in nums\n",
    "        num_map[each] = idx\n",
    "    # return None if no two sum\n",
    "    return None\n",
    "    \n"
   ]
  },
  {
   "cell_type": "code",
   "execution_count": 21,
   "id": "141dc081",
   "metadata": {},
   "outputs": [
    {
     "name": "stdout",
     "output_type": "stream",
     "text": [
      "[0, 1]\n"
     ]
    }
   ],
   "source": [
    "nums = [2, 7, 11, 15]\n",
    "target = 9\n",
    "result = two_sum(nums, target)\n",
    "print(result)  # Output: [0, 1]\n"
   ]
  },
  {
   "cell_type": "markdown",
   "id": "ac2100d7",
   "metadata": {},
   "source": [
    "**Update Method**\n",
    "\n",
    "This is used to update a dictionary with another dictionary"
   ]
  },
  {
   "cell_type": "code",
   "execution_count": 23,
   "id": "0373c8ea",
   "metadata": {},
   "outputs": [
    {
     "name": "stdout",
     "output_type": "stream",
     "text": [
      "{'a': 1, 'b': 2, 'c': 4, 'd': 2}\n"
     ]
    }
   ],
   "source": [
    "my_dict = {'a': 1, 'b': 2, 'c': 3}\n",
    "\n",
    "other_dict  = {'c': 4, 'd': 2}\n",
    "\n",
    "my_dict.update(other_dict)\n",
    "print(my_dict)"
   ]
  },
  {
   "cell_type": "markdown",
   "id": "766a3511",
   "metadata": {},
   "source": [
    "Notice how c was update...lol"
   ]
  },
  {
   "cell_type": "markdown",
   "id": "a9dc4a4a",
   "metadata": {},
   "source": [
    "**pop method**"
   ]
  },
  {
   "cell_type": "markdown",
   "id": "f792ac81",
   "metadata": {},
   "source": [
    "`pop` is used to remove an element of a dictionary by specifying it's `key`, the value of the removed item can be assigned to a variable and used later on, just like the `pop` method for list."
   ]
  },
  {
   "cell_type": "code",
   "execution_count": 25,
   "id": "4427da15",
   "metadata": {},
   "outputs": [
    {
     "name": "stdout",
     "output_type": "stream",
     "text": [
      "2\n",
      "{'a': 1, 'c': 3}\n"
     ]
    }
   ],
   "source": [
    "my_dict = {'a': 1, 'b': 2, 'c': 3}\n",
    "print(my_dict.pop('b'))  # Output: 2\n",
    "print(my_dict)  # Output: {'a': 1, 'c': 3}\n"
   ]
  },
  {
   "cell_type": "markdown",
   "id": "35dd6b3c",
   "metadata": {},
   "source": [
    "**popitem method**"
   ]
  },
  {
   "cell_type": "markdown",
   "id": "b55623ff",
   "metadata": {},
   "source": [
    "works like pop but removes the **last inserted** key-value pair"
   ]
  },
  {
   "cell_type": "code",
   "execution_count": 28,
   "id": "95098826",
   "metadata": {},
   "outputs": [
    {
     "name": "stdout",
     "output_type": "stream",
     "text": [
      "('c', 3)\n",
      "{'a': 1, 'b': 2}\n"
     ]
    }
   ],
   "source": [
    "my_dict = {'a': 1, 'b': 2, 'c': 3}\n",
    "\n",
    "last_item = my_dict.popitem()\n",
    "print(last_item)  # Output: ('c', 3)\n",
    "print(my_dict)  \n"
   ]
  },
  {
   "cell_type": "code",
   "execution_count": null,
   "id": "0fe834bd",
   "metadata": {},
   "outputs": [],
   "source": []
  }
 ],
 "metadata": {
  "kernelspec": {
   "display_name": "Python 3",
   "language": "python",
   "name": "python3"
  },
  "language_info": {
   "codemirror_mode": {
    "name": "ipython",
    "version": 3
   },
   "file_extension": ".py",
   "mimetype": "text/x-python",
   "name": "python",
   "nbconvert_exporter": "python",
   "pygments_lexer": "ipython3",
   "version": "3.12.4"
  }
 },
 "nbformat": 4,
 "nbformat_minor": 5
}

{
 "cells": [
  {
   "cell_type": "markdown",
   "id": "2a16686b",
   "metadata": {},
   "source": [
    "## Comprehensions (Syntatic Shortcuts)"
   ]
  },
  {
   "cell_type": "markdown",
   "id": "166c2964",
   "metadata": {},
   "source": [
    "### **List Comprehensions**"
   ]
  },
  {
   "cell_type": "markdown",
   "id": "c3527c3a",
   "metadata": {},
   "source": [
    "we use list comprehension to reudce single for loops, nested for loops, or loops with condition inteaded to create a new list from a previous list into a single line of code"
   ]
  },
  {
   "cell_type": "markdown",
   "id": "32677c58",
   "metadata": {},
   "source": [
    "Say we have a list `prev_lst` we want to create a new list `new_lst` containing the squares of the elements in `prev_lst`"
   ]
  },
  {
   "cell_type": "code",
   "execution_count": 5,
   "id": "1d71ada6",
   "metadata": {},
   "outputs": [
    {
     "name": "stdout",
     "output_type": "stream",
     "text": [
      "[4, 16, 49, 64]\n"
     ]
    }
   ],
   "source": [
    "# using a for loop\n",
    "\n",
    "prev_lst = [2, 4, 7, 8]\n",
    "new_lst = []\n",
    "for each in prev_lst:\n",
    "    new_lst.append(each**2)\n",
    "print(new_lst)\n"
   ]
  },
  {
   "cell_type": "code",
   "execution_count": 6,
   "id": "4f4aa1db",
   "metadata": {},
   "outputs": [
    {
     "name": "stdout",
     "output_type": "stream",
     "text": [
      "[4, 16, 49, 64]\n"
     ]
    }
   ],
   "source": [
    "# Using list comprehension\n",
    "\n",
    "prev_lst = [2, 4, 7, 8]\n",
    "new_lst = [x**2 for x in prev_lst]\n",
    "print(new_lst)"
   ]
  },
  {
   "cell_type": "markdown",
   "id": "bb94a01b",
   "metadata": {},
   "source": [
    "A deck of Cards with list comprehension"
   ]
  },
  {
   "cell_type": "code",
   "execution_count": 12,
   "id": "08ee6862",
   "metadata": {},
   "outputs": [
    {
     "name": "stdout",
     "output_type": "stream",
     "text": [
      "[{'value': 2, 'suit': 'spades'}, {'value': 3, 'suit': 'spades'}, {'value': 4, 'suit': 'spades'}, {'value': 5, 'suit': 'spades'}, {'value': 6, 'suit': 'spades'}, {'value': 7, 'suit': 'spades'}, {'value': 8, 'suit': 'spades'}, {'value': 9, 'suit': 'spades'}, {'value': 10, 'suit': 'spades'}, {'value': 11, 'suit': 'spades'}, {'value': 12, 'suit': 'spades'}, {'value': 13, 'suit': 'spades'}, {'value': 14, 'suit': 'spades'}, {'value': 2, 'suit': 'clubs'}, {'value': 3, 'suit': 'clubs'}, {'value': 4, 'suit': 'clubs'}, {'value': 5, 'suit': 'clubs'}, {'value': 6, 'suit': 'clubs'}, {'value': 7, 'suit': 'clubs'}, {'value': 8, 'suit': 'clubs'}, {'value': 9, 'suit': 'clubs'}, {'value': 10, 'suit': 'clubs'}, {'value': 11, 'suit': 'clubs'}, {'value': 12, 'suit': 'clubs'}, {'value': 13, 'suit': 'clubs'}, {'value': 14, 'suit': 'clubs'}, {'value': 2, 'suit': 'hearts'}, {'value': 3, 'suit': 'hearts'}, {'value': 4, 'suit': 'hearts'}, {'value': 5, 'suit': 'hearts'}, {'value': 6, 'suit': 'hearts'}, {'value': 7, 'suit': 'hearts'}, {'value': 8, 'suit': 'hearts'}, {'value': 9, 'suit': 'hearts'}, {'value': 10, 'suit': 'hearts'}, {'value': 11, 'suit': 'hearts'}, {'value': 12, 'suit': 'hearts'}, {'value': 13, 'suit': 'hearts'}, {'value': 14, 'suit': 'hearts'}, {'value': 2, 'suit': 'diamonds'}, {'value': 3, 'suit': 'diamonds'}, {'value': 4, 'suit': 'diamonds'}, {'value': 5, 'suit': 'diamonds'}, {'value': 6, 'suit': 'diamonds'}, {'value': 7, 'suit': 'diamonds'}, {'value': 8, 'suit': 'diamonds'}, {'value': 9, 'suit': 'diamonds'}, {'value': 10, 'suit': 'diamonds'}, {'value': 11, 'suit': 'diamonds'}, {'value': 12, 'suit': 'diamonds'}, {'value': 13, 'suit': 'diamonds'}, {'value': 14, 'suit': 'diamonds'}]\n"
     ]
    }
   ],
   "source": [
    "deck = [{'value':i, 'suit':c}\n",
    " for c in ['spades', 'clubs', 'hearts', 'diamonds']\n",
    " for i in range(2,15)]\n",
    "\n",
    "\n",
    "print(deck)"
   ]
  },
  {
   "cell_type": "markdown",
   "id": "caa2a022",
   "metadata": {},
   "source": [
    "Complicated examples"
   ]
  },
  {
   "cell_type": "markdown",
   "id": "c9aba4df",
   "metadata": {},
   "source": [
    "counting"
   ]
  },
  {
   "cell_type": "code",
   "execution_count": null,
   "id": "16e79b04",
   "metadata": {},
   "outputs": [
    {
     "name": "stdout",
     "output_type": "stream",
     "text": [
      "4\n"
     ]
    }
   ],
   "source": [
    "# nested for loops\n",
    "L = [[1,2,3],\n",
    "     [4,5,6],\n",
    "     [7,8,9]]\n",
    "\n",
    "#count how how many entries are even\n",
    "count = sum([1 for r in range(3) for c in range(3) if L[r][c]%2==0])\n",
    "print(count)\n",
    " "
   ]
  },
  {
   "cell_type": "markdown",
   "id": "0f1f48d6",
   "metadata": {},
   "source": [
    "Flattening higher dimensional arrays with list comprehension"
   ]
  },
  {
   "cell_type": "code",
   "execution_count": null,
   "id": "aef3e0d1",
   "metadata": {},
   "outputs": [
    {
     "name": "stdout",
     "output_type": "stream",
     "text": [
      "[1, 2, 3, 4, 5, 6, 7, 8, 9]\n"
     ]
    }
   ],
   "source": [
    "flat = [i for row in L for i in row]\n",
    "print(flat)"
   ]
  },
  {
   "cell_type": "markdown",
   "id": "f6a12f37",
   "metadata": {},
   "source": [
    "Flipping order of every entry of a list"
   ]
  },
  {
   "cell_type": "code",
   "execution_count": null,
   "id": "ac48985a",
   "metadata": {},
   "outputs": [
    {
     "name": "stdout",
     "output_type": "stream",
     "text": [
      "[[2, 1], [4, 3], [6, 5]]\n"
     ]
    }
   ],
   "source": [
    "L = [[1,2], [3,4], [5,6]]\n",
    "M = [[y, x] for x,y in L]\n",
    "print(M)"
   ]
  },
  {
   "cell_type": "markdown",
   "id": "8db79871",
   "metadata": {},
   "source": [
    "### **Dictionary Comprehensions**"
   ]
  },
  {
   "cell_type": "markdown",
   "id": "92eac63b",
   "metadata": {},
   "source": [
    "A lot of times the need to create, transform  or populate a dictionary arises. To do this we can create a new dictionary using the `dict()` constructor, and use for loops for our task, but a shorter and powerful way to do this is using a dictionary comprehension."
   ]
  },
  {
   "cell_type": "markdown",
   "id": "f94dc399",
   "metadata": {},
   "source": [
    "syntax:\n",
    "``` python\n",
    "# creating a dictionary from an iterable\n",
    "{key: value for member in iterable}\n",
    "\n",
    "# creating a dictionary from an iterable based on conditios\n",
    "# or modifying a dictionary based on conditions\n",
    "\n",
    "{key: value for members in iterable if condition}\n",
    "\n",
    "```"
   ]
  },
  {
   "cell_type": "code",
   "execution_count": 1,
   "id": "23ce2854",
   "metadata": {},
   "outputs": [
    {
     "name": "stdout",
     "output_type": "stream",
     "text": [
      "{1: 2, 2: 4, 3: 8, 4: 16, 5: 32, 6: 64, 7: 128, 8: 256, 9: 512}\n"
     ]
    }
   ],
   "source": [
    "power_of_two = {integer: 2**integer for integer in range(1, 10)}\n",
    "print(power_of_two)"
   ]
  },
  {
   "cell_type": "code",
   "execution_count": 2,
   "id": "442cc07e",
   "metadata": {},
   "outputs": [
    {
     "data": {
      "text/plain": [
       "{9: 81, 3: 9, 8: 64, 4: 16, 5: 25, 2: 4, 6: 36, 1: 1, 0: 0}"
      ]
     },
     "execution_count": 2,
     "metadata": {},
     "output_type": "execute_result"
    }
   ],
   "source": [
    "matrix = [\n",
    "    [9, 3, 8, 3],\n",
    "    [4, 5, 2, 8],\n",
    "    [6, 4, 3, 1],\n",
    "    [1, 0, 4, 5],\n",
    "    ]\n",
    "\n",
    "{value: value**2 for row in matrix for value in row}\n"
   ]
  },
  {
   "cell_type": "markdown",
   "id": "36089e07",
   "metadata": {},
   "source": [
    "creating a dictionary from an iterable"
   ]
  },
  {
   "cell_type": "code",
   "execution_count": 4,
   "id": "da121b8a",
   "metadata": {},
   "outputs": [
    {
     "data": {
      "text/plain": [
       "{'APPLES': 6, 'BANANA': 6, 'CHERRY': 6}"
      ]
     },
     "execution_count": 4,
     "metadata": {},
     "output_type": "execute_result"
    }
   ],
   "source": [
    "fruits= ['apples', \"banana\", \"cherry\"]\n",
    "\n",
    "{fruit.upper(): len(fruit) for fruit in fruits}"
   ]
  },
  {
   "cell_type": "markdown",
   "id": "229c4e40",
   "metadata": {},
   "source": [
    "creating a dictionary from a zip object\n"
   ]
  },
  {
   "cell_type": "code",
   "execution_count": 5,
   "id": "74f5c728",
   "metadata": {},
   "outputs": [
    {
     "data": {
      "text/plain": [
       "{'CPU': 15, 'GPU': 8, 'Motherboard': 12, 'RAM': 30}"
      ]
     },
     "execution_count": 5,
     "metadata": {},
     "output_type": "execute_result"
    }
   ],
   "source": [
    "parts = [\"CPU\", \"GPU\", \"Motherboard\", \"RAM\"]\n",
    "stocks = [15, 8, 12, 30]\n",
    "\n",
    "dict(zip(parts, stocks))"
   ]
  },
  {
   "cell_type": "markdown",
   "id": "bf61a06d",
   "metadata": {},
   "source": [
    "Transforming existing dictionaries"
   ]
  },
  {
   "cell_type": "code",
   "execution_count": 6,
   "id": "460b7a9c",
   "metadata": {},
   "outputs": [
    {
     "data": {
      "text/plain": [
       "{1: 'a', 2: 'b', 3: 'c'}"
      ]
     },
     "execution_count": 6,
     "metadata": {},
     "output_type": "execute_result"
    }
   ],
   "source": [
    "my_dict = {\"a\": 1, \"b\": 2, \"c\": 3}\n",
    "\n",
    "{value: key for key, value in my_dict.items()}"
   ]
  },
  {
   "cell_type": "markdown",
   "id": "56558cc2",
   "metadata": {},
   "source": [
    "Filtering items from a dictionary based on conditions"
   ]
  },
  {
   "cell_type": "code",
   "execution_count": 7,
   "id": "a2af3484",
   "metadata": {},
   "outputs": [
    {
     "data": {
      "text/plain": [
       "{'two': 2, 'four': 4}"
      ]
     },
     "execution_count": 7,
     "metadata": {},
     "output_type": "execute_result"
    }
   ],
   "source": [
    "numbers = {\"one\": 1, \"two\": 2, \"three\": 3, \"four\": 4, \"five\": 5}\n",
    "\n",
    "{key: value for key, value in numbers.items() if value % 2 == 0}\n"
   ]
  },
  {
   "cell_type": "markdown",
   "id": "4b22680d",
   "metadata": {},
   "source": [
    "### **Set Comprehensions**\n",
    "\n",
    "works just like list comprehension but remembers it's a self, so it only keeps unique values"
   ]
  },
  {
   "cell_type": "code",
   "execution_count": null,
   "id": "6021aabd",
   "metadata": {},
   "outputs": [],
   "source": []
  },
  {
   "cell_type": "code",
   "execution_count": null,
   "id": "a52b6c1c",
   "metadata": {},
   "outputs": [],
   "source": []
  }
 ],
 "metadata": {
  "kernelspec": {
   "display_name": "Python 3",
   "language": "python",
   "name": "python3"
  },
  "language_info": {
   "codemirror_mode": {
    "name": "ipython",
    "version": 3
   },
   "file_extension": ".py",
   "mimetype": "text/x-python",
   "name": "python",
   "nbconvert_exporter": "python",
   "pygments_lexer": "ipython3",
   "version": "3.12.4"
  }
 },
 "nbformat": 4,
 "nbformat_minor": 5
}

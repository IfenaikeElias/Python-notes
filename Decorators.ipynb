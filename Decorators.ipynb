{
 "cells": [
  {
   "cell_type": "markdown",
   "id": "2a1c04f9",
   "metadata": {},
   "source": [
    "### **Decorators**"
   ]
  },
  {
   "cell_type": "markdown",
   "id": "1651e2e1",
   "metadata": {},
   "source": [
    "Decoraror is just a function that takes a function as an arguement alters it's functionality and return another function without altering the source code of the original function you passed in. So basically, A decorator wraps a function and returns it's behaviour.\n",
    "\n",
    "Let's look at some quick examples."
   ]
  },
  {
   "cell_type": "code",
   "execution_count": 2,
   "id": "27eb6358",
   "metadata": {},
   "outputs": [],
   "source": [
    "def decorator_func(func):\n",
    "    def wrapper():\n",
    "        print(\"Something was done before func is called\")\n",
    "        func()\n",
    "        print(\"Something happened after the function was called\")\n",
    "    return wrapper"
   ]
  },
  {
   "cell_type": "code",
   "execution_count": 3,
   "id": "53b0d752",
   "metadata": {},
   "outputs": [
    {
     "name": "stdout",
     "output_type": "stream",
     "text": [
      "<function decorator_func.<locals>.wrapper at 0x00000284AEF056C0>\n"
     ]
    }
   ],
   "source": [
    "def say_cheese():\n",
    "    print(\"Cheese!\")\n",
    "\n",
    "modified_say_cheese = decorator_func(say_cheese)\n",
    "print(modified_say_cheese)"
   ]
  },
  {
   "cell_type": "code",
   "execution_count": 4,
   "id": "11289e47",
   "metadata": {},
   "outputs": [
    {
     "name": "stdout",
     "output_type": "stream",
     "text": [
      "Something was done before func is called\n",
      "Cheese!\n",
      "Something happened after the function was called\n"
     ]
    }
   ],
   "source": [
    "modified_say_cheese()"
   ]
  },
  {
   "cell_type": "markdown",
   "id": "d5736cc0",
   "metadata": {},
   "source": [
    "Okay we see how decorators work. *Why would we even what to do this ?*\n",
    "\n"
   ]
  },
  {
   "cell_type": "markdown",
   "id": "8affb264",
   "metadata": {},
   "source": [
    "Decorating our functions allows us to add functionality to our existing funtions while adding that functionality  inside our wrapper, hence not modifying our existing function (or having to restructure our existing function) because we might need it later on in our code."
   ]
  },
  {
   "cell_type": "markdown",
   "id": "a07bf0ba",
   "metadata": {},
   "source": [
    "**Adding syntatic Sugar (like writing fancy code)**\n",
    "\n",
    "instead of writng:\n",
    "```python\n",
    " decorator_func(say_cheese)\n",
    "```\n",
    "we can write our decorator like this: \n",
    "```python\n",
    " @decorator_func\n",
    "```\n",
    "on top of our function function"
   ]
  },
  {
   "cell_type": "code",
   "execution_count": 5,
   "id": "27807e47",
   "metadata": {},
   "outputs": [],
   "source": [
    "@decorator_func\n",
    "def say_cheese():\n",
    "    print(\"cheese!\")\n"
   ]
  },
  {
   "cell_type": "markdown",
   "id": "f87d7749",
   "metadata": {},
   "source": [
    "this way any time I call `say_cheese` it will have the decorator functionality"
   ]
  },
  {
   "cell_type": "code",
   "execution_count": 6,
   "id": "7084ee6f",
   "metadata": {},
   "outputs": [
    {
     "name": "stdout",
     "output_type": "stream",
     "text": [
      "Something was done before func is called\n",
      "cheese!\n",
      "Something happened after the function was called\n"
     ]
    }
   ],
   "source": [
    "say_cheese()"
   ]
  },
  {
   "cell_type": "markdown",
   "id": "2f84166d",
   "metadata": {},
   "source": [
    "**Tip:** *A good practice is to write all your decorator functions in a file and import them.* "
   ]
  },
  {
   "cell_type": "markdown",
   "id": "ef14e863",
   "metadata": {},
   "source": [
    "Now, If we write a decorator function `decorator_func` specifically for a certain function, It will only work with functions of similar signature (i.e arguement type, no of arguements and structure)"
   ]
  },
  {
   "cell_type": "markdown",
   "id": "b9d14f0f",
   "metadata": {},
   "source": [
    "To demonstrate this we will write a decorator to log some information about our code, in this case arguements."
   ]
  },
  {
   "cell_type": "code",
   "execution_count": 7,
   "id": "821ca075",
   "metadata": {},
   "outputs": [],
   "source": [
    "def log_arguements(func):\n",
    "    def wrapper(a, b):\n",
    "        print(f\"Function {func.__name__} was called with arguements: {a}, {b}\")\n",
    "        return func(a, b)\n",
    "    return wrapper"
   ]
  },
  {
   "cell_type": "code",
   "execution_count": 8,
   "id": "6a1943b8",
   "metadata": {},
   "outputs": [
    {
     "name": "stdout",
     "output_type": "stream",
     "text": [
      "Function add was called with arguements: 3, 4\n"
     ]
    },
    {
     "data": {
      "text/plain": [
       "7"
      ]
     },
     "execution_count": 8,
     "metadata": {},
     "output_type": "execute_result"
    }
   ],
   "source": [
    "@log_arguements\n",
    "def add(a, b):\n",
    "    return a + b\n",
    "\n",
    "add(3, 4)"
   ]
  },
  {
   "cell_type": "markdown",
   "id": "c77fa2b3",
   "metadata": {},
   "source": [
    "Now let's use the decorator again with another function with a similar functionality and see what happens"
   ]
  },
  {
   "cell_type": "code",
   "execution_count": 9,
   "id": "f47631df",
   "metadata": {},
   "outputs": [
    {
     "name": "stdout",
     "output_type": "stream",
     "text": [
      "Function add was called with arguements: 3, 4\n",
      "Function product was called with arguements: 3, 4\n"
     ]
    },
    {
     "data": {
      "text/plain": [
       "12"
      ]
     },
     "execution_count": 9,
     "metadata": {},
     "output_type": "execute_result"
    }
   ],
   "source": [
    "@log_arguements\n",
    "def add(a, b):\n",
    "    return a + b\n",
    "\n",
    "add(3, 4)\n",
    "\n",
    "@log_arguements\n",
    "def product(a, b):\n",
    "    return a * b\n",
    "\n",
    "product(3, 4)"
   ]
  },
  {
   "cell_type": "markdown",
   "id": "dd5d52bf",
   "metadata": {},
   "source": [
    "let's try to use this decorator to log a function that takes two arguements one `keyword` the other is just a regular argument. let's see what happens:"
   ]
  },
  {
   "cell_type": "code",
   "execution_count": 10,
   "id": "05d82c0d",
   "metadata": {},
   "outputs": [],
   "source": [
    "@log_arguements\n",
    "def introduction(name, age= 23):\n",
    "    return f\"Hi, my name is {name} and I am {age} years old \"\n"
   ]
  },
  {
   "cell_type": "code",
   "execution_count": 11,
   "id": "1d18f8db",
   "metadata": {},
   "outputs": [
    {
     "ename": "TypeError",
     "evalue": "log_arguements.<locals>.wrapper() got an unexpected keyword argument 'age'",
     "output_type": "error",
     "traceback": [
      "\u001b[31m---------------------------------------------------------------------------\u001b[39m",
      "\u001b[31mTypeError\u001b[39m                                 Traceback (most recent call last)",
      "\u001b[36mCell\u001b[39m\u001b[36m \u001b[39m\u001b[32mIn[11]\u001b[39m\u001b[32m, line 1\u001b[39m\n\u001b[32m----> \u001b[39m\u001b[32m1\u001b[39m \u001b[43mintroduction\u001b[49m\u001b[43m(\u001b[49m\u001b[33;43m\"\u001b[39;49m\u001b[33;43mJohn\u001b[39;49m\u001b[33;43m\"\u001b[39;49m\u001b[43m,\u001b[49m\u001b[43m \u001b[49m\u001b[43mage\u001b[49m\u001b[43m \u001b[49m\u001b[43m=\u001b[49m\u001b[43m \u001b[49m\u001b[32;43m30\u001b[39;49m\u001b[43m)\u001b[49m\n",
      "\u001b[31mTypeError\u001b[39m: log_arguements.<locals>.wrapper() got an unexpected keyword argument 'age'"
     ]
    }
   ],
   "source": [
    "introduction(\"John\", age = 30)"
   ]
  },
  {
   "cell_type": "markdown",
   "id": "8a79f7db",
   "metadata": {},
   "source": [
    "we get an error, because we passed in a keyword arguement, and our decorator was not designed to work with key word arguements"
   ]
  },
  {
   "cell_type": "code",
   "execution_count": null,
   "id": "70c8e6d0",
   "metadata": {},
   "outputs": [
    {
     "name": "stdout",
     "output_type": "stream",
     "text": [
      "Function introduction was called with arguements: John, 24\n"
     ]
    },
    {
     "data": {
      "text/plain": [
       "'Hi, my name is John and I am 24 years old '"
      ]
     },
     "execution_count": 19,
     "metadata": {},
     "output_type": "execute_result"
    }
   ],
   "source": [
    "introduction(\"John\", 24)"
   ]
  },
  {
   "cell_type": "markdown",
   "id": "2e5e9957",
   "metadata": {},
   "source": [
    "The above will work because age was'nt passed a keyword arguement."
   ]
  },
  {
   "cell_type": "markdown",
   "id": "6a7c2a16",
   "metadata": {},
   "source": [
    "In other to avoid this confusion we use the **`*arg`** and **`**kwargs`** in our wrapper in the decorator function and our function so the decorator can handle anytype of input"
   ]
  },
  {
   "cell_type": "code",
   "execution_count": 11,
   "id": "7ca90e6d",
   "metadata": {},
   "outputs": [],
   "source": [
    "def log_arguements(func):\n",
    "    def wrapper(*args, **kwargs):\n",
    "        print(f\"Function {func.__name__} was called with arguements: {args}, {kwargs}\")\n",
    "        return func(*args, **kwargs)\n",
    "    return wrapper"
   ]
  },
  {
   "cell_type": "code",
   "execution_count": 12,
   "id": "e3377dfd",
   "metadata": {},
   "outputs": [],
   "source": [
    "@log_arguements\n",
    "def introduction(name, age= 23):\n",
    "    return f\"Hi, my name is {name} and I am {age} years old \"\n"
   ]
  },
  {
   "cell_type": "code",
   "execution_count": 13,
   "id": "28689479",
   "metadata": {},
   "outputs": [
    {
     "name": "stdout",
     "output_type": "stream",
     "text": [
      "Function introduction was called with arguements: ('John',), {'age': 30}\n"
     ]
    },
    {
     "data": {
      "text/plain": [
       "'Hi, my name is John and I am 30 years old '"
      ]
     },
     "execution_count": 13,
     "metadata": {},
     "output_type": "execute_result"
    }
   ],
   "source": [
    "introduction(\"John\", age = 30)"
   ]
  },
  {
   "cell_type": "markdown",
   "id": "f048bea4",
   "metadata": {},
   "source": [
    "### **Writing a Decorator with a Class**"
   ]
  },
  {
   "cell_type": "markdown",
   "id": "c3737e50",
   "metadata": {},
   "source": [
    "So basically when we want to use a class as a blueprint for decorators (i.e instantiating decorators), we usually pass our function to the `__init__()` method (if we read OOP notebook the reason for this is very obvious... lol... so basicall it's so we can instantiate a decorator object for a specified function as we know upon instantiating the object python runs the `__init__()` method automatically)  and our wrapper function is defined as the callable method `__call__()`."
   ]
  },
  {
   "cell_type": "code",
   "execution_count": 30,
   "id": "a84ee00b",
   "metadata": {},
   "outputs": [],
   "source": [
    "class Decorator(object):\n",
    "    def __init__(self, func):\n",
    "        self.func  = func\n",
    "    \n",
    "    def __call__(self, *args, **kwargs):\n",
    "        print(f\"Function {self.func.__name__} was called with arguements: {args}, {kwargs}\")\n",
    "        return self.func(*args, **kwargs)\n",
    "        "
   ]
  },
  {
   "cell_type": "code",
   "execution_count": 31,
   "id": "30bf62e8",
   "metadata": {},
   "outputs": [],
   "source": [
    "@Decorator\n",
    "def introduction(name, age= 23):\n",
    "    return f\"Hi, my name is {name} and I am {age} years old \"\n"
   ]
  },
  {
   "cell_type": "code",
   "execution_count": 32,
   "id": "50b122df",
   "metadata": {},
   "outputs": [
    {
     "name": "stdout",
     "output_type": "stream",
     "text": [
      "Function introduction was called with arguements: ('John',), {'age': 30}\n"
     ]
    },
    {
     "data": {
      "text/plain": [
       "'Hi, my name is John and I am 30 years old '"
      ]
     },
     "execution_count": 32,
     "metadata": {},
     "output_type": "execute_result"
    }
   ],
   "source": [
    "introduction(\"John\", age = 30)"
   ]
  },
  {
   "cell_type": "markdown",
   "id": "4d1977aa",
   "metadata": {},
   "source": [
    "We can see classes can be used used to write decorators. some people use classes to write  decorators so as to levergae the capabilities of classes in their decorators but in most cases decorators are writing with functions."
   ]
  },
  {
   "cell_type": "markdown",
   "id": "d795401d",
   "metadata": {},
   "source": [
    "### **Forgetting who you are and finding yourself**"
   ]
  },
  {
   "cell_type": "markdown",
   "id": "6452c381",
   "metadata": {},
   "source": [
    "we already know that the decorator takes our function and adds some functionality to it, essentially by using a warapper function and the decorator returns the wrapper function. \n",
    "\n",
    "```python\n",
    "@decorator\n",
    "``` \n",
    "is the same as:\n",
    "```python\n",
    "decorator(func) \n",
    "```\n",
    "and then we know that the structure of our generator is:\n",
    "```python\n",
    "def decorator(func):\n",
    "    def wrapper(*args, **kwargs):\n",
    "       ....add some logic around func....\n",
    "       return the result of our optimisation on func\n",
    "    return wrapper       \n",
    "\n",
    "```"
   ]
  },
  {
   "cell_type": "markdown",
   "id": "5cbd9941",
   "metadata": {},
   "source": [
    "The implication of this is that whenever we use decorate our function with this decorator the decorated function returns `wrapper` consequently making our decorator function think it's name is wrapper."
   ]
  },
  {
   "cell_type": "code",
   "execution_count": 17,
   "id": "cc48ae45",
   "metadata": {},
   "outputs": [
    {
     "data": {
      "text/plain": [
       "'wrapper'"
      ]
     },
     "execution_count": 17,
     "metadata": {},
     "output_type": "execute_result"
    }
   ],
   "source": [
    "introduction.__name__"
   ]
  },
  {
   "cell_type": "code",
   "execution_count": 18,
   "id": "a81f69f1",
   "metadata": {},
   "outputs": [
    {
     "name": "stdout",
     "output_type": "stream",
     "text": [
      "Help on function wrapper in module __main__:\n",
      "\n",
      "wrapper(*args, **kwargs)\n",
      "\n"
     ]
    }
   ],
   "source": [
    "help(introduction)"
   ]
  },
  {
   "cell_type": "markdown",
   "id": "4e5a21a8",
   "metadata": {},
   "source": [
    "Well this is not harmful to us, but it can a pain in the ass to someone trying to study or test our code especially when we are chaining / stacking multiple decorators on a function. for example:\n",
    "\n",
    "```python\n",
    "@logger\n",
    "@timer\n",
    "\n",
    "def func():\n",
    "    .....\n",
    "```\n",
    "if the logger function is logging a message containing the name of then function `func` and it's arguement. instead of seeing `func` in our logs we would be seeing the `wrapper` for timer decorator which is not good. "
   ]
  },
  {
   "cell_type": "code",
   "execution_count": 23,
   "id": "69c3af2e",
   "metadata": {},
   "outputs": [],
   "source": [
    "def logger(func):\n",
    "    def wrapper(*args, **kwargs):\n",
    "        print(f\"Function {func.__name__} was called with arguements: {args}, {kwargs}\")\n",
    "        return func(*args, **kwargs)\n",
    "    return wrapper\n",
    "\n",
    "def timer(func):\n",
    "    import time\n",
    "    def time_wrapper(*args, **kwargs):\n",
    "        start =  time.time()\n",
    "        time.sleep(1) # delay time by 1 second\n",
    "        func(*args, **kwargs)\n",
    "        stop =  time.time()\n",
    "        total_time = stop -  start\n",
    "        return f\"{func.__name__}() ran in {total_time:.4f} seconds\"\n",
    "    return time_wrapper"
   ]
  },
  {
   "cell_type": "code",
   "execution_count": 24,
   "id": "50c20d27",
   "metadata": {},
   "outputs": [],
   "source": [
    "@logger\n",
    "@timer\n",
    "def greet(name, age):\n",
    "    print(f\"Hi, {name} is {age} years old.\")"
   ]
  },
  {
   "cell_type": "code",
   "execution_count": 26,
   "id": "31490e11",
   "metadata": {},
   "outputs": [
    {
     "name": "stdout",
     "output_type": "stream",
     "text": [
      "Function time_wrapper was called with arguements: ('James',), {'age': 25}\n",
      "Hi, James is 25 years old.\n"
     ]
    },
    {
     "data": {
      "text/plain": [
       "'greet() ran in 1.0012 seconds'"
      ]
     },
     "execution_count": 26,
     "metadata": {},
     "output_type": "execute_result"
    }
   ],
   "source": [
    "greet(\"James\", age=25)"
   ]
  },
  {
   "cell_type": "markdown",
   "id": "39de99d8",
   "metadata": {},
   "source": [
    "we can clearly see that the logged output says `time_wrapper` insted of `greet` this output can be confusing to someone trying to debug or understand our code.  \n",
    "\n",
    "this is because when we used multiple decorators \n",
    "we chained them:\n",
    "```python\n",
    "@logger\n",
    "@timer\n",
    "def func....\n",
    "```\n",
    "this is the same as \n",
    "```python\n",
    "logger(timer(func))\n",
    "```\n",
    "\n",
    "and the timmer decorator return it's wrapper which the logger took and logged.\n"
   ]
  },
  {
   "cell_type": "markdown",
   "id": "9107f5e4",
   "metadata": {},
   "source": [
    "To Fix this we would use the **`@functools.wraps`** decorator before our wrappers."
   ]
  },
  {
   "cell_type": "code",
   "execution_count": 27,
   "id": "e5b35b2d",
   "metadata": {},
   "outputs": [],
   "source": [
    "import functools\n",
    "def logger(func):\n",
    "    @functools.wraps(func)\n",
    "    def wrapper(*args, **kwargs):\n",
    "        print(f\"Function {func.__name__} was called with arguements: {args}, {kwargs}\")\n",
    "        return func(*args, **kwargs)\n",
    "    return wrapper\n",
    "\n",
    "def timer(func):\n",
    "    import time\n",
    "    @functools.wraps(func)\n",
    "    def time_wrapper(*args, **kwargs):\n",
    "        start =  time.time()\n",
    "        time.sleep(1) # delay time by 1 second\n",
    "        func(*args, **kwargs)\n",
    "        stop =  time.time()\n",
    "        total_time = stop -  start\n",
    "        return f\"{func.__name__}() ran in {total_time:.4f} seconds\"\n",
    "    return time_wrapper"
   ]
  },
  {
   "cell_type": "code",
   "execution_count": 28,
   "id": "18b10b07",
   "metadata": {},
   "outputs": [],
   "source": [
    "@logger\n",
    "@timer\n",
    "def greet(name, age):\n",
    "    print(f\"Hi, {name} is {age} years old.\")"
   ]
  },
  {
   "cell_type": "code",
   "execution_count": 29,
   "id": "4c7b1064",
   "metadata": {},
   "outputs": [
    {
     "name": "stdout",
     "output_type": "stream",
     "text": [
      "Function greet was called with arguements: ('James',), {'age': 25}\n",
      "Hi, James is 25 years old.\n"
     ]
    },
    {
     "data": {
      "text/plain": [
       "'greet() ran in 1.0013 seconds'"
      ]
     },
     "execution_count": 29,
     "metadata": {},
     "output_type": "execute_result"
    }
   ],
   "source": [
    "greet(\"James\", age=25)"
   ]
  },
  {
   "cell_type": "markdown",
   "id": "db0f1e6c",
   "metadata": {},
   "source": [
    "we can see now that this is much better. so when ever we are writing decorators that would be chained together we should always add **`@functools.wraps`** decorator before our wrapper code."
   ]
  },
  {
   "cell_type": "code",
   "execution_count": null,
   "id": "9c4a2c15",
   "metadata": {},
   "outputs": [],
   "source": []
  }
 ],
 "metadata": {
  "kernelspec": {
   "display_name": "Python 3",
   "language": "python",
   "name": "python3"
  },
  "language_info": {
   "codemirror_mode": {
    "name": "ipython",
    "version": 3
   },
   "file_extension": ".py",
   "mimetype": "text/x-python",
   "name": "python",
   "nbconvert_exporter": "python",
   "pygments_lexer": "ipython3",
   "version": "3.12.4"
  }
 },
 "nbformat": 4,
 "nbformat_minor": 5
}

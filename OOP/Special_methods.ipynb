{
 "cells": [
  {
   "cell_type": "markdown",
   "id": "ce1ecaec",
   "metadata": {},
   "source": [
    "## **Special Methods** - _Dunder Methods_"
   ]
  },
  {
   "cell_type": "markdown",
   "id": "f66fc288",
   "metadata": {},
   "source": [
    "In Python we have some special methods and attributes named Dunders (Double Underscore), they are also called Magic methods. They all have specific roles they play."
   ]
  },
  {
   "cell_type": "markdown",
   "id": "db3cd0ae",
   "metadata": {},
   "source": [
    "refer to this article to study about them [link](https://realpython.com/python-magic-methods/)"
   ]
  },
  {
   "cell_type": "markdown",
   "id": "e11edcb6",
   "metadata": {},
   "source": []
  }
 ],
 "metadata": {
  "language_info": {
   "name": "python"
  }
 },
 "nbformat": 4,
 "nbformat_minor": 5
}

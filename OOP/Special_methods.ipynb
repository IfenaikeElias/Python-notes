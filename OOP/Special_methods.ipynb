{
 "cells": [
  {
   "cell_type": "markdown",
   "id": "ce1ecaec",
   "metadata": {},
   "source": [
    "## **Special Methods**"
   ]
  },
  {
   "cell_type": "markdown",
   "id": "f66fc288",
   "metadata": {},
   "source": []
  },
  {
   "cell_type": "markdown",
   "id": "db3cd0ae",
   "metadata": {},
   "source": []
  }
 ],
 "metadata": {
  "language_info": {
   "name": "python"
  }
 },
 "nbformat": 4,
 "nbformat_minor": 5
}

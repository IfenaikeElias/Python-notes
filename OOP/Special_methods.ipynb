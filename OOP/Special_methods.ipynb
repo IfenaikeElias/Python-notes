{
 "cells": [
  {
   "cell_type": "markdown",
   "id": "ce1ecaec",
   "metadata": {},
   "source": [
    "## **Special Methods** - _Dunder Methods_"
   ]
  },
  {
   "cell_type": "markdown",
   "id": "f66fc288",
   "metadata": {},
   "source": [
    "In Python we have some special methods and attributes named Dunders (Double Underscore), they are also called Magic methods. They all have specific roles they play. They generally look like `__method()__` this convention is used so as to differentiate them from our own methods avoiding collision or overriding methods."
   ]
  },
  {
   "cell_type": "markdown",
   "id": "db3cd0ae",
   "metadata": {},
   "source": [
    "|Special Methods| Description|\n",
    "|---------------|------------|\n",
    "|`__init__()`   | Constructor or initializer in Python classes      |\n",
    "|`__str__()` and `__repr__()`      | Provide string representation for objects the first is user friendly and the second is developer friendly       |\n",
    "|`__call__()`| Makes the insance of a class callable |\n",
    "|`__len__()`| supports the `len()` function|"
   ]
  },
  {
   "cell_type": "markdown",
   "id": "fde7480a",
   "metadata": {},
   "source": [
    "This is just some of the popular ones we will go ahead to describe more. In general special methods help you to write better OOP code."
   ]
  },
  {
   "cell_type": "markdown",
   "id": "6c91ad56",
   "metadata": {},
   "source": [
    "#### **`__init__()`**\n",
    "\n",
    "This works as an object constructor or initializer, it allows class user to provide initial values to any instance attribute defined in the class which is crucial to defining the object."
   ]
  },
  {
   "cell_type": "code",
   "execution_count": 1,
   "id": "e51d3d89",
   "metadata": {},
   "outputs": [
    {
     "name": "stdout",
     "output_type": "stream",
     "text": [
      "21\n",
      "42\n"
     ]
    }
   ],
   "source": [
    "class Point:\n",
    "    def __init__(self, x, y):        \n",
    "        self.x = x\n",
    "        self.y = y\n",
    "\n",
    "point = Point(21, 42)\n",
    "print(point.x)\n",
    "print(point.y)\n"
   ]
  },
  {
   "cell_type": "markdown",
   "id": "ebd4fded",
   "metadata": {},
   "source": [
    "when you create a `point` instance python automatically calls the `__init__()` method under the hood, using the same arguements you passed into the class constructor. So we don't need to call the `__init__()` method ourselves."
   ]
  },
  {
   "cell_type": "markdown",
   "id": "3223b82b",
   "metadata": {},
   "source": [
    "#### **`__new__()`**\n",
    "\n",
    "When we call the class constructor to create a new object/ instance python automatically calls the `__new__()` method as a first step in the instantiation process. This method creates and returns a blank or empty new object of our underlying class. Then Python passes the just created object to `__init__()` for initialization (setting instances attribute and underlying logic). In most cases we won't need to write our own custom `.__new__()` method (or in otherword override the `__new__()` in built in python) as python handles that internally unless we are customizing immutable types like `tuple` or `string` classes, Controlling how instance are creating (implementing singletons or caching...etc) or we wish to skip/ bypass the `__init__()` for some reason, say we want the instance attribute to be initialized in a different way from our our `__init__()` those it... Giving an advantage of havinf something like multiple ways to initialize the object but with only one `__init__()` method."
   ]
  },
  {
   "cell_type": "markdown",
   "id": "4ea04b86",
   "metadata": {},
   "source": [
    "Let say in our `point` class we also want to be able to create a point object from polar coordinatea and not just rectangular coordinates."
   ]
  },
  {
   "cell_type": "code",
   "execution_count": null,
   "id": "50e224e7",
   "metadata": {},
   "outputs": [],
   "source": [
    "import math\n",
    "class point:\n",
    "    def __init__(self, x, y):\n",
    "        self.x = x\n",
    "        self.y = y\n",
    "\n",
    "    @classmethod\n",
    "    def from_polar(cls, radius, angle):\n",
    "        _instance = cls.__new__(cls)\n",
    "        _instance.x = radius * math.cos(angle)\n",
    "        _instance.y = radius * math.sin(radius)\n",
    "        return _instance\n",
    "\n",
    "        "
   ]
  },
  {
   "cell_type": "markdown",
   "id": "e11edcb6",
   "metadata": {},
   "source": [
    "So basically what we are doing here is call `__new__` to create a blank/ empty instance of point by bypassing `__init__`. Then we manually assign  attributes (x and y) to the empty instance, then retun the customized instnace. we did this because `__init__` required rectangular coordinates arguments (x and y), but we also want to be able to use radius and angle. Hence enabling us to construct the object in a completely custom way."
   ]
  },
  {
   "cell_type": "markdown",
   "id": "ba6074d6",
   "metadata": {},
   "source": [
    "\n",
    "\n",
    "\n",
    "So how do we use the `.__new__()` method to create **immutable types** ?\n",
    "\n",
    "We know if we are creating immutable types like `tuples, strings or int`,once these object are created we want to make sure they can't be modified. That means we can't use the `__init__()` to set attributes (think this way... \"in order to make sure these object can not be re-set with the init method\"). So to customize immutable objects we have to do this in `__new__()` instead. This is because `__new__()` will create new object instead of initialize (which can be leavaraged to mutate object)."
   ]
  },
  {
   "cell_type": "markdown",
   "id": "fd4cbe19",
   "metadata": {},
   "source": [
    "let's make an immutable point object!"
   ]
  },
  {
   "cell_type": "code",
   "execution_count": 13,
   "id": "f334c741",
   "metadata": {},
   "outputs": [],
   "source": [
    "class Point(tuple):\n",
    "    def __new__(cls, x, y):\n",
    "        # Create the tuple with the values (x, y)\n",
    "        return super().__new__(cls, (x, y))\n",
    "\n",
    "    @property\n",
    "    def x(self):\n",
    "        return self[0]\n",
    "\n",
    "    @property\n",
    "    def y(self):\n",
    "        return self[1]\n",
    "\n",
    "    \n"
   ]
  },
  {
   "cell_type": "code",
   "execution_count": 14,
   "id": "e2bfd49c",
   "metadata": {},
   "outputs": [
    {
     "name": "stdout",
     "output_type": "stream",
     "text": [
      "(3, 4)\n",
      "3\n",
      "3\n",
      "4\n"
     ]
    }
   ],
   "source": [
    "p = Point(3, 4)\n",
    "\n",
    "print(p)          # Point(x=3, y=4)\n",
    "print(p[0])       # 3\n",
    "print(p.x)        # 3\n",
    "print(p.y)        # 4\n",
    "\n"
   ]
  },
  {
   "cell_type": "code",
   "execution_count": 15,
   "id": "7f6470fe",
   "metadata": {},
   "outputs": [
    {
     "ename": "AttributeError",
     "evalue": "property 'x' of 'Point' object has no setter",
     "output_type": "error",
     "traceback": [
      "\u001b[31m---------------------------------------------------------------------------\u001b[39m",
      "\u001b[31mAttributeError\u001b[39m                            Traceback (most recent call last)",
      "\u001b[36mCell\u001b[39m\u001b[36m \u001b[39m\u001b[32mIn[15]\u001b[39m\u001b[32m, line 2\u001b[39m\n\u001b[32m      1\u001b[39m \u001b[38;5;66;03m# Try to mutate it:\u001b[39;00m\n\u001b[32m----> \u001b[39m\u001b[32m2\u001b[39m \u001b[43mp\u001b[49m\u001b[43m.\u001b[49m\u001b[43mx\u001b[49m = \u001b[32m10\u001b[39m          \u001b[38;5;66;03m# ❌ AttributeError\u001b[39;00m\n\u001b[32m      3\u001b[39m p[\u001b[32m0\u001b[39m] = \u001b[32m10\u001b[39m         \u001b[38;5;66;03m# ❌ TypeError: 'Point' object does not support item assignment\u001b[39;00m\n",
      "\u001b[31mAttributeError\u001b[39m: property 'x' of 'Point' object has no setter"
     ]
    }
   ],
   "source": [
    "# Try to mutate it:\n",
    "p.x = 10          # ❌ AttributeError\n",
    "p[0] = 10         # ❌ TypeError: 'Point' object does not support item assignment\n"
   ]
  },
  {
   "cell_type": "markdown",
   "id": "61b38af5",
   "metadata": {},
   "source": [
    "we used `__new__()` to pass (x, y)  as the tuple content and return a tuple object which is immutable."
   ]
  },
  {
   "cell_type": "markdown",
   "id": "d7d831d0",
   "metadata": {},
   "source": [
    "\n",
    "How do we use `__new__` to create **Singletons** ??"
   ]
  },
  {
   "cell_type": "markdown",
   "id": "cb2ffa67",
   "metadata": {},
   "source": [
    "**What is a Singleton ?**"
   ]
  },
  {
   "cell_type": "markdown",
   "id": "5bd1a755",
   "metadata": {},
   "source": [
    "A singleton is a class that allows only one instance to be created. Any attempt to instantiate it again shouldd return the same object that was initially created.\n",
    "This is useful when we want:\n",
    "1. A **Single point of access** (like a configuration manager, logger, or database connection).\n",
    "\n",
    "2. To control resources and avoid uneccesarry duplication. "
   ]
  },
  {
   "cell_type": "markdown",
   "id": "04f2a56f",
   "metadata": {},
   "source": [
    "`__new__()` helps us to control how and when a new object/ instnace is created. "
   ]
  },
  {
   "cell_type": "code",
   "execution_count": 21,
   "id": "d54e9634",
   "metadata": {},
   "outputs": [],
   "source": [
    "class Singleton:\n",
    "    _instance =  None\n",
    "    _initialized = False\n",
    "\n",
    "    def __new__(cls, *args, **kwargs):\n",
    "        if cls._instance is None:\n",
    "            print(\"creating a new instance ....\")\n",
    "            cls._instance = super().__new__(cls)\n",
    "        else:\n",
    "            print(\"Using existing instance ...\")\n",
    "\n",
    "        return cls._instance\n",
    "    def __init__(self, value):\n",
    "        if not self._initialized:\n",
    "            print(\"Initializing instance\")\n",
    "            self.value = value\n",
    "            self._initialized = False\n",
    "    \n",
    "        "
   ]
  },
  {
   "cell_type": "markdown",
   "id": "e7101966",
   "metadata": {},
   "source": [
    "So what's happening here ?\n",
    "The first time we call `Singleton(...)` `__new__()` sees `_instance` is None and proceeds to create the new instance usinf `super.__new__()`, then stores it in `_instance`,  after this we can use `__init__()` to set the object attribute provided that it has not be set before (consequently we are saying object has not been instantiated before). Any subsequent calls just return `_instance` (no new object is created because `_initialized` is set to False `__init__()` will not be called.)"
   ]
  },
  {
   "cell_type": "code",
   "execution_count": 22,
   "id": "93bf279b",
   "metadata": {},
   "outputs": [
    {
     "name": "stdout",
     "output_type": "stream",
     "text": [
      "creating a new instance ....\n",
      "Initializing instance\n",
      "first\n",
      "Using existing instance ...\n",
      "Initializing instance\n",
      "second\n",
      "True\n"
     ]
    }
   ],
   "source": [
    "a = Singleton(\"first\")\n",
    "print(a.value)  # first\n",
    "\n",
    "b = Singleton(\"second\")\n",
    "print(b.value)  # second (WARNING: __init__ ran again!)\n",
    "\n",
    "print(a is b)   \n"
   ]
  },
  {
   "cell_type": "markdown",
   "id": "401017b3",
   "metadata": {},
   "source": [
    "we can use this to configure all loggings in a multi-module application to go to a single file\n",
    "\n",
    "```python\n",
    "import logging\n",
    "\n",
    "class LoggerSingleton:\n",
    "    _instance = None\n",
    "\n",
    "    def __new__(cls, *args, **kwargs):\n",
    "        if not cls._instance:\n",
    "            cls._instance = super().__new__(cls)\n",
    "            cls._instance._initialize_logger()\n",
    "        return cls._instance\n",
    "\n",
    "    def _initialize_logger(self):\n",
    "        self.logger = logging.getLogger(\"AppLogger\")\n",
    "        self.logger.setLevel(logging.DEBUG)\n",
    "\n",
    "        if not self.logger.hasHandlers():  # Avoid adding duplicate handlers\n",
    "            handler = logging.StreamHandler()\n",
    "            formatter = logging.Formatter('%(asctime)s - %(levelname)s - %(message)s')\n",
    "            handler.setFormatter(formatter)\n",
    "            self.logger.addHandler(handler)\n",
    "\n",
    "    def get_logger(self):\n",
    "        return self.logger\n",
    "\n",
    "```"
   ]
  },
  {
   "cell_type": "markdown",
   "id": "2a312f2f",
   "metadata": {},
   "source": [
    "you might not want to use the Singleton pattern to build a logger:\n",
    "\n",
    "1. if you are writing a simple script or in a small module\n",
    "2. Using a framework (like Flask or Django) that already manages logging.\n",
    "3. if multi-process (not multi-thread) logging, as processes might want to write logs at the same time (this can lead to file or data curroption or incomplete logs and **Race Conditions or Concurrency Issues**)-  then you need process **safe** handing (or `QueueHandler`/ `pipe` which allows multiple processes to queue log messges, a `log listener` process can read from the queue and write to a log file ensuring that logs are written in the correct order withtout confliction) "
   ]
  },
  {
   "cell_type": "markdown",
   "id": "27a0663d",
   "metadata": {},
   "source": [
    "#### **`__repr___()`** - _Developer-Friendly Respresentations_"
   ]
  },
  {
   "cell_type": "code",
   "execution_count": null,
   "id": "7eb17147",
   "metadata": {},
   "outputs": [],
   "source": []
  }
 ],
 "metadata": {
  "kernelspec": {
   "display_name": "Python 3",
   "language": "python",
   "name": "python3"
  },
  "language_info": {
   "codemirror_mode": {
    "name": "ipython",
    "version": 3
   },
   "file_extension": ".py",
   "mimetype": "text/x-python",
   "name": "python",
   "nbconvert_exporter": "python",
   "pygments_lexer": "ipython3",
   "version": "3.12.4"
  }
 },
 "nbformat": 4,
 "nbformat_minor": 5
}

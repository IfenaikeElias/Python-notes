{
 "cells": [
  {
   "cell_type": "markdown",
   "id": "b67c1b58",
   "metadata": {},
   "source": [
    "### **OOP**"
   ]
  },
  {
   "cell_type": "markdown",
   "id": "3d76690a",
   "metadata": {},
   "source": [
    "**Objects**"
   ]
  },
  {
   "cell_type": "markdown",
   "id": "5fd9edd8",
   "metadata": {},
   "source": [
    "numbers, strings, all data structures, and everything in python are objects. An Object is essentially a piece of data in memory that has attributes (Data) and methods (behaviours). Object Instances are created from a class. \n",
    "\n",
    "A **Class** is an object blueprint, they are essentially blueprint in which objects are instantiated."
   ]
  },
  {
   "cell_type": "markdown",
   "id": "100aeb31",
   "metadata": {},
   "source": [
    "So we build an object with a class, think of a class like a template that takes all our customisations for the class we are creating and build our own object with a structure similar to the structure of the class itself. \n",
    "\n",
    "An **Instance** is an object that's built from a class. The proces of making an object from a class is called **Instantiation**, consequently, **objects** are instances of a class."
   ]
  },
  {
   "cell_type": "markdown",
   "id": "40dcd9bf",
   "metadata": {},
   "source": [
    "### **Creating a Class**"
   ]
  },
  {
   "cell_type": "markdown",
   "id": "df07719a",
   "metadata": {},
   "source": [
    "We can model real world objects with classes. Say we want to model a Dog, we can write a Dog class representing Dog -  not one dog but any dog (more like a dog template) it will contain data (attributes) like  `name` and `age` and methods (capabilities) like `sit()` and `roll_over()`."
   ]
  },
  {
   "cell_type": "code",
   "execution_count": 7,
   "id": "61347240",
   "metadata": {},
   "outputs": [],
   "source": [
    "class Dog:\n",
    "    \"\"\"A simple attempt to model a Dog\"\"\"\n",
    "    # Class variable/ attribute\n",
    "    species = \"Cannies familiaris\"\n",
    "\n",
    "    def __init__(self, name, age):\n",
    "        \"\"\"Initialize name and age info of dog (data)\"\"\"\n",
    "        # Instance variables\n",
    "        self.name = name\n",
    "        self.age = age\n",
    "\n",
    "    def sit(self):\n",
    "        \"\"\"Simulate a dog sitting in response to a command.\"\"\"\n",
    "        print(f\"{self.name} is now sitting.\")\n",
    "\n",
    "    def roll_over(self):\n",
    "        \"\"\"Simulate rolling over in response to a command.\"\"\"\n",
    "        print(f\"{self.name} rolled over!\")"
   ]
  },
  {
   "cell_type": "markdown",
   "id": "a423ac9f",
   "metadata": {},
   "source": [
    "A function associated to a class is called a method."
   ]
  },
  {
   "cell_type": "markdown",
   "id": "79e158be",
   "metadata": {},
   "source": [
    "The **`__int__()`** method is a special method that python runs automatically when we create a new instnace using the `Dog` class. So in other words python applies the init method to new class instances created. \n",
    "\n",
    "The init method has the `self` paramter and other parameters, usually the attribute associated with the class. "
   ]
  },
  {
   "cell_type": "markdown",
   "id": "9c2e716e",
   "metadata": {},
   "source": [
    "### **Instantiating an object from a Class**\n",
    "\n",
    "This is a fancy way for saying creating an object (or making an instance) from a class."
   ]
  },
  {
   "cell_type": "code",
   "execution_count": 2,
   "id": "385814e2",
   "metadata": {},
   "outputs": [
    {
     "ename": "TypeError",
     "evalue": "Dog.__init__() missing 2 required positional arguments: 'name' and 'age'",
     "output_type": "error",
     "traceback": [
      "\u001b[31m---------------------------------------------------------------------------\u001b[39m",
      "\u001b[31mTypeError\u001b[39m                                 Traceback (most recent call last)",
      "\u001b[36mCell\u001b[39m\u001b[36m \u001b[39m\u001b[32mIn[2]\u001b[39m\u001b[32m, line 1\u001b[39m\n\u001b[32m----> \u001b[39m\u001b[32m1\u001b[39m my_dog = \u001b[43mDog\u001b[49m\u001b[43m(\u001b[49m\u001b[43m)\u001b[49m\n",
      "\u001b[31mTypeError\u001b[39m: Dog.__init__() missing 2 required positional arguments: 'name' and 'age'"
     ]
    }
   ],
   "source": [
    "my_dog = Dog()"
   ]
  },
  {
   "cell_type": "markdown",
   "id": "78e6c837",
   "metadata": {},
   "source": [
    "here we get an error because we did note customize the class we are creating. Hence a class is just a template or blueprint to create an object we have to customize our own object using this class by specifying the attribute associated with our object as specified in the class e.g `name` and `age`"
   ]
  },
  {
   "cell_type": "code",
   "execution_count": 3,
   "id": "1c5d5281",
   "metadata": {},
   "outputs": [],
   "source": [
    "my_dog = Dog(\"Ruffles\", 2)"
   ]
  },
  {
   "cell_type": "markdown",
   "id": "8be1abe3",
   "metadata": {},
   "source": [
    "since we have created (`instantiated`) an object from the class `Dog` we might want to access the name of dog.\n",
    "\n",
    "from our class definition, the init method took the `self` paramter and set the name of self to `\"Ruffles\"` when we created the `my_dog` instance. \n",
    "\n",
    "hmmm. let's discuss what the self paramter represents: \n",
    "\n",
    "the self parameter is more or less a place holder for our object in the class definition. So when we instantiate an object the class takes our object in place of self and assigns our specified attributes to this object just like in:\n",
    "\n",
    "```python\n",
    "self.name = name\n",
    "self.age = age\n",
    "'''under the hood what happens when we instantiate the my_dog Object'''\n",
    "\n",
    "-> my_dog.name = \"Ruffles\"\n",
    "-> my_dog.age = 2\n",
    "\n",
    "```\n",
    "\n",
    "remember self is a place_holder for our object in the class (object blueprint)"
   ]
  },
  {
   "cell_type": "markdown",
   "id": "2e038753",
   "metadata": {},
   "source": [
    "### **Accessing Object's Attribute**\n",
    "\n",
    "to acces an attribute we do `object.attrubrute` i.e `my_dog.name`"
   ]
  },
  {
   "cell_type": "code",
   "execution_count": 9,
   "id": "a93b1563",
   "metadata": {},
   "outputs": [
    {
     "name": "stdout",
     "output_type": "stream",
     "text": [
      "My dog's name is Ruffles\n",
      "My dog is 2 years old.\n"
     ]
    }
   ],
   "source": [
    "print(f\"My dog's name is {my_dog.name}\")\n",
    "print(f\"My dog is {my_dog.age} years old.\")"
   ]
  },
  {
   "cell_type": "markdown",
   "id": "2e8e52dd",
   "metadata": {},
   "source": [
    "### **Calling Methods**"
   ]
  },
  {
   "cell_type": "markdown",
   "id": "12fd5496",
   "metadata": {},
   "source": [
    "After we created an instance `my_dog` from the class `Dog`, our object hass access to all the method defined in `Dog` (because the class is a blueprint/ template of our object).\n",
    "\n",
    "we can access our object method by doing `object.method()`. now let's make `my_dog` **roll over** and **sit**"
   ]
  },
  {
   "cell_type": "code",
   "execution_count": 12,
   "id": "93144a7c",
   "metadata": {},
   "outputs": [
    {
     "name": "stdout",
     "output_type": "stream",
     "text": [
      "Ruffles is now sitting.\n"
     ]
    }
   ],
   "source": [
    "my_dog.sit()"
   ]
  },
  {
   "cell_type": "code",
   "execution_count": 13,
   "id": "e5de2984",
   "metadata": {},
   "outputs": [
    {
     "name": "stdout",
     "output_type": "stream",
     "text": [
      "Ruffles rolled over!\n"
     ]
    }
   ],
   "source": [
    "my_dog.roll_over()"
   ]
  },
  {
   "cell_type": "markdown",
   "id": "da4315af",
   "metadata": {},
   "source": [
    "`my_dog` is just a singl instance created from this `Dog` class. we can create new objects from this class"
   ]
  },
  {
   "cell_type": "markdown",
   "id": "04eb9b9e",
   "metadata": {},
   "source": [
    "Let's play with classes and Instances a little bit before we move on."
   ]
  },
  {
   "cell_type": "markdown",
   "id": "bfa9cf1d",
   "metadata": {},
   "source": [
    "In this example we will set a **default** value for an attribute. This is usually called a class variable.\n",
    "\n",
    "**Class variables  or attributes** are attributes whose value is common to all instances of a class while **Instance variable or attributes** are attribute that we can set/ change/ customize (non default) when creating different lass instances.\n",
    "\n",
    "To demonstrate Class variables properly, we will instantiate two Dog objects. and we will notice they have the same `species` because they were made from a class with a default class variable."
   ]
  },
  {
   "cell_type": "code",
   "execution_count": 10,
   "id": "62bd6dc3",
   "metadata": {},
   "outputs": [
    {
     "name": "stdout",
     "output_type": "stream",
     "text": [
      "Cannies familiaris\n",
      "Cannies familiaris\n",
      "Cannies familiaris\n"
     ]
    }
   ],
   "source": [
    "my_dog = Dog(\"Ruffles\", 2)\n",
    "Eddies_dog = Dog(\"Chopper\", 3)\n",
    "moms_dog = Dog(\"Vinia\", 1)\n",
    "\n",
    "print(my_dog.species)\n",
    "print(Eddies_dog.species)\n",
    "print(moms_dog.species)"
   ]
  },
  {
   "cell_type": "markdown",
   "id": "577591db",
   "metadata": {},
   "source": [
    "Now each object has similar object variable `species` because they were instantiated from the same class where `species` was a class variable. if we modify one of the object variable (`species`) the rest will remain the same because the variable we are modifying belongs to that class alone, it's now more a object variable than a class variable to the object after the object has been instantiated from the class."
   ]
  },
  {
   "cell_type": "code",
   "execution_count": 12,
   "id": "a822b842",
   "metadata": {},
   "outputs": [
    {
     "name": "stdout",
     "output_type": "stream",
     "text": [
      "Cannies familiaris\n",
      "Canis lupus\n",
      "Cannies familiaris\n"
     ]
    }
   ],
   "source": [
    "Eddies_dog.species = \"Canis lupus\"\n",
    "print(my_dog.species)\n",
    "print(Eddies_dog.species) # we will notice a change here.\n",
    "print(moms_dog.species)"
   ]
  },
  {
   "cell_type": "markdown",
   "id": "111978f4",
   "metadata": {},
   "source": [
    "So we say class variables are specific to class, but once an object has been instantiated the version of thta class variable in the object is now more of a object variable and we might want to modify it for the object like we did for Eddie'd dog above. If we modify the class variable all object instantiated afterward will have a different species"
   ]
  },
  {
   "cell_type": "code",
   "execution_count": 13,
   "id": "d2d46d90",
   "metadata": {},
   "outputs": [
    {
     "name": "stdout",
     "output_type": "stream",
     "text": [
      "Canis lupus\n",
      "Canis lupus\n"
     ]
    }
   ],
   "source": [
    "Dog.species = \"Canis lupus\"\n",
    "\n",
    "dog1 = Dog(\"Buddy\", 3)\n",
    "dog2 = Dog(\"Lucy\", 2)\n",
    "\n",
    "print(dog1.species)\n",
    "print(dog2.species)"
   ]
  },
  {
   "cell_type": "markdown",
   "id": "d8009d14",
   "metadata": {},
   "source": [
    "**Default instance variables** behave like class variables. If a default class variable say a variable `status` of a class `resturant` is a default variable of the class. whenever any resturant object is instantiated, they all have the same `status` i.e `\"not yet open\"` and this default attribute behaves just like the class attribute/ variable we described above"
   ]
  },
  {
   "cell_type": "code",
   "execution_count": 8,
   "id": "c1d4cc0e",
   "metadata": {},
   "outputs": [],
   "source": [
    "# define a resturant class\n",
    "class Resturant:\n",
    "    \n",
    "    def __init__(self, resturant_name, cuisine_type):\n",
    "        # Set instance attribute (/ variables)\n",
    "        self.resturant_name = resturant_name\n",
    "        self.cuisine_type = cuisine_type\n",
    "        # Set a default value for a instance attribute (/variable)\n",
    "        self.status = \"not yet open\"\n",
    "\n",
    "    def describe_resturant(self):\n",
    "        # print short discription of resturant object\n",
    "        print(f\"\"\"The naame of the resturant is {self.resturant_name}\n",
    "they offer a {self.cuisine_type} cuisine.\n",
    "It's really lovely.\n",
    "              \"\"\")\n",
    "        \n",
    "    def check_status(self):\n",
    "        # print message telling resturant object status\n",
    "        print(f\" {self.resturant_name} is {self.status}!\")\n",
    "\n",
    "    "
   ]
  },
  {
   "cell_type": "code",
   "execution_count": 49,
   "id": "c1cc464b",
   "metadata": {},
   "outputs": [],
   "source": [
    "# Instantiate resturant object\n",
    "\n",
    "new_resturant =  Resturant(\"Cuba\", \"Spanish\")"
   ]
  },
  {
   "cell_type": "code",
   "execution_count": 50,
   "id": "708934d5",
   "metadata": {},
   "outputs": [
    {
     "name": "stdout",
     "output_type": "stream",
     "text": [
      "The name of the new resturant nearby is Cuba \n",
      "The cuisine type is Spanish\n"
     ]
    }
   ],
   "source": [
    "## Access resturant atrribute\n",
    "\n",
    "print(f\"The name of the new resturant nearby is {new_resturant.resturant_name} \")\n",
    "\n",
    "print(f\"The cuisine type is {new_resturant.cuisine_type}\")"
   ]
  },
  {
   "cell_type": "code",
   "execution_count": 51,
   "id": "c0d6dad6",
   "metadata": {},
   "outputs": [
    {
     "name": "stdout",
     "output_type": "stream",
     "text": [
      "The naame of the resturant is Cuba\n",
      "they offer a Spanish cuisine.\n",
      "It's really lovely.\n",
      "              \n"
     ]
    }
   ],
   "source": [
    "new_resturant.describe_resturant()"
   ]
  },
  {
   "cell_type": "code",
   "execution_count": 52,
   "id": "c1206687",
   "metadata": {},
   "outputs": [
    {
     "name": "stdout",
     "output_type": "stream",
     "text": [
      " Cuba is not yet open!\n"
     ]
    }
   ],
   "source": [
    "new_resturant.check_status()"
   ]
  },
  {
   "cell_type": "markdown",
   "id": "26b7d4bc",
   "metadata": {},
   "source": [
    "### **Modifying an Default instance attribute or class attribute manually** \n",
    "this approach is not nice...."
   ]
  },
  {
   "cell_type": "code",
   "execution_count": 53,
   "id": "511e8c24",
   "metadata": {},
   "outputs": [],
   "source": [
    "# set new_resturant status to open\n",
    "new_resturant.status = \"open\"\n"
   ]
  },
  {
   "cell_type": "markdown",
   "id": "18199ae6",
   "metadata": {},
   "source": [
    "#### **Modifying default instance attribute or class attribute using a method**"
   ]
  },
  {
   "cell_type": "code",
   "execution_count": 5,
   "id": "2a5b3123",
   "metadata": {},
   "outputs": [],
   "source": [
    " # define a resturant class\n",
    "class Resturant:\n",
    "    \n",
    "    def __init__(self, resturant_name, cuisine_type):\n",
    "        # Set instance attribute (/ variables)\n",
    "        self.resturant_name = resturant_name\n",
    "        self.cuisine_type = cuisine_type\n",
    "        # Set a default value for a instance attribute (/variable)\n",
    "        self.status = \"not yet open\"\n",
    "\n",
    "    def describe_resturant(self):\n",
    "        # print short discription of resturant object\n",
    "        print(f\"\"\"The naame of the resturant is {self.resturant_name}\n",
    "they offer a {self.cuisine_type} cuisine.\n",
    "It's really lovely.\n",
    "              \"\"\")\n",
    "        \n",
    "    def check_status(self):\n",
    "        # print message telling resturant object status\n",
    "        print(f\" {self.resturant_name} is {self.status}!\")\n",
    "\n",
    "    # function to modify default instance\n",
    "    def open_resturant(self):\n",
    "        # modify deault instance attribute \n",
    "        self.status =  \"Open\"\n",
    "        # print message showing status has changed to Open\n",
    "        print(f\" {self.resturant_name} is now {self.status}!\")\n"
   ]
  },
  {
   "cell_type": "code",
   "execution_count": 6,
   "id": "59459e12",
   "metadata": {},
   "outputs": [
    {
     "name": "stdout",
     "output_type": "stream",
     "text": [
      " Cuba is not yet open!\n"
     ]
    }
   ],
   "source": [
    "#Instantiate resturant object\n",
    "new_resturant =  Resturant(\"Cuba\", \"Spanish\")\n",
    "\n",
    "# check status\n",
    "new_resturant.check_status()\n"
   ]
  },
  {
   "cell_type": "code",
   "execution_count": 7,
   "id": "70922a47",
   "metadata": {},
   "outputs": [
    {
     "name": "stdout",
     "output_type": "stream",
     "text": [
      " Cuba is now Open!\n",
      "\n",
      "\n",
      "\n",
      " Cuba is Open!\n"
     ]
    }
   ],
   "source": [
    "# modify status\n",
    "new_resturant.open_resturant()\n",
    "print(\"\\n\\n\")\n",
    "# check status\n",
    "new_resturant.check_status()"
   ]
  },
  {
   "cell_type": "markdown",
   "id": "d54962f8",
   "metadata": {},
   "source": [
    "sometimes when we write a class, and leverage the fact that python automatically calls the `init` method upon creating our object to our own advantage. Besides defining class attribute we might also want to perform task like modifying our input in the `init` method, if our class methods need to work with a modified version of our input, instead of modifying the our input (or attribute) in every method or writng an extra method to modify this input and calling it in other methods."
   ]
  },
  {
   "cell_type": "markdown",
   "id": "7ca79b94",
   "metadata": {},
   "source": [
    "We will see in this:\n",
    "\n",
    "Let's create a string analyzer class"
   ]
  },
  {
   "cell_type": "code",
   "execution_count": 4,
   "id": "07afbd96",
   "metadata": {},
   "outputs": [],
   "source": [
    "from string import punctuation\n",
    "\n",
    "class Analyzer:\n",
    "    def __init__(self, s: str):\n",
    "        for each in s:\n",
    "            if each in punctuation:\n",
    "                s.replace(each, \"\")\n",
    "        s = s.lower()\n",
    "        self.words = s.split()\n",
    "    def number_of_words(self) -> int:\n",
    "        return len(self.words)\n",
    "    \n",
    "    def startswith(self, w) -> int:\n",
    "        return len([word for word in self.words if word[:len(w)]== w])\n",
    "    \n",
    "    def number_with_length(self, n) -> int:\n",
    "        return len([w for w in self.words if len(w)== n])"
   ]
  },
  {
   "cell_type": "code",
   "execution_count": 61,
   "id": "06842765",
   "metadata": {},
   "outputs": [
    {
     "name": "stdout",
     "output_type": "stream",
     "text": [
      "['this', 'is', 'just', 'a', 'test', 'of', 'the', 'class']\n"
     ]
    }
   ],
   "source": [
    "test = \"This is just a test of the class\"\n",
    "# Instantiate a analyzer object\n",
    "analyzer= Analyzer(test)\n",
    "\n",
    "# acces object attribute\n",
    "print(analyzer.words)"
   ]
  },
  {
   "cell_type": "code",
   "execution_count": 62,
   "id": "7d10d572",
   "metadata": {},
   "outputs": [
    {
     "name": "stdout",
     "output_type": "stream",
     "text": [
      "Number of words:  8\n",
      "Number of words starting with 't':  3\n",
      "Number of 2-letter words:  2\n"
     ]
    }
   ],
   "source": [
    "# Access object  methods\n",
    "\n",
    "print(\"Number of words: \", analyzer.number_of_words())\n",
    "\n",
    "print(\"Number of words starting with 't': \", analyzer.startswith(\"t\"))\n",
    "\n",
    "print(\"Number of 2-letter words: \", analyzer.number_with_length(2))"
   ]
  },
  {
   "cell_type": "code",
   "execution_count": 3,
   "id": "547f3d84",
   "metadata": {},
   "outputs": [],
   "source": [
    "class User:\n",
    "    def __init__(self, first_name, last_name,**kwargs):\n",
    "        self.first_name = first_name\n",
    "        self.last_name = last_name\n",
    "        self.user_profile = {\"User_name\": self.first_name + \" \" + self.last_name, \n",
    "                             **{each : kwargs[each] for each in kwargs.keys()}}\n",
    "\n",
    "    def describe_user(self):\n",
    "        return f\"\"\"User first name: {self.first_name}\n",
    "User last name: {self.last_name}\n",
    "User profile : {self.user_profile}\n",
    "\"\"\"\n",
    "    def greet_user(self):\n",
    "        return f\"Hi {self.first_name} nice to meet you\"\n",
    "\n",
    "\n",
    "        "
   ]
  },
  {
   "cell_type": "code",
   "execution_count": 64,
   "id": "76c7d692",
   "metadata": {},
   "outputs": [],
   "source": [
    "User_1=  User(\"Julie\", \"Mariana\", user_gender= \"F\", user_job = \"student\", user_height= 180.0, user_id= 123)"
   ]
  },
  {
   "cell_type": "code",
   "execution_count": 65,
   "id": "495f4f8c",
   "metadata": {},
   "outputs": [
    {
     "name": "stdout",
     "output_type": "stream",
     "text": [
      "User first name: Julie\n",
      "User last name: Mariana\n",
      "User profile : {'User_name': 'Julie Mariana', 'user_gender': 'F', 'user_job': 'student', 'user_height': 180.0, 'user_id': 123}\n",
      "\n"
     ]
    }
   ],
   "source": [
    "print(User_1.describe_user())"
   ]
  },
  {
   "cell_type": "code",
   "execution_count": 66,
   "id": "cfc52440",
   "metadata": {},
   "outputs": [
    {
     "name": "stdout",
     "output_type": "stream",
     "text": [
      "Hi Julie nice to meet you\n"
     ]
    }
   ],
   "source": [
    "print(User_1.greet_user())"
   ]
  },
  {
   "cell_type": "markdown",
   "id": "9d1848e0",
   "metadata": {},
   "source": [
    "**Tip**: For more code readability i can replace that dictionary comprehension and unpacking with the `update` method. "
   ]
  },
  {
   "cell_type": "code",
   "execution_count": 67,
   "id": "76512b0d",
   "metadata": {},
   "outputs": [
    {
     "name": "stdout",
     "output_type": "stream",
     "text": [
      "User first name: Julie\n",
      "User last name: Mariana\n",
      "User profile : {'User_name': 'Julie Mariana', 'user_gender': 'F', 'user_job': 'student', 'user_height': 180.0, 'user_id': 123}\n",
      "\n"
     ]
    }
   ],
   "source": [
    "class User():\n",
    "    def __init__(self, first_name, last_name,**kwargs):\n",
    "        self.first_name = first_name\n",
    "        self.last_name = last_name\n",
    "        # more readable than previous approach\n",
    "        self.user_profile = {\"User_name\": self.first_name + \" \" + self.last_name}\n",
    "        self.user_profile.update(kwargs)\n",
    "\n",
    "    def describe_user(self):\n",
    "        return f\"\"\"User first name: {self.first_name}\n",
    "User last name: {self.last_name}\n",
    "User profile : {self.user_profile}\n",
    "\"\"\"\n",
    "    def greet_user(self):\n",
    "        return f\"Hi {self.first_name} nice to meet you\"\n",
    "\n",
    "\n",
    "User_1=  User(\"Julie\", \"Mariana\", user_gender= \"F\", user_job = \"student\", user_height= 180.0, user_id= 123)\n",
    "print(User_1.describe_user())"
   ]
  },
  {
   "cell_type": "markdown",
   "id": "51d9d961",
   "metadata": {},
   "source": [
    "Let's take a step futher and add an attribute `login_attempts` to User class, and write methods for increasing user login attempts `increment_login_attempts()` and a method ro reset login attempts to 0, `reset_login_attempts()` and more interesting methods"
   ]
  },
  {
   "cell_type": "code",
   "execution_count": 2,
   "id": "745d7eea",
   "metadata": {},
   "outputs": [],
   "source": [
    "from typing import Optional\n",
    "class User:\n",
    "    def __init__(self, first_name: str, last_name: str, password: Optional[str]= None, **kwargs):\n",
    "        self.first_name = first_name\n",
    "        self.last_name = last_name\n",
    "        self.password = password\n",
    "        # more readable than previous approach\n",
    "        self.user_profile = {\"User_name\": self.first_name + \" \" + self.last_name}\n",
    "        self.user_profile.update(kwargs)\n",
    "        self.login_attempts = 0\n",
    "        self.loggedIn = False\n",
    "\n",
    "    def describe_user(self):\n",
    "        if self.loggedIn:\n",
    "            return f\"\"\"User first name: {self.first_name}\n",
    "    User last name: {self.last_name}\n",
    "    User profile : {self.user_profile}\n",
    "\"\"\"\n",
    "        else:\n",
    "            print(\"you have to loggin to view user profile\")\n",
    "            \n",
    "    def greet_user(self):\n",
    "        return f\"Hi {self.first_name} nice to meet you\"\n",
    "    \n",
    "    def login_to_view_profile(self):\n",
    "        while self.loggedIn ==  False:\n",
    "            user_name = input(\"Enter User name: \")\n",
    "            password = input(\"Enter password: \")\n",
    "            if self.password:\n",
    "                if user_name.lower() == self.first_name.lower() and password == self.password:\n",
    "                    print(f\"you are logged in as {self.first_name}!\")\n",
    "                    self.reset_login_attempts()\n",
    "                    self.loggedIn = True\n",
    "                else:\n",
    "                    print(\"Wrong credentials.\")\n",
    "                    self.increment_login_attempt()\n",
    "            else:\n",
    "                print(\"Create a password before attempting to login\")\n",
    "                self.reset_password()\n",
    "\n",
    "    def reset_password(self):\n",
    "        new_password = input(\"Enter new password: \")\n",
    "        set_password = True\n",
    "        while  set_password:\n",
    "            if new_password:\n",
    "                self.password = new_password\n",
    "                print(\"Password has been succesfully reset\")\n",
    "                set_password = False\n",
    "            else:\n",
    "                print(\"you cannot enter an empty password. Please try again\")\n",
    "        \n",
    "\n",
    "\n",
    "    def increment_login_attempt(self):\n",
    "        self.login_attempts += 1\n",
    "\n",
    "    def reset_login_attempts(self):\n",
    "        self.login_attempts = 0\n",
    "        \n"
   ]
  },
  {
   "cell_type": "code",
   "execution_count": 3,
   "id": "b9f39de0",
   "metadata": {},
   "outputs": [],
   "source": [
    "User_X=  User(\"Julia\", \"Franches\", user_gender= \"F\", user_job = \"student\", user_height= 180.0, user_id= \"123XY2C\")\n"
   ]
  },
  {
   "cell_type": "code",
   "execution_count": 4,
   "id": "7e56bc0a",
   "metadata": {},
   "outputs": [],
   "source": [
    "# when we instantiated the object User_X we did not create a password. so password is set as our default value : None\n",
    "User_X.password"
   ]
  },
  {
   "cell_type": "code",
   "execution_count": 5,
   "id": "529dc21b",
   "metadata": {},
   "outputs": [
    {
     "name": "stdout",
     "output_type": "stream",
     "text": [
      "you have to loggin to view user profile\n"
     ]
    }
   ],
   "source": [
    "User_X.describe_user()"
   ]
  },
  {
   "cell_type": "code",
   "execution_count": 6,
   "id": "20a2cfc3",
   "metadata": {},
   "outputs": [
    {
     "name": "stdout",
     "output_type": "stream",
     "text": [
      "Create a password before attempting to login\n",
      "Password has been succesfully reset\n",
      "you are logged in as Julia!\n"
     ]
    }
   ],
   "source": [
    "User_X.login_to_view_profile()"
   ]
  },
  {
   "cell_type": "code",
   "execution_count": 7,
   "id": "dd794ff5",
   "metadata": {},
   "outputs": [
    {
     "name": "stdout",
     "output_type": "stream",
     "text": [
      "User first name: Julia\n",
      "    User last name: Franches\n",
      "    User profile : {'User_name': 'Julia Franches', 'user_gender': 'F', 'user_job': 'student', 'user_height': 180.0, 'user_id': '123XY2C'}\n",
      "\n"
     ]
    }
   ],
   "source": [
    "print(User_X.describe_user())"
   ]
  },
  {
   "cell_type": "markdown",
   "id": "9dfda5ff",
   "metadata": {},
   "source": [
    "Say we are interested in tracking the number of object a class creates. we will create a class variable called number_of_users and in our `__init__()` method we will increment this class variable by 1, so any time we instantiate a new object, the number_of_users increases by one."
   ]
  },
  {
   "cell_type": "code",
   "execution_count": 9,
   "id": "88614a6d",
   "metadata": {},
   "outputs": [],
   "source": [
    "from typing import Optional\n",
    "class User:\n",
    "    number_of_users = 0\n",
    "    def __init__(self, first_name: str, last_name: str, password: Optional[str]= None, **kwargs):\n",
    "        self.first_name = first_name\n",
    "        self.last_name = last_name\n",
    "        self.password = password\n",
    "        # more readable than previous approach\n",
    "        self.user_profile = {\"User_name\": self.first_name + \" \" + self.last_name}\n",
    "        self.user_profile.update(kwargs)\n",
    "        self.login_attempts = 0\n",
    "        self.loggedIn = False\n",
    "        User.number_of_users += 1 # we use User.number_of_user because this attribute is tied to our class not the instance we are creating\n",
    "\n",
    "    def describe_user(self):\n",
    "        if self.loggedIn:\n",
    "            return f\"\"\"User first name: {self.first_name}\n",
    "    User last name: {self.last_name}\n",
    "    User profile : {self.user_profile}\n",
    "\"\"\"\n",
    "        else:\n",
    "            print(\"you have to loggin to view user profile\")\n",
    "            \n",
    "    def greet_user(self):\n",
    "        return f\"Hi {self.first_name} nice to meet you\"\n",
    "    \n",
    "    def login_to_view_profile(self):\n",
    "        while self.loggedIn ==  False:\n",
    "            user_name = input(\"Enter User name: \")\n",
    "            password = input(\"Enter password: \")\n",
    "            if self.password:\n",
    "                if user_name.lower() == self.first_name.lower() and password == self.password:\n",
    "                    print(f\"you are logged in as {self.first_name}!\")\n",
    "                    self.reset_login_attempts()\n",
    "                    self.loggedIn = True\n",
    "                else:\n",
    "                    print(\"Wrong credentials.\")\n",
    "                    self.increment_login_attempt()\n",
    "            else:\n",
    "                print(\"Create a password before attempting to login\")\n",
    "                self.reset_password()\n",
    "\n",
    "    def reset_password(self):\n",
    "        new_password = input(\"Enter new password: \")\n",
    "        set_password = True\n",
    "        while  set_password:\n",
    "            if new_password:\n",
    "                self.password = new_password\n",
    "                print(\"Password has been succesfully reset\")\n",
    "                set_password = False\n",
    "            else:\n",
    "                print(\"you cannot enter an empty password. Please try again\")\n",
    "        \n",
    "\n",
    "\n",
    "    def increment_login_attempt(self):\n",
    "        self.login_attempts += 1\n",
    "\n",
    "    def reset_login_attempts(self):\n",
    "        self.login_attempts = 0\n",
    "        \n"
   ]
  },
  {
   "cell_type": "code",
   "execution_count": null,
   "id": "a386a3c8",
   "metadata": {},
   "outputs": [
    {
     "name": "stdout",
     "output_type": "stream",
     "text": [
      "3\n"
     ]
    }
   ],
   "source": [
    "User_1 = User(\"Julia\", \"Sanches\")\n",
    "User_2 = User(\"Asiencio\", \"Daves\")\n",
    "User_3 = User(\"Lamin\", \"Yamal\")\n",
    "print(User.number_of_users) # Output 3"
   ]
  },
  {
   "cell_type": "markdown",
   "id": "da73ff33",
   "metadata": {},
   "source": [
    "### **Setters, Getters and Deleters**"
   ]
  },
  {
   "cell_type": "markdown",
   "id": "0ce7fcc5",
   "metadata": {},
   "source": [
    "When we create an object from a class, this object has some attributes (which a basically just variables). These attribute hold the internal state (condition) of the object, in most cases we will need ti access or modify these this attributes. Typically there are two ways to do this:\n",
    "1. **Access and mutate the attribute diretly**\n",
    "\n",
    "2. **Use `Methods(setters and getters)` to mutate and access these attribute**"
   ]
  },
  {
   "cell_type": "markdown",
   "id": "63d5ea65",
   "metadata": {},
   "source": [
    "I believe one reason why we would only want to modify a class attribute on instance level and it's not safe to modify this manually as user or other part of our code might modify the value of these attribute to what we percieve as invalid or incorrect, so writing a method, such that object can set their own class attribute and this vlaue that we set it to is valid (based on certain criteria)"
   ]
  },
  {
   "cell_type": "markdown",
   "id": "b0515b0f",
   "metadata": {},
   "source": [
    "we can also write methods called setters to overwrite our class attributes after a certain condition is met or something changes in our code."
   ]
  },
  {
   "cell_type": "markdown",
   "id": "9377ff4c",
   "metadata": {},
   "source": [
    "let's take a look at this `Product` class"
   ]
  },
  {
   "cell_type": "code",
   "execution_count": null,
   "id": "3122306a",
   "metadata": {},
   "outputs": [],
   "source": [
    "class Product:\n",
    "    def __init__(self, price):\n",
    "        self.price = price\n",
    "        "
   ]
  },
  {
   "cell_type": "markdown",
   "id": "2157c687",
   "metadata": {},
   "source": [
    "now we can create a product and set `price` upon instantiating that product. let's say we want to appply some `discount` to that product and after a discount is applied price is modified."
   ]
  },
  {
   "cell_type": "code",
   "execution_count": 10,
   "id": "9a6303a2",
   "metadata": {},
   "outputs": [],
   "source": [
    "class Product:\n",
    "    def __init__(self, price):\n",
    "        self.price = price\n",
    "    def apply_discount(self, discount):\n",
    "        self.price =  self.price * (1 - discount/100)\n"
   ]
  },
  {
   "cell_type": "markdown",
   "id": "903ee660",
   "metadata": {},
   "source": [
    "this way i can instantiate a object, and I can apply a discount to it's price using the `apply_discount` method.\n"
   ]
  },
  {
   "cell_type": "code",
   "execution_count": 11,
   "id": "4bc47716",
   "metadata": {},
   "outputs": [
    {
     "data": {
      "text/plain": [
       "12.0"
      ]
     },
     "execution_count": 11,
     "metadata": {},
     "output_type": "execute_result"
    }
   ],
   "source": [
    "prod_1 =  Product(12.0)\n",
    "prod_1.price"
   ]
  },
  {
   "cell_type": "code",
   "execution_count": 12,
   "id": "4d55498b",
   "metadata": {},
   "outputs": [],
   "source": [
    "# apply discount\n",
    "prod_1.apply_discount(20)"
   ]
  },
  {
   "cell_type": "code",
   "execution_count": 9,
   "id": "b5944091",
   "metadata": {},
   "outputs": [
    {
     "data": {
      "text/plain": [
       "9.600000000000001"
      ]
     },
     "execution_count": 9,
     "metadata": {},
     "output_type": "execute_result"
    }
   ],
   "source": [
    "# access the price\n",
    "prod_1.price"
   ]
  },
  {
   "cell_type": "markdown",
   "id": "ea237fd2",
   "metadata": {},
   "source": [
    "but allowing the user of our code to access the class state manually can be dangerous, breaking both our code and the user code. our intention might be we don't want user to modify the price of the product unless there was an increase or decrease or discount in the price. but the user can access and modify the price without our permission\n"
   ]
  },
  {
   "cell_type": "code",
   "execution_count": 13,
   "id": "7a7a6c2e",
   "metadata": {},
   "outputs": [],
   "source": [
    "prod_1.price = 300"
   ]
  },
  {
   "cell_type": "code",
   "execution_count": 14,
   "id": "d42e9c77",
   "metadata": {},
   "outputs": [
    {
     "data": {
      "text/plain": [
       "{'price': 300}"
      ]
     },
     "execution_count": 14,
     "metadata": {},
     "output_type": "execute_result"
    }
   ],
   "source": [
    "prod_1.__dict__"
   ]
  },
  {
   "cell_type": "markdown",
   "id": "961ad198",
   "metadata": {},
   "source": [
    "we can solve this problem by making price a `private variable`, but python doesn't support private variables. by convention we start private variables by starting their name with a single `underscore` so user knows that this is a private variable as python does not have `access modifiers (e.g public, private and protected)`. Another way to solve this is by writing `setter` and `getter` methods.\n",
    "to help set `price` and get `price`. this way price will no longer be handled as a variable."
   ]
  },
  {
   "cell_type": "markdown",
   "id": "05706dc6",
   "metadata": {},
   "source": [
    "A **Getter** is a method that allows you to access an attribute in a given class.\n",
    "\n",
    "A **Setter** is a method that allows you to set or mutate the value of an attribute ina a class."
   ]
  },
  {
   "cell_type": "markdown",
   "id": "88f7a2bc",
   "metadata": {},
   "source": [
    "Once we know that a attribute will change internally in our implementation at some point we use a getter and setter method  for such attribute."
   ]
  },
  {
   "cell_type": "code",
   "execution_count": 2,
   "id": "b069b7ab",
   "metadata": {},
   "outputs": [],
   "source": [
    "class Product:\n",
    "    def __init__(self, base_price):\n",
    "        self._base_price = base_price # set base price as a private variable\n",
    "        self._discount = 0\n",
    "    def set_discount(self, value):\n",
    "        self._discount = value # set discount for a specific product\n",
    "    def get_discount(self):\n",
    "        return self._discount # return discount for a specific product\n",
    "    def set_price(self, new_price):\n",
    "        self._base_price =  new_price / (1 - self._discount/100) # Adjust base price, base_price becomes price before discount\n",
    "    def get_price(self):\n",
    "        return self._base_price * (1 - self._discount/100) # return price after discount\n",
    "        \n"
   ]
  },
  {
   "cell_type": "code",
   "execution_count": 4,
   "id": "00008b4f",
   "metadata": {},
   "outputs": [
    {
     "name": "stdout",
     "output_type": "stream",
     "text": [
      "90.0\n",
      "120.00000000000001\n"
     ]
    }
   ],
   "source": [
    "prod_1 = Product(100)  # Base price is 100\n",
    "prod_1.set_discount(10)  # Apply 10% discount\n",
    "print(prod_1.get_price())  # Should print 90 (100 - 10% discount)\n",
    "\n",
    "prod_1.set_price(120)  # Update the price after the discount\n",
    "print(prod_1.get_price())  # Should print 108 (120 with 10% discount)\n"
   ]
  },
  {
   "cell_type": "markdown",
   "id": "97519132",
   "metadata": {},
   "source": [
    "now our setter method allows us to explicitly set constraint for our attributes. like dicount would not be a negative value"
   ]
  },
  {
   "cell_type": "code",
   "execution_count": 5,
   "id": "26e5a4f7",
   "metadata": {},
   "outputs": [],
   "source": [
    "class Product:\n",
    "    def __init__(self, base_price):\n",
    "        self._base_price = base_price  # Set base price as a private variable\n",
    "        self._discount = 0  # Initial discount is 0%\n",
    "\n",
    "    def set_discount(self, value):\n",
    "        if value < 0:\n",
    "            # Raise an exception if the discount is negative\n",
    "            raise ValueError(\"Discount cannot be negative.\")\n",
    "        elif value > 100:\n",
    "            # Raise an exception if the discount is greater than 100\n",
    "            raise ValueError(\"Discount cannot be greater than 100.\")\n",
    "        self._discount = value  # Set discount for a specific product\n",
    "\n",
    "    def get_discount(self):\n",
    "        return self._discount  # Return the discount for a specific product\n",
    "\n",
    "    def set_price(self, new_price):\n",
    "        # Adjust base price so that after applying the discount, the price is `new_price`\n",
    "        if new_price <= 0:\n",
    "            raise ValueError(\"Price must be positive.\")\n",
    "        self._base_price = new_price / (1 - self._discount / 100)  # Calculate original base price based on new price and discount\n",
    "\n",
    "    def get_price(self):\n",
    "        return self._base_price * (1 - self._discount / 100)  # Return price after applying discount\n",
    "        \n"
   ]
  },
  {
   "cell_type": "code",
   "execution_count": 6,
   "id": "8af9cc67",
   "metadata": {},
   "outputs": [
    {
     "name": "stdout",
     "output_type": "stream",
     "text": [
      "Discount cannot be negative.\n",
      "Current discount: 0\n"
     ]
    }
   ],
   "source": [
    "product = Product(100)\n",
    "try:\n",
    "    product.set_discount(-2)  # This should raise an exception\n",
    "except ValueError as e:\n",
    "    print(e)  # Output: Discount cannot be negative.\n",
    "\n",
    "print(f\"Current discount: {product.get_discount()}\")  # Should still be 0 since the invalid discount wasn't set\n"
   ]
  },
  {
   "cell_type": "markdown",
   "id": "d508b19f",
   "metadata": {},
   "source": [
    "Great but the problem with this is that what ever code the user of our class has written will become broken as we have made a lot of code changes to our class. like earlier the user was able to acces price like an attribute but now he can't/"
   ]
  },
  {
   "cell_type": "code",
   "execution_count": 9,
   "id": "dae985e2",
   "metadata": {},
   "outputs": [
    {
     "ename": "AttributeError",
     "evalue": "'Product' object has no attribute 'price'",
     "output_type": "error",
     "traceback": [
      "\u001b[31m---------------------------------------------------------------------------\u001b[39m",
      "\u001b[31mAttributeError\u001b[39m                            Traceback (most recent call last)",
      "\u001b[36mCell\u001b[39m\u001b[36m \u001b[39m\u001b[32mIn[9]\u001b[39m\u001b[32m, line 1\u001b[39m\n\u001b[32m----> \u001b[39m\u001b[32m1\u001b[39m \u001b[43mprod_1\u001b[49m\u001b[43m.\u001b[49m\u001b[43mprice\u001b[49m\n",
      "\u001b[31mAttributeError\u001b[39m: 'Product' object has no attribute 'price'"
     ]
    }
   ],
   "source": [
    "prod_1.price"
   ]
  },
  {
   "cell_type": "code",
   "execution_count": null,
   "id": "61cc4d8c",
   "metadata": {},
   "outputs": [],
   "source": []
  },
  {
   "cell_type": "markdown",
   "id": "f9fa7333",
   "metadata": {},
   "source": [
    "to solve this we will see the **`@property`** decorator"
   ]
  },
  {
   "cell_type": "markdown",
   "id": "8459747c",
   "metadata": {},
   "source": [
    "### **Using the @property decorator for setting and getting (The pythonic way)**"
   ]
  },
  {
   "cell_type": "markdown",
   "id": "17fb080c",
   "metadata": {},
   "source": [
    "A property is basically a way pack together methods for getting, setting, deleting and documemting underlying data. so properties are special attributes with additional behaviour. properties enable methods to behave like attribute. "
   ]
  },
  {
   "cell_type": "code",
   "execution_count": 12,
   "id": "1b0bf5b6",
   "metadata": {},
   "outputs": [],
   "source": [
    "class Product:\n",
    "    def __init__(self, base_price):\n",
    "        self._base_price =  base_price\n",
    "        self._discount = 0\n",
    "\n",
    "    @property\n",
    "    def price(self):\n",
    "        return self._base_price * (1 - self._discount/ 100)\n",
    "    @price.setter\n",
    "    def price(self, new_price):\n",
    "        self._base_price = new_price/ (1 -  self._discount/100)\n",
    "    \n",
    "    @property\n",
    "    def discount(self):\n",
    "        return self._discount\n",
    "    @discount.setter\n",
    "    def discount(self, value):\n",
    "        self._discount =  value"
   ]
  },
  {
   "cell_type": "code",
   "execution_count": 13,
   "id": "49983472",
   "metadata": {},
   "outputs": [],
   "source": [
    "prod_1 = Product(100)"
   ]
  },
  {
   "cell_type": "markdown",
   "id": "54b4c0ff",
   "metadata": {},
   "source": [
    "Now the part of user code `prod_1.price` that broke when we made code changes (write getters and setters method) will not break as `price` is now a method that behaves like an attribute or an attribute that behaves like a method."
   ]
  },
  {
   "cell_type": "code",
   "execution_count": 15,
   "id": "555a1db0",
   "metadata": {},
   "outputs": [
    {
     "data": {
      "text/plain": [
       "100.0"
      ]
     },
     "execution_count": 15,
     "metadata": {},
     "output_type": "execute_result"
    }
   ],
   "source": [
    "prod_1.price #get price"
   ]
  },
  {
   "cell_type": "markdown",
   "id": "01abcb9e",
   "metadata": {},
   "source": [
    "One thing about using `@property` is that as we defined the price setter with `@price.setter` decorator above it we expect a it to be a method that takes in one arguement `value` as parameter, but the `@property` decorator makes it behanve like an attribut instead that can be assigned to that one arguemment we specified."
   ]
  },
  {
   "cell_type": "code",
   "execution_count": 19,
   "id": "8f07a43d",
   "metadata": {},
   "outputs": [
    {
     "ename": "TypeError",
     "evalue": "'float' object is not callable",
     "output_type": "error",
     "traceback": [
      "\u001b[31m---------------------------------------------------------------------------\u001b[39m",
      "\u001b[31mTypeError\u001b[39m                                 Traceback (most recent call last)",
      "\u001b[36mCell\u001b[39m\u001b[36m \u001b[39m\u001b[32mIn[19]\u001b[39m\u001b[32m, line 2\u001b[39m\n\u001b[32m      1\u001b[39m \u001b[38;5;66;03m# what we expect to work, but will not work\u001b[39;00m\n\u001b[32m----> \u001b[39m\u001b[32m2\u001b[39m \u001b[43mprod_1\u001b[49m\u001b[43m.\u001b[49m\u001b[43mprice\u001b[49m\u001b[43m(\u001b[49m\u001b[32;43m120\u001b[39;49m\u001b[43m)\u001b[49m\n",
      "\u001b[31mTypeError\u001b[39m: 'float' object is not callable"
     ]
    }
   ],
   "source": [
    "# what we expect to work, but will not work\n",
    "prod_1.price(120)"
   ]
  },
  {
   "cell_type": "code",
   "execution_count": 20,
   "id": "42d53821",
   "metadata": {},
   "outputs": [],
   "source": [
    "#set price\n",
    "prod_1.price = 120"
   ]
  },
  {
   "cell_type": "markdown",
   "id": "f956fa2c",
   "metadata": {},
   "source": [
    "Say we don't want user to change the price of a product after instantiating it, we can remove the product price setter method"
   ]
  },
  {
   "cell_type": "code",
   "execution_count": 22,
   "id": "b2ff5d1f",
   "metadata": {},
   "outputs": [],
   "source": [
    "class Product:\n",
    "    def __init__(self, base_price):\n",
    "        self._base_price =  base_price\n",
    "        self._discount = 0\n",
    "\n",
    "    @property\n",
    "    def price(self):\n",
    "        return self._base_price * (1 - self._discount/ 100)\n",
    "    \n",
    "    @property\n",
    "    def discount(self):\n",
    "        return self._discount\n",
    "    @discount.setter\n",
    "    def discount(self, value):\n",
    "        self._discount =  value"
   ]
  },
  {
   "cell_type": "code",
   "execution_count": 25,
   "id": "6052aeb4",
   "metadata": {},
   "outputs": [
    {
     "name": "stdout",
     "output_type": "stream",
     "text": [
      "100.0\n"
     ]
    }
   ],
   "source": [
    "prod_1 = Product(100)\n",
    "print(prod_1.price)"
   ]
  },
  {
   "cell_type": "code",
   "execution_count": 26,
   "id": "93388f9c",
   "metadata": {},
   "outputs": [
    {
     "ename": "AttributeError",
     "evalue": "property 'price' of 'Product' object has no setter",
     "output_type": "error",
     "traceback": [
      "\u001b[31m---------------------------------------------------------------------------\u001b[39m",
      "\u001b[31mAttributeError\u001b[39m                            Traceback (most recent call last)",
      "\u001b[36mCell\u001b[39m\u001b[36m \u001b[39m\u001b[32mIn[26]\u001b[39m\u001b[32m, line 1\u001b[39m\n\u001b[32m----> \u001b[39m\u001b[32m1\u001b[39m \u001b[43mprod_1\u001b[49m\u001b[43m.\u001b[49m\u001b[43mprice\u001b[49m = \u001b[32m200\u001b[39m\n",
      "\u001b[31mAttributeError\u001b[39m: property 'price' of 'Product' object has no setter"
     ]
    }
   ],
   "source": [
    "prod_1.price = 200"
   ]
  },
  {
   "cell_type": "markdown",
   "id": "fb51595a",
   "metadata": {},
   "source": [
    "As we can see we get this error:\n",
    "```python\n",
    "AttributeError: property 'price' of 'Product' object has no setter\n",
    "```\n",
    "user is only allowed to play with discount.\n"
   ]
  },
  {
   "cell_type": "markdown",
   "id": "ff7b28c9",
   "metadata": {},
   "source": [
    "### **Class methods and Static methods**"
   ]
  },
  {
   "cell_type": "markdown",
   "id": "2f4e805a",
   "metadata": {},
   "source": [
    "Instance, class and static method all play different role and they enable us to write clean, maintainable and reusable code. **Instance methods** as we have used so far use the `self` to operate on objects created from our class as we have seen so far, **class methods** use the `cls` instead of `self` to work with class attributes and **static methods** provide a organized structure to build utility functionalitythat don't need class or instance attribute. class and static methods within our class can improve class design, maintainabily and general structuring."
   ]
  },
  {
   "cell_type": "markdown",
   "id": "04c43cfd",
   "metadata": {},
   "source": [
    "well instance methods as we know modify and access instance state using the `self` parameter, but they are also capable of modifying class state (wow) through `self.__class__`"
   ]
  },
  {
   "cell_type": "markdown",
   "id": "c31931a0",
   "metadata": {},
   "source": [
    "We use the `@classmethod` and `@staticmethod` decorators when writing class and static methods"
   ]
  },
  {
   "cell_type": "code",
   "execution_count": 8,
   "id": "8279666e",
   "metadata": {},
   "outputs": [],
   "source": [
    "class MyClass:\n",
    "    def instance_method(self): \n",
    "        return (\"instance method called\", self)\n",
    "    \n",
    "    @classmethod\n",
    "    def class_method(cls):\n",
    "        return (\"class method called\", cls)\n",
    "    \n",
    "    @staticmethod\n",
    "    def static_method():\n",
    "        return (\"static method called\",)"
   ]
  },
  {
   "cell_type": "code",
   "execution_count": 9,
   "id": "c2af7ae5",
   "metadata": {},
   "outputs": [
    {
     "name": "stdout",
     "output_type": "stream",
     "text": [
      "('instance method called', <__main__.MyClass object at 0x000001A1BD026870>)\n",
      "('class method called', <class '__main__.MyClass'>)\n",
      "('static method called',)\n"
     ]
    }
   ],
   "source": [
    "my_cls_ogj =  MyClass()\n",
    "print(my_cls_ogj.instance_method())\n",
    "print(my_cls_ogj.class_method())\n",
    "print(my_cls_ogj.static_method())"
   ]
  },
  {
   "cell_type": "markdown",
   "id": "9f626de5",
   "metadata": {},
   "source": [
    "this is a demonstration that we are writing instance methods to work at instance level, class object to work at class level (i.e on class) and instance method don't work with the instance or class. essentially the `class_method` doesn't have access to the `my_cls_obj` that the that the `instance_method` has access to."
   ]
  },
  {
   "cell_type": "markdown",
   "id": "c37e0bb2",
   "metadata": {},
   "source": [
    "we'll demostrate this by writing a pizza class"
   ]
  },
  {
   "cell_type": "code",
   "execution_count": 18,
   "id": "85cea718",
   "metadata": {},
   "outputs": [],
   "source": [
    "from typing import List\n",
    "class Pizza:\n",
    "    # class constructur... controls object instantiation\n",
    "    def __init__(self, toppings: List[str]):\n",
    "        self.toppings = toppings\n",
    "    \n",
    "    # customize object representation\n",
    "    def __repr__(self):\n",
    "        return f\"Pizza with {\" \".join(self.toppings)} toppings\"\n",
    "    \n",
    "    # Instance methods\n",
    "    def add_topping(self, topping: str):\n",
    "        self.toppings.append(topping)\n",
    "    "
   ]
  },
  {
   "cell_type": "code",
   "execution_count": 19,
   "id": "e250a224",
   "metadata": {},
   "outputs": [
    {
     "data": {
      "text/plain": [
       "Pizza with cheese tomatoes toppings"
      ]
     },
     "execution_count": 19,
     "metadata": {},
     "output_type": "execute_result"
    }
   ],
   "source": [
    "Pizza([\"cheese\", \"tomatoes\"])"
   ]
  },
  {
   "cell_type": "markdown",
   "id": "8be4ff55",
   "metadata": {},
   "source": [
    "**When to use instance methods**\n",
    "\n",
    "These are the most common methods in python classes, we have been using them all along, We use instance methods when we want to implement some functionality that can access and modify the state of an instance."
   ]
  },
  {
   "cell_type": "markdown",
   "id": "a1ccc174",
   "metadata": {},
   "source": [
    "say our clumsy customer wants to change toppings on his/her pizza we can write `add_topping` and `remove_topping` instance methods to make changes to any pizza instance/ object we already created."
   ]
  },
  {
   "cell_type": "code",
   "execution_count": 21,
   "id": "c4663280",
   "metadata": {},
   "outputs": [],
   "source": [
    "class Pizza:\n",
    "    # class constructur... controls object instantiation\n",
    "    def __init__(self, toppings: List[str]):\n",
    "        self.toppings = toppings\n",
    "    \n",
    "    # customize object representation\n",
    "    def __repr__(self):\n",
    "        return f\"Pizza with {\" \".join(self.toppings)} toppings\"\n",
    "    \n",
    "    # Instance methods\n",
    "    \n",
    "    def add_topping(self, topping: str):\n",
    "        self.toppings.append(topping)\n",
    "\n",
    "    def remove_topping(self, topping):\n",
    "        self.toppings.remove(topping)\n"
   ]
  },
  {
   "cell_type": "code",
   "execution_count": 24,
   "id": "47c9a7cf",
   "metadata": {},
   "outputs": [
    {
     "data": {
      "text/plain": [
       "Pizza with cheese tomatoes toppings"
      ]
     },
     "execution_count": 24,
     "metadata": {},
     "output_type": "execute_result"
    }
   ],
   "source": [
    "mia_pizza =  Pizza([\"cheese\", \"tomatoes\"])\n",
    "\n",
    "mia_pizza"
   ]
  },
  {
   "cell_type": "code",
   "execution_count": 25,
   "id": "088f5d9b",
   "metadata": {},
   "outputs": [
    {
     "data": {
      "text/plain": [
       "Pizza with cheese tomatoes garlic toppings"
      ]
     },
     "execution_count": 25,
     "metadata": {},
     "output_type": "execute_result"
    }
   ],
   "source": [
    "mia_pizza.add_topping(\"garlic\")\n",
    "\n",
    "mia_pizza"
   ]
  },
  {
   "cell_type": "code",
   "execution_count": 26,
   "id": "e4c8649f",
   "metadata": {},
   "outputs": [
    {
     "data": {
      "text/plain": [
       "Pizza with tomatoes garlic toppings"
      ]
     },
     "execution_count": 26,
     "metadata": {},
     "output_type": "execute_result"
    }
   ],
   "source": [
    "mia_pizza.remove_topping(\"cheese\")\n",
    "\n",
    "mia_pizza"
   ]
  },
  {
   "cell_type": "markdown",
   "id": "b631718e",
   "metadata": {},
   "source": [
    "### **When to use class methods**"
   ]
  },
  {
   "cell_type": "markdown",
   "id": "5691ddb5",
   "metadata": {},
   "source": [
    "Basically when there is a need to modify or access class attribute/ data. Class methods can also be used to create factory methods that that return class instances with specific configurations."
   ]
  },
  {
   "cell_type": "markdown",
   "id": "90ab82a6",
   "metadata": {},
   "source": [
    "An example of this, say people just specify the variation of pizza they want, these variations usually come with differny toppings. so we can create some pizza variation as class objects.\n"
   ]
  },
  {
   "cell_type": "code",
   "execution_count": 30,
   "id": "566e69f9",
   "metadata": {},
   "outputs": [],
   "source": [
    "class Pizza:\n",
    "    # class constructur... controls object instantiation\n",
    "    def __init__(self, toppings: List[str]):\n",
    "        self.toppings = toppings\n",
    "\n",
    "    # customize object representation\n",
    "    def __repr__(self):\n",
    "        return f\"Pizza with {\" \".join(self.toppings)} toppings\"\n",
    "\n",
    "    # Instance methods\n",
    "\n",
    "    def add_topping(self, topping: str):\n",
    "        self.toppings.append(topping)\n",
    "\n",
    "    def remove_topping(self, topping):\n",
    "        self.toppings.remove(topping)\n",
    "\n",
    "    # class methods\n",
    "    @classmethod\n",
    "    def margherita(cls):\n",
    "        return cls([\"mozzarella\", \"tomatoes\"])\n",
    "    \n",
    "    @classmethod\n",
    "    def proscuitto(cls):\n",
    "        return cls([\"mozeralla\", \"tomatoes\", \"ham\"])\n"
   ]
  },
  {
   "cell_type": "code",
   "execution_count": 31,
   "id": "48a23dc4",
   "metadata": {},
   "outputs": [
    {
     "data": {
      "text/plain": [
       "Pizza with mozzarella tomatoes toppings"
      ]
     },
     "execution_count": 31,
     "metadata": {},
     "output_type": "execute_result"
    }
   ],
   "source": [
    "Pizza.margherita()"
   ]
  },
  {
   "cell_type": "code",
   "execution_count": 33,
   "id": "d50c0d56",
   "metadata": {},
   "outputs": [
    {
     "data": {
      "text/plain": [
       "Pizza with mozeralla tomatoes ham toppings"
      ]
     },
     "execution_count": 33,
     "metadata": {},
     "output_type": "execute_result"
    }
   ],
   "source": [
    "Pizza.proscuitto()"
   ]
  },
  {
   "cell_type": "markdown",
   "id": "ba018abd",
   "metadata": {},
   "source": [
    "these class methods serve as factory methods to produce specific configurations of our class.  This is a trick we can use to follow the **DRY (Don't Repeat Yourself) principle** because all the class method use thesame constructor \"`__init__()`\" of the class and  hence we don't have to write different constructors for each class method and when we change the name of the class we don't have to update several constructots."
   ]
  },
  {
   "cell_type": "markdown",
   "id": "13e7e286",
   "metadata": {},
   "source": [
    "Another usefulness of class methods is that they allow us to write alternative constructors for our class if needed, by default python allows only one `__init__` method in our class, but when we define class methods we can add an alternative constructor "
   ]
  },
  {
   "cell_type": "code",
   "execution_count": 70,
   "id": "19018a46",
   "metadata": {},
   "outputs": [],
   "source": [
    "import math\n",
    "class point:\n",
    "    def __init__(self, x, y):\n",
    "        self.x = x\n",
    "        self.y = y\n",
    "    def __repr__(self):\n",
    "        return f\"{self.x}, {self.y}\"\n",
    "\n",
    "    @classmethod\n",
    "    def from_polar(cls, radius, angle):\n",
    "        instance = cls.__new__(cls)\n",
    "        instance.x = radius * math.cos(angle)\n",
    "        instance.y =  radius * math.sin(angle)\n",
    "        return instance"
   ]
  },
  {
   "cell_type": "code",
   "execution_count": 72,
   "id": "751e07fe",
   "metadata": {},
   "outputs": [
    {
     "data": {
      "text/plain": [
       "0.3085028997751681, -1.9760632481857237"
      ]
     },
     "execution_count": 72,
     "metadata": {},
     "output_type": "execute_result"
    }
   ],
   "source": [
    "point.from_polar(2, 30)"
   ]
  },
  {
   "cell_type": "markdown",
   "id": "79800b76",
   "metadata": {},
   "source": [
    "### **When to use static methods**"
   ]
  },
  {
   "cell_type": "markdown",
   "id": "5c93bee5",
   "metadata": {},
   "source": [
    "Static methods are used when you need a utiity function that doesn't access or modify class or innstance data, but the functionality it provide still logically belongs within the classe's domain and namespace."
   ]
  },
  {
   "cell_type": "markdown",
   "id": "7697f3dc",
   "metadata": {},
   "source": [
    "let's add a static function to fetch diamter of pizza based on size."
   ]
  },
  {
   "cell_type": "code",
   "execution_count": 34,
   "id": "d360eabe",
   "metadata": {},
   "outputs": [],
   "source": [
    "class Pizza:\n",
    "    # class constructur... controls object instantiation\n",
    "    def __init__(self, toppings: List[str]):\n",
    "        self.toppings = toppings\n",
    "\n",
    "    # customize object representation\n",
    "    def __repr__(self):\n",
    "        return f\"Pizza with {\" \".join(self.toppings)} toppings\"\n",
    "\n",
    "    # Instance methods\n",
    "\n",
    "    def add_topping(self, topping: str):\n",
    "        self.toppings.append(topping)\n",
    "\n",
    "    def remove_topping(self, topping):\n",
    "        self.toppings.remove(topping)\n",
    "\n",
    "    # class methods\n",
    "    @classmethod\n",
    "    def margherita(cls):\n",
    "        return cls([\"mozzarella\", \"tomatoes\"])\n",
    "    \n",
    "    @classmethod\n",
    "    def proscuitto(cls):\n",
    "        return cls([\"mozeralla\", \"tomatoes\", \"ham\"])\n",
    "    \n",
    "    # Static method\n",
    "    @staticmethod\n",
    "    def get_size_in_inches(size):\n",
    "        size_map = {\n",
    "            \"small\": 8,\n",
    "            \"medium\": 12,\n",
    "            \"large\": 16\n",
    "        }\n",
    "\n",
    "        return size_map.get(size, \"Unkown size\")\n"
   ]
  },
  {
   "cell_type": "code",
   "execution_count": 35,
   "id": "b139cc2b",
   "metadata": {},
   "outputs": [
    {
     "data": {
      "text/plain": [
       "12"
      ]
     },
     "execution_count": 35,
     "metadata": {},
     "output_type": "execute_result"
    }
   ],
   "source": [
    "Pizza.get_size_in_inches(\"medium\")"
   ]
  },
  {
   "cell_type": "code",
   "execution_count": 52,
   "id": "f4780f07",
   "metadata": {},
   "outputs": [
    {
     "name": "stdout",
     "output_type": "stream",
     "text": [
      "a large size margherita is 16 inches in diameter\n",
      "a large size Pizza is 16 inches in diameter\n"
     ]
    }
   ],
   "source": [
    "my_pizza = Pizza.margherita()\n",
    "print(f\"a large size {my_pizza.margherita.__name__} is {my_pizza.get_size_in_inches(\"large\")} inches in diameter\")\n",
    "print(f\"a large size {Pizza.__name__} is {my_pizza.get_size_in_inches(\"large\")} inches in diameter\")\n"
   ]
  },
  {
   "cell_type": "markdown",
   "id": "2f882e10",
   "metadata": {},
   "source": [
    "we can see even though the `get_size_in_inches` method doesn't take the instance or class as arguement it is still associated with the class and any instance created from the class."
   ]
  },
  {
   "cell_type": "markdown",
   "id": "406efc05",
   "metadata": {},
   "source": [
    "Using all three method types intentionally reduces bugs and improves maintainability by setting up structured boundaries in class design.\n"
   ]
  },
  {
   "cell_type": "markdown",
   "id": "e5a387df",
   "metadata": {},
   "source": [
    "### **The Four Key Concepts/Pillars of OOP**"
   ]
  },
  {
   "cell_type": "markdown",
   "id": "1d7d3716",
   "metadata": {},
   "source": [
    "The Four core concepts of OOP includes:\n",
    "\n",
    "1. **Inheritance**\n",
    "2. **Encapsulation**\n",
    "3. **Polymorphism**\n",
    "4. **Abstraction**"
   ]
  },
  {
   "cell_type": "markdown",
   "id": "1b8e7f25",
   "metadata": {},
   "source": [
    "### **Inheritance**"
   ]
  },
  {
   "cell_type": "markdown",
   "id": "a44ac7de",
   "metadata": {},
   "source": [
    "Iheritance brings about an **is a** relationship say we have a `Derived class` which inherits from a `base class`. you have created a relationship where the Drived class **is a** specialized version of the Base class.\n",
    "\n",
    "Hence a class that inherits from another class is called a `Subclass` or `subtypes` or `derived class` or `child class`, while the class which other classes are derived from or inherit from is called the `Parent class` or `Super class`.\n",
    "\n",
    "say we have an `Employee` class and we want to be specific and create different type of employees say `Developer` and  `Manager` which are types of emplyee hence will have `methods` and `attribute` thesame or similar to the `Employee` class, Instead of repeating thesame code for `methods` and `attributes` from the `Employee` class in the `Developer` and `Manager` class we will `inherit` these `methods` and `attributes` in the two classes (or subclasses)\n",
    "\n"
   ]
  },
  {
   "cell_type": "code",
   "execution_count": 1,
   "id": "3fcdcffc",
   "metadata": {},
   "outputs": [],
   "source": [
    "class  Employee:\n",
    "    raise_amount = 1.04\n",
    "\n",
    "    def __init__(self, first_name, last_name, payment):\n",
    "        self.first = first_name\n",
    "        self.last = last_name\n",
    "        self.email =  first_name + \".\" + last_name + \"@email.com\"\n",
    "        self.pay = payment\n",
    "\n",
    "    def fullname(self):\n",
    "        return '{} {}'.format(self.first, self.last)\n",
    "\n",
    "    def apply_raise(self):\n",
    "        self.pay = int(self.pay * self.raise_amount)\n",
    "\n",
    "\n"
   ]
  },
  {
   "cell_type": "markdown",
   "id": "3989c121",
   "metadata": {},
   "source": [
    "now let's creat the `Developer` subclass that inherits from our employee class.\n",
    "\n",
    "we will pass the `parent class` (Employee) as an arguement to the `child class` (Developer)"
   ]
  },
  {
   "cell_type": "code",
   "execution_count": 2,
   "id": "7bfa6bfd",
   "metadata": {},
   "outputs": [],
   "source": [
    "class Developer(Employee):\n",
    "    pass"
   ]
  },
  {
   "cell_type": "code",
   "execution_count": 3,
   "id": "43ce9c11",
   "metadata": {},
   "outputs": [
    {
     "name": "stdout",
     "output_type": "stream",
     "text": [
      "Help on class Developer in module __main__:\n",
      "\n",
      "class Developer(Employee)\n",
      " |  Developer(first_name, last_name, payment)\n",
      " |\n",
      " |  Method resolution order:\n",
      " |      Developer\n",
      " |      Employee\n",
      " |      builtins.object\n",
      " |\n",
      " |  Methods inherited from Employee:\n",
      " |\n",
      " |  __init__(self, first_name, last_name, payment)\n",
      " |      Initialize self.  See help(type(self)) for accurate signature.\n",
      " |\n",
      " |  apply_raise(self)\n",
      " |\n",
      " |  fullname(self)\n",
      " |\n",
      " |  ----------------------------------------------------------------------\n",
      " |  Data descriptors inherited from Employee:\n",
      " |\n",
      " |  __dict__\n",
      " |      dictionary for instance variables\n",
      " |\n",
      " |  __weakref__\n",
      " |      list of weak references to the object\n",
      " |\n",
      " |  ----------------------------------------------------------------------\n",
      " |  Data and other attributes inherited from Employee:\n",
      " |\n",
      " |  raise_amount = 1.04\n",
      "\n",
      "None\n"
     ]
    }
   ],
   "source": [
    "print(help(Developer))"
   ]
  },
  {
   "cell_type": "code",
   "execution_count": 5,
   "id": "80b14aa4",
   "metadata": {},
   "outputs": [
    {
     "name": "stdout",
     "output_type": "stream",
     "text": [
      "70000\n",
      "72800\n"
     ]
    }
   ],
   "source": [
    "dev1 = Developer(\"Mike\", \"Simsons\", 70000)\n",
    "print(dev1.pay)\n",
    "dev1.apply_raise()\n",
    "print(dev1.pay)"
   ]
  },
  {
   "cell_type": "markdown",
   "id": "f07fb388",
   "metadata": {},
   "source": [
    "Without writing any code to our `Developer` class, We see that when we call the help function on this class it has the `Methods` and `attributes` of the `Employee` class. This is because it inherits from the Employee class"
   ]
  },
  {
   "cell_type": "markdown",
   "id": "9a74bc79",
   "metadata": {},
   "source": [
    "let's customize our subclass. if we want to specify what programming language each developer write. we can add this as an attribute specific to our deveoper class not the Employee class. In order to do this we will have to define an `__init__() method` for our Developer class. In order for python not to consfuse this `__init__()` method  with the `__init__()` method from our parent class which we are inheriting from we will have to specify using `Super()` which `__init__()` method belongs to the parent class. "
   ]
  },
  {
   "cell_type": "code",
   "execution_count": null,
   "id": "04accdad",
   "metadata": {},
   "outputs": [],
   "source": [
    "class Developer(Employee):\n",
    "    \n",
    "    def __init__(self, first_name, last_name, payment, prog_lang):\n",
    "        super().__init__(first_name, last_name, payment)\n",
    "        self.language =  prog_lang"
   ]
  },
  {
   "cell_type": "code",
   "execution_count": 9,
   "id": "02429bff",
   "metadata": {},
   "outputs": [],
   "source": [
    "dev1 = Developer(\"Mike\", \"Simson\", 70000, \"Java\")"
   ]
  },
  {
   "cell_type": "code",
   "execution_count": 10,
   "id": "b99edaf9",
   "metadata": {},
   "outputs": [
    {
     "name": "stdout",
     "output_type": "stream",
     "text": [
      "70000\n",
      "Java\n"
     ]
    }
   ],
   "source": [
    "print(dev1.pay)\n",
    "print(dev1.language)"
   ]
  },
  {
   "cell_type": "markdown",
   "id": "7f30aaf9",
   "metadata": {},
   "source": [
    "We can continue to write a `Manager` class which is a subclass of the Employee class, it should have `employees` attribute, a list storing all employees which the manager is supervising and methods to add, remove and print employees under that manager."
   ]
  },
  {
   "cell_type": "code",
   "execution_count": null,
   "id": "70c999d7",
   "metadata": {},
   "outputs": [],
   "source": [
    "from typing import Optional, List\n",
    "class Manager(Employee):\n",
    "    def __init__(self, first_name, last_name, payment, employees: Optional[List[Employee]]= None):\n",
    "        super().__init__(first_name, last_name, payment)\n",
    "        if employees is None:\n",
    "            self._employees  =  []\n",
    "        else:\n",
    "            self._employees =  employees\n",
    "\n",
    "    def add_employee(self, employee):\n",
    "        if employee not in self._employees:\n",
    "            self._employees.append(employee)\n",
    "        \n",
    "    def remove_employee(self, employee):\n",
    "        if employee in self._employees:\n",
    "            self._employees.remove(employee)\n",
    "    def print_employees(self):\n",
    "        if self._employees:\n",
    "            for emp in self._employees:\n",
    "                print(f\" ---> {emp.fullname()}\")\n",
    "        else:\n",
    "            print(\"No employees under management.\")\n"
   ]
  },
  {
   "cell_type": "code",
   "execution_count": 35,
   "id": "52d0ef4a",
   "metadata": {},
   "outputs": [],
   "source": [
    "dev1 = Developer(\"Mike\", \"Simson\", 70000, \"Java\")\n",
    "dev2 = Developer(\"Brandon\", \"Catcher\", 70000, \"Python\")\n",
    "Manager1 = Manager(\"Xian\", \"Luang\", 100000, employees= [dev1])"
   ]
  },
  {
   "cell_type": "code",
   "execution_count": 36,
   "id": "87f78bf9",
   "metadata": {},
   "outputs": [],
   "source": [
    "Manager1.add_employee(dev2)"
   ]
  },
  {
   "cell_type": "code",
   "execution_count": 37,
   "id": "fa9f9c14",
   "metadata": {},
   "outputs": [
    {
     "name": "stdout",
     "output_type": "stream",
     "text": [
      " ---> Mike Simson\n",
      " ---> Brandon Catcher\n"
     ]
    }
   ],
   "source": [
    "Manager1.print_employees()"
   ]
  },
  {
   "cell_type": "code",
   "execution_count": 38,
   "id": "7914b216",
   "metadata": {},
   "outputs": [],
   "source": [
    "Manager1.remove_employee(dev1)"
   ]
  },
  {
   "cell_type": "code",
   "execution_count": 39,
   "id": "a4e1b5a1",
   "metadata": {},
   "outputs": [
    {
     "name": "stdout",
     "output_type": "stream",
     "text": [
      " ---> Brandon Catcher\n"
     ]
    }
   ],
   "source": [
    "Manager1.print_employees()"
   ]
  },
  {
   "cell_type": "markdown",
   "id": "aa338757",
   "metadata": {},
   "source": [
    "### **Over writing Parent class attributes and instances in child class or subclass**"
   ]
  },
  {
   "cell_type": "markdown",
   "id": "87eee5f2",
   "metadata": {},
   "source": [
    "Okay so sometimes we might want to overide (or redifine) class attributes or method from the parent class in our child class because of some reason. inheritance also allows us to do it. Hence we can over ride class instances or methods while inheriting some of them."
   ]
  },
  {
   "cell_type": "markdown",
   "id": "6321a94c",
   "metadata": {},
   "source": [
    "let's put the whole code together...."
   ]
  },
  {
   "cell_type": "code",
   "execution_count": 40,
   "id": "bd0a02e7",
   "metadata": {},
   "outputs": [],
   "source": [
    "from typing import Optional, List\n",
    "class  Employee:\n",
    "    raise_amount = 1.04\n",
    "\n",
    "    def __init__(self, first_name, last_name, payment):\n",
    "        self.first = first_name\n",
    "        self.last = last_name\n",
    "        self.email =  first_name + \".\" + last_name + \"@email.com\"\n",
    "        self.pay = payment\n",
    "\n",
    "    def fullname(self):\n",
    "        return '{} {}'.format(self.first, self.last)\n",
    "\n",
    "    def apply_raise(self):\n",
    "        self.pay = int(self.pay * self.raise_amount)\n",
    "        \n",
    "class Developer(Employee):\n",
    "    \n",
    "    def __init__(self, first_name, last_name, payment, prog_lang):\n",
    "        super().__init__(first_name, last_name, payment)\n",
    "        self.language =  prog_lang\n",
    "        \n",
    "class Manager(Employee):\n",
    "    def __init__(self, first_name, last_name, payment, employees: Optional[List[Employee]]= None):\n",
    "        super().__init__(first_name, last_name, payment)\n",
    "        if employees is None:\n",
    "            self._employees  =  []\n",
    "        else:\n",
    "            self._employees =  employees\n",
    "\n",
    "    def add_employee(self, employee):\n",
    "        if employee not in self._employees:\n",
    "            self._employees.append(employee)\n",
    "        \n",
    "    def remove_employee(self, employee):\n",
    "        if employee in self._employees:\n",
    "            self._employees.remove(employee)\n",
    "    def print_employees(self):\n",
    "        if self._employees:\n",
    "            for emp in self._employees:\n",
    "                print(f\" ---> {emp.fullname()}\")\n",
    "        else:\n",
    "            print(\"No employees under management.\")\n"
   ]
  },
  {
   "cell_type": "markdown",
   "id": "e38394ef",
   "metadata": {},
   "source": [
    "Right now all subclasses are inheriting from our base class `Employee` hence they all share the same `raise_amount` attribute as we see in the above, it is a class attribute of the base class, hence all other derived class also have that attribute, we might want the Developers to have more raise than regular employee and we might want the Managers to have the higher raises. \n",
    "What we can do is over right the attribute `raise_amount` in every class, and say we want Managers emails to have a different format we can overight these too in the Manager class."
   ]
  },
  {
   "cell_type": "markdown",
   "id": "0b67e1e0",
   "metadata": {},
   "source": [
    "If we override the `raise_amount` attribute in each subclass hence we have also overridden the `apply_raise` method as the function will have same name but do different calculations in our subclasses."
   ]
  },
  {
   "cell_type": "code",
   "execution_count": 42,
   "id": "a3531915",
   "metadata": {},
   "outputs": [],
   "source": [
    "from typing import Optional, List\n",
    "class  Employee:\n",
    "    raise_amount = 1.04\n",
    "\n",
    "    def __init__(self, first_name, last_name, payment):\n",
    "        self.first = first_name\n",
    "        self.last = last_name\n",
    "        self.email =  first_name + \".\" + last_name + \"@email.com\"\n",
    "        self.pay = payment\n",
    "\n",
    "    def fullname(self):\n",
    "        return '{} {}'.format(self.first, self.last)\n",
    "\n",
    "    def apply_raise(self):\n",
    "        self.pay = int(self.pay * self.raise_amount)\n",
    "        \n",
    "class Developer(Employee):\n",
    "    raise_amount = 1.07\n",
    "\n",
    "    def __init__(self, first_name, last_name, payment, prog_lang):\n",
    "        super().__init__(first_name, last_name, payment)\n",
    "        self.language =  prog_lang\n",
    "        \n",
    "class Manager(Employee):\n",
    "    raise_amount = 1.10\n",
    "\n",
    "    def __init__(self, first_name, last_name, payment, employees: Optional[List[Employee]]= None):\n",
    "        super().__init__(first_name, last_name, payment)\n",
    "        self.email = f\"{first_name}{ last_name}.HR@gmail.com\"\n",
    "        if employees is None:\n",
    "            self._employees  =  []\n",
    "        else:\n",
    "            self._employees =  employees\n",
    "\n",
    "    def add_employee(self, employee):\n",
    "        if employee not in self._employees:\n",
    "            self._employees.append(employee)\n",
    "        \n",
    "    def remove_employee(self, employee):\n",
    "        if employee in self._employees:\n",
    "            self._employees.remove(employee)\n",
    "    def print_employees(self):\n",
    "        if self._employees:\n",
    "            for emp in self._employees:\n",
    "                print(f\" ---> {emp.fullname()}\")\n",
    "        else:\n",
    "            print(\"No employees under management.\")\n"
   ]
  },
  {
   "cell_type": "markdown",
   "id": "c1e7f9f4",
   "metadata": {},
   "source": [
    "This is a usefull behaviour when customizing subclasses."
   ]
  },
  {
   "cell_type": "markdown",
   "id": "42ef3ca1",
   "metadata": {},
   "source": [
    "### **isinstance() and issubclass() methods**"
   ]
  },
  {
   "cell_type": "markdown",
   "id": "a1eae641",
   "metadata": {},
   "source": [
    "These two methods are use to check if an object is an instance of a class and if a class is a subclass of another class respectively."
   ]
  },
  {
   "cell_type": "markdown",
   "id": "ed3ef96e",
   "metadata": {},
   "source": [
    "syntax:\n",
    "```python\n",
    "issubclass(class, baseclass)\n",
    "\n",
    "isinstance(object, class)\n",
    "\n",
    "```"
   ]
  },
  {
   "cell_type": "code",
   "execution_count": 43,
   "id": "1c028943",
   "metadata": {},
   "outputs": [
    {
     "name": "stdout",
     "output_type": "stream",
     "text": [
      "True\n",
      "True\n",
      "True\n",
      "False\n",
      "False\n"
     ]
    }
   ],
   "source": [
    "# Create instances\n",
    "emp = Employee(\"John\", \"Doe\", 50000)\n",
    "dev = Developer(\"Alice\", \"Smith\", 70000, \"Python\")\n",
    "mgr = Manager(\"Xian\", \"Luang\", 100000)\n",
    "\n",
    "# Check using isinstance()\n",
    "print(isinstance(emp, Employee))  # True, emp is an instance of Employee\n",
    "print(isinstance(dev, Employee))  # True, dev is an instance of Developer (which is a subclass of Employee)\n",
    "print(isinstance(mgr, Manager))  # True, mgr is an instance of Manager\n",
    "print(isinstance(mgr, Developer))  # False, mgr is not an instance of Developer\n",
    "print(isinstance(dev, Manager))  # False, dev is not an instance of Manager\n"
   ]
  },
  {
   "cell_type": "code",
   "execution_count": 44,
   "id": "15d8b91e",
   "metadata": {},
   "outputs": [
    {
     "name": "stdout",
     "output_type": "stream",
     "text": [
      "True\n",
      "True\n",
      "False\n",
      "False\n"
     ]
    }
   ],
   "source": [
    "# Check using issubclass()\n",
    "print(issubclass(Developer, Employee))  # True, Developer is a subclass of Employee\n",
    "print(issubclass(Manager, Employee))    # True, Manager is a subclass of Employee\n",
    "print(issubclass(Manager, Developer))   # False, Manager is not a subclass of Developer\n",
    "print(issubclass(Employee, Developer))  # False, Employee is not a subclass of Developer\n"
   ]
  },
  {
   "cell_type": "markdown",
   "id": "03ccd12c",
   "metadata": {},
   "source": [
    "remember everything in python is an object....even classes are object...lol"
   ]
  },
  {
   "cell_type": "code",
   "execution_count": 49,
   "id": "d8aa0414",
   "metadata": {},
   "outputs": [
    {
     "name": "stdout",
     "output_type": "stream",
     "text": [
      "True\n",
      "True\n",
      "True\n",
      "False\n",
      "False\n"
     ]
    }
   ],
   "source": [
    "print(isinstance(2, int))\n",
    "print(isinstance(\"Hello\", str))\n",
    "print(isinstance([2,3,4], list))\n",
    "print(isinstance(4, str))\n",
    "print(isinstance(\"Hello\", list))\n",
    "\n"
   ]
  },
  {
   "cell_type": "markdown",
   "id": "27ebb8e9",
   "metadata": {},
   "source": [
    "### **Inheritance and Composition**"
   ]
  },
  {
   "cell_type": "markdown",
   "id": "93aa6e33",
   "metadata": {},
   "source": [
    "We have seen inheritance in action, Inheritance allows us to model **is a** relation, on the other hand Composition allows us to model a **has a** relationship. Both approach code reuse differently."
   ]
  },
  {
   "cell_type": "markdown",
   "id": "0390d52d",
   "metadata": {},
   "source": [
    "So in inheritance the child class is essentially a specialized version of the parent class. It inherits the interface of the parent class, hence we should be able to use the child class object to replace the parent class object without any difficulty or errors in our application. This is known as the `Liskov Principle` which is the `L` in the `SOLID` principle. The liskov principle suggest that if s ia a subclass of t then replacing an object of type t  with an object of type s doesn't change our program behaviour."
   ]
  },
  {
   "cell_type": "markdown",
   "id": "02626415",
   "metadata": {},
   "source": [
    "Inheritance allows us to create class hierachies. When creating class hierachies we should always follow this principle."
   ]
  },
  {
   "cell_type": "markdown",
   "id": "e4627d59",
   "metadata": {},
   "source": [
    "**Composition**  by combining objects model a **has a** relationship. It enables creating complex types by combinig objects of other types. Hence a class can be composite that his containing an object of another class as it componenet. we say a class **has a** component, which is an object of another class. Such class is a composite."
   ]
  },
  {
   "cell_type": "markdown",
   "id": "41d51fe0",
   "metadata": {},
   "source": [
    "The **cardinality** of the composite class is the number or the valid range of Component instance that the composite class will contain."
   ]
  },
  {
   "cell_type": "markdown",
   "id": "05323950",
   "metadata": {},
   "source": [
    "An example of composition is like when we have a class `Employee` that creates a employee object and a class `Salary` that return `total_annual_salary` object, we might want to  specify the total anual salary of an employee in the emloyee object, hence we can take the salary object from the salary class as a parameter for the Employee class."
   ]
  },
  {
   "cell_type": "markdown",
   "id": "bb0f5cbb",
   "metadata": {},
   "source": [
    "Let's start by writing some inheritance.\n",
    "\n",
    "We'll implement an HR System. We'll start by implementing a Payrollsystem class that processes payroll:"
   ]
  },
  {
   "cell_type": "markdown",
   "id": "3dffa11b",
   "metadata": {},
   "source": [
    "The Payrollsystem implements a print_payroll() method that takes a collectoin of employees and prints their Id , name and check amount using the `calculate_payroll()` method exposed on each employee object."
   ]
  },
  {
   "cell_type": "code",
   "execution_count": null,
   "id": "b00d00a3",
   "metadata": {},
   "outputs": [],
   "source": [
    "class PayrollSystem:\n",
    "    def print_payroll(self, employees):\n",
    "        print(\"Calculating Payroll\")\n",
    "        print(\"==================\")\n",
    "        for emp in employees:\n",
    "            print(f\"Payroll for: {emp.id} - {emp.name}\")\n",
    "            print(f\"- Check amount: {emp.calculate_payroll()}\")\n",
    "            print(\"\")\n",
    "\n",
    "            "
   ]
  },
  {
   "cell_type": "markdown",
   "id": "8eab4213",
   "metadata": {},
   "source": [
    "We can add an base class, Employee, thta handles the interface for every employee type."
   ]
  },
  {
   "cell_type": "code",
   "execution_count": null,
   "id": "e3f94fc9",
   "metadata": {},
   "outputs": [],
   "source": [
    "#....\n",
    "\n",
    "class Employee:\n",
    "    def __init__(self, id, name):\n",
    "        self.id = id\n",
    "        self.name =  name"
   ]
  },
  {
   "cell_type": "code",
   "execution_count": 1,
   "id": "dc8ac2bd",
   "metadata": {},
   "outputs": [],
   "source": [
    "class PayrollSystem:\n",
    "    def print_payroll(self, employees):\n",
    "        print(\"Calculating Payroll\")\n",
    "        print(\"==================\")\n",
    "        for emp in employees:\n",
    "            print(f\"Payroll for: {emp.id} - {emp.name}\")\n",
    "            print(f\"- Check amount: {emp.calculate_payroll()}\")\n",
    "            print(\"\")\n",
    "    \n",
    "class Employee:\n",
    "    def __init__(self, id, name):\n",
    "        self.id = id\n",
    "        self.name =  name   "
   ]
  },
  {
   "cell_type": "markdown",
   "id": "022bb7d1",
   "metadata": {},
   "source": [
    "The Employee class is a base class for all types of employees. So all other employee types will inherit from this class (in simple terms they will have the id and name attribute)"
   ]
  },
  {
   "cell_type": "code",
   "execution_count": null,
   "id": "9c1903d0",
   "metadata": {},
   "outputs": [],
   "source": [
    "# ....\n",
    "\n",
    "# Admistrative workers with a fixed amount\n",
    "class SalaryEmployee(Employee):\n",
    "    # salary employee also needs the week_salary attribute that implement how much such employee make per week \n",
    "    def __init__(self, id, name, weekly_salary):\n",
    "        super().__init__(id, name)\n",
    "        self.weekly_salary = weekly_salary\n",
    "    def calculate_payroll(self):\n",
    "        return self.weekly_salary\n",
    "    \n",
    "# company employs employees that are payed hourly\n",
    "class HourlyEmployee(Employee):\n",
    "    def __init__(self, id, name, hours_worked, hourly_rate):\n",
    "        super().__init__(id, name)\n",
    "        self.hours_worked = hours_worked\n",
    "        self.hourly_rate = hourly_rate\n",
    "\n",
    "    def calculate_payroll(self):\n",
    "        return self.hours_worked * self.hourly_rate\n",
    "    \n",
    "# company hires sales associate who are paid through a fixed salary plus a commision based on their sales\n",
    "class CommissionEmployee(SalaryEmployee):\n",
    "    def __init__(self, id, name, weekly_salary, commission):\n",
    "        super().__init__(id, name, weekly_salary)\n",
    "        self.commission = commission\n",
    "    \n",
    "    def calculate_payroll(self):\n",
    "        # Using calculate_paroll() we leverage the implementation of the base class to retrieve the fixed salary\n",
    "        fixed = super().calculate_payroll()\n",
    "        return fixed + self.commission\n",
    "    \n",
    "    "
   ]
  },
  {
   "cell_type": "markdown",
   "id": "df80a13d",
   "metadata": {},
   "source": [
    "So What we have is that The `SalaryEmployee` , `HourlyEmployee` classes inherits from the `Employee` base class and the `ComissionEmployee` class inherits from the `SalaryEmployee` class but all children classes implement a common interface which is the <<`interface`>> `|PayrollCalculator` through the `calculate_payroll` method."
   ]
  },
  {
   "cell_type": "code",
   "execution_count": 6,
   "id": "68a67438",
   "metadata": {},
   "outputs": [],
   "source": [
    "class PayrollSystem:\n",
    "    def print_payroll(self, employees):\n",
    "        print(\"Calculating Payroll\")\n",
    "        print(\"==================\")\n",
    "        for emp in employees:\n",
    "            print(f\"Payroll for: {emp.id} - {emp.name}\")\n",
    "            print(f\"- Check amount: {emp.calculate_payroll()}\")\n",
    "            print(\"\")\n",
    "    \n",
    "class Employee:\n",
    "    def __init__(self, id, name):\n",
    "        self.id = id\n",
    "        self.name =  name   \n",
    "\n",
    "# ....\n",
    "\n",
    "# Admistrative workers with a fixed amount\n",
    "class SalaryEmployee(Employee):\n",
    "    # salary employee also needs the week_salary attribute that implement how much such employee make per week \n",
    "    def __init__(self, id, name, weekly_salary):\n",
    "        super().__init__(id, name)\n",
    "        self.weekly_salary = weekly_salary\n",
    "    def calculate_payroll(self):\n",
    "        return self.weekly_salary\n",
    "    \n",
    "# company employs employees that are payed hourly\n",
    "class HourlyEmployee(Employee):\n",
    "    def __init__(self, id, name, hours_worked, hourly_rate):\n",
    "        super().__init__(id, name)\n",
    "        self.hours_worked = hours_worked\n",
    "        self.hourly_rate = hourly_rate\n",
    "\n",
    "    def calculate_payroll(self):\n",
    "        return self.hours_worked * self.hourly_rate\n",
    "    \n",
    "# company hires sales associate who are paid through a fixed salary plus a commision based on their sales\n",
    "class CommissionEmployee(SalaryEmployee):\n",
    "    def __init__(self, id, name, weekly_salary, commission):\n",
    "        super().__init__(id, name, weekly_salary)\n",
    "        self.commission = commission\n",
    "    \n",
    "    def calculate_payroll(self):\n",
    "        # Using calculate_paroll() we leverage the implementation of the base class to retrieve the fixed salary\n",
    "        fixed = super().calculate_payroll()\n",
    "        return fixed + self.commission\n",
    "    \n",
    "    "
   ]
  },
  {
   "cell_type": "code",
   "execution_count": 7,
   "id": "326a80b4",
   "metadata": {},
   "outputs": [
    {
     "name": "stdout",
     "output_type": "stream",
     "text": [
      "Calculating Payroll\n",
      "==================\n",
      "Payroll for: 1 - John Smith\n",
      "- Check amount: 1500\n",
      "\n",
      "Payroll for: 2 - Jane Doe\n",
      "- Check amount: 600\n",
      "\n",
      "Payroll for: 3 - Kevin Bacon\n",
      "- Check amount: 1250\n",
      "\n"
     ]
    }
   ],
   "source": [
    "salary_employee = SalaryEmployee(1, \"John Smith\", 1500)\n",
    "hourly_employee = HourlyEmployee(2, \"Jane Doe\", 40, 15)\n",
    "commission_employee = CommissionEmployee(3, \"Kevin Bacon\", 1000, 250)\n",
    "\n",
    "payroll_system = PayrollSystem()\n",
    "payroll_system.print_payroll(\n",
    "    [salary_employee, hourly_employee, commission_employee]\n",
    ")"
   ]
  },
  {
   "cell_type": "markdown",
   "id": "fa09ffe6",
   "metadata": {},
   "source": [
    "All our children classes implemet the `calculate_payroll` method except our base class `Employee` meaning if we create an employee object directly from our base class and pass it to the `PayrollSystem()` we would get an error becauses this calls the `calculate_payroll()` method on our employee object, which it wount have.\n",
    "\n"
   ]
  },
  {
   "cell_type": "code",
   "execution_count": 8,
   "id": "f85ac21b",
   "metadata": {},
   "outputs": [
    {
     "ename": "AttributeError",
     "evalue": "'PayrollSystem' object has no attribute 'calculate_payroll'",
     "output_type": "error",
     "traceback": [
      "\u001b[31m---------------------------------------------------------------------------\u001b[39m",
      "\u001b[31mAttributeError\u001b[39m                            Traceback (most recent call last)",
      "\u001b[36mCell\u001b[39m\u001b[36m \u001b[39m\u001b[32mIn[8]\u001b[39m\u001b[32m, line 3\u001b[39m\n\u001b[32m      1\u001b[39m employee = Employee(\u001b[32m1\u001b[39m, \u001b[33m\"\u001b[39m\u001b[33mJames\u001b[39m\u001b[33m\"\u001b[39m)\n\u001b[32m      2\u001b[39m payroll_system = PayrollSystem()\n\u001b[32m----> \u001b[39m\u001b[32m3\u001b[39m \u001b[43mpayroll_system\u001b[49m\u001b[43m.\u001b[49m\u001b[43mcalculate_payroll\u001b[49m([employee])\n",
      "\u001b[31mAttributeError\u001b[39m: 'PayrollSystem' object has no attribute 'calculate_payroll'"
     ]
    }
   ],
   "source": [
    "employee = Employee(1, \"James\")\n",
    "payroll_system = PayrollSystem()\n",
    "payroll_system.calculate_payroll([employee])"
   ]
  },
  {
   "cell_type": "markdown",
   "id": "28d39ae7",
   "metadata": {},
   "source": [
    "To address this we can change `Employee` class which is a **Concrete class** to an **Abstract class**\n",
    "\n",
    "Now what we will want to do is we don't want to be able to instantiate a `Employee` object we need it to be specific type of employee which is our main reason for implementing the calculate_payroll() because different type of employee have different way they are paid. An `Abstract Class` exhist to be inherited but never instantiated, it maintains a contract (Signature) between all Derived class. To do this we will use the `abc` module in python."
   ]
  },
  {
   "cell_type": "code",
   "execution_count": 10,
   "id": "22a8eac1",
   "metadata": {},
   "outputs": [],
   "source": [
    "#....\n",
    "\n",
    "from abc import ABC, abstractmethod\n",
    "\n",
    "class Employee(ABC):\n",
    "    def __init__(self, id, name):\n",
    "        self.id = id\n",
    "        self.name =  name\n",
    "\n",
    "    @abstractmethod\n",
    "    def calculate_payroll(self):\n",
    "        pass"
   ]
  },
  {
   "cell_type": "code",
   "execution_count": 3,
   "id": "14cb5ba3",
   "metadata": {},
   "outputs": [],
   "source": [
    "class PayrollSystem:\n",
    "    def print_payroll(self, employees):\n",
    "        print(\"Calculating Payroll\")\n",
    "        print(\"==================\")\n",
    "        for emp in employees:\n",
    "            print(f\"Payroll for: {emp.id} - {emp.name}\")\n",
    "            print(f\"- Check amount: {emp.calculate_payroll()}\")\n",
    "            print(\"\")\n",
    "    \n",
    "from abc import ABC, abstractmethod\n",
    "\n",
    "class Employee(ABC):\n",
    "    def __init__(self, id, name):\n",
    "        self.id = id\n",
    "        self.name =  name\n",
    "\n",
    "    @abstractmethod\n",
    "    def calculate_payroll(self):\n",
    "        pass   \n",
    "\n",
    "# Admistrative workers with a fixed amount\n",
    "class SalaryEmployee(Employee):\n",
    "    # salary employee also needs the week_salary attribute that implement how much such employee make per week \n",
    "    def __init__(self, id, name, weekly_salary):\n",
    "        super().__init__(id, name)\n",
    "        self.weekly_salary = weekly_salary\n",
    "    def calculate_payroll(self):\n",
    "        return self.weekly_salary\n",
    "    \n",
    "# company employs employees that are payed hourly\n",
    "class HourlyEmployee(Employee):\n",
    "    def __init__(self, id, name, hours_worked, hourly_rate):\n",
    "        super().__init__(id, name)\n",
    "        self.hours_worked = hours_worked\n",
    "        self.hourly_rate = hourly_rate\n",
    "\n",
    "    def calculate_payroll(self):\n",
    "        return self.hours_worked * self.hourly_rate\n",
    "    \n",
    "# company hires sales associate who are paid through a fixed salary plus a commision based on their sales\n",
    "class CommissionEmployee(SalaryEmployee):\n",
    "    def __init__(self, id, name, weekly_salary, commission):\n",
    "        super().__init__(id, name, weekly_salary)\n",
    "        self.commission = commission\n",
    "    \n",
    "    def calculate_payroll(self):\n",
    "        # Using calculate_paroll() we leverage the implementation of the base class to retrieve the fixed salary\n",
    "        fixed = super().calculate_payroll()\n",
    "        return fixed + self.commission    "
   ]
  },
  {
   "cell_type": "markdown",
   "id": "0467995c",
   "metadata": {},
   "source": [
    "let's see what happens when we try to instantiate an object from the abstract class `Employee`"
   ]
  },
  {
   "cell_type": "code",
   "execution_count": 15,
   "id": "18cf0abc",
   "metadata": {},
   "outputs": [
    {
     "ename": "TypeError",
     "evalue": "Can't instantiate abstract class Employee without an implementation for abstract method 'calculate_payroll'",
     "output_type": "error",
     "traceback": [
      "\u001b[31m---------------------------------------------------------------------------\u001b[39m",
      "\u001b[31mTypeError\u001b[39m                                 Traceback (most recent call last)",
      "\u001b[36mCell\u001b[39m\u001b[36m \u001b[39m\u001b[32mIn[15]\u001b[39m\u001b[32m, line 1\u001b[39m\n\u001b[32m----> \u001b[39m\u001b[32m1\u001b[39m employee = \u001b[43mEmployee\u001b[49m\u001b[43m(\u001b[49m\u001b[32;43m1\u001b[39;49m\u001b[43m,\u001b[49m\u001b[43m \u001b[49m\u001b[33;43m\"\u001b[39;49m\u001b[33;43mJosh\u001b[39;49m\u001b[33;43m\"\u001b[39;49m\u001b[43m)\u001b[49m\n",
      "\u001b[31mTypeError\u001b[39m: Can't instantiate abstract class Employee without an implementation for abstract method 'calculate_payroll'"
     ]
    }
   ],
   "source": [
    "employee = Employee(1, \"Josh\")"
   ]
  },
  {
   "cell_type": "markdown",
   "id": "cb659adf",
   "metadata": {},
   "source": [
    "So we see now we can't instantiate an object from the abstract class we can only inherit from it or use it for polymorphism"
   ]
  },
  {
   "cell_type": "markdown",
   "id": "e2ac566d",
   "metadata": {},
   "source": [
    "### **Implementation Inheritance vs Interface Inheritance**"
   ]
  },
  {
   "cell_type": "markdown",
   "id": "ba6f0dec",
   "metadata": {},
   "source": [
    "**Implementation Inheritance** is when our derived class inherits the implimentation of a class i.e it's code (attribute, methods), the derived class does not only inherit the behaviour of the superclass but we can also implement new behaviours or overide the the existing behaviours. Essentially the base class is a Concrete class (not Abstract). just like how we have always done inheritance before learning about the abstract class. By default in when we define a concrete base class and write a derived class, the derived class inherits both the class interface and class implementation of the base class (as long as we follow the Liskov principle)\n",
    "\n",
    "**Interface Inheritance** involves inheriting the interface or contranct from a base class without inheriting it's implementation. In simple terms the base class is an Abstract class.\n",
    "\n",
    "We might want to inherit the implementation of a class but implemet a difference (or multiple) interface so the object can be used in a different situation. Now in this case any object that implements the desired interface can be used in place of another object, they don't have to inherit the interface from a common base class (Abstract). This is known as **`duck typing`** (`If it walks like a duck and it quacks like a duck, then it must be a duck` in other words `It's enough to behave like a duck to be considered a duck`), so once a class has a similar interface to another class which inherites from a superclass they can be used interchangably even if the superclass was an abstract class."
   ]
  },
  {
   "cell_type": "markdown",
   "id": "65e336cd",
   "metadata": {},
   "source": [
    "To implement this we would add a `DisgruntledEmployee` class which does not inherit from `Employee` class but implements the same interface."
   ]
  },
  {
   "cell_type": "code",
   "execution_count": 17,
   "id": "97ab8a7f",
   "metadata": {},
   "outputs": [],
   "source": [
    "#...\n",
    "class DisgruntledEmployee:\n",
    "    def __init__(self, id, name):\n",
    "        self.id = id\n",
    "        self.name = name\n",
    "\n",
    "    def calculate_payroll(self):\n",
    "        return 1_000_000"
   ]
  },
  {
   "cell_type": "code",
   "execution_count": 19,
   "id": "2792e515",
   "metadata": {},
   "outputs": [
    {
     "name": "stdout",
     "output_type": "stream",
     "text": [
      "Calculating Payroll\n",
      "==================\n",
      "Payroll for: 1 - John Smith\n",
      "- Check amount: 1500\n",
      "\n",
      "Payroll for: 2 - Jane Doe\n",
      "- Check amount: 600\n",
      "\n",
      "Payroll for: 3 - Kevin Bacon\n",
      "- Check amount: 1250\n",
      "\n",
      "Payroll for: 20000 - Anonymous\n",
      "- Check amount: 1000000\n",
      "\n"
     ]
    }
   ],
   "source": [
    "salary_employee = SalaryEmployee(1, \"John Smith\", 1500)\n",
    "hourly_employee = HourlyEmployee(2, \"Jane Doe\", 40, 15)\n",
    "commission_employee = CommissionEmployee(3, \"Kevin Bacon\", 1000, 250)\n",
    "disgruntled_employee = DisgruntledEmployee(20000, \"Anonymous\")\n",
    "\n",
    "payroll_system = PayrollSystem()\n",
    "payroll_system.print_payroll(\n",
    "    [\n",
    "        salary_employee,\n",
    "        hourly_employee,\n",
    "        commission_employee,\n",
    "        disgruntled_employee,\n",
    "    ]\n",
    ")\n"
   ]
  },
  {
   "cell_type": "markdown",
   "id": "0a3083cb",
   "metadata": {},
   "source": [
    "So we see that `DisgruntedEmployee` class object can fit in an behave like every other object from classes that inherits from Employee because it meets the deside interface."
   ]
  },
  {
   "cell_type": "markdown",
   "id": "4a4b16ff",
   "metadata": {},
   "source": [
    "### **Multiple Inheritance** - _Inheriting Multiple Classes_"
   ]
  },
  {
   "cell_type": "markdown",
   "id": "d1d7941a",
   "metadata": {},
   "source": [
    "Some Old Programming languages like Java, even some new programming languages do not supoort multiple inheritance (probably due to the  [Diamond Problem](https://en.wikipedia.org/wiki/Multiple_inheritance#The_diamond_problem)). In these languages you will inherit from a single base class and then implement multiple interfaces, so you cn reuse your class in different situations.\n",
    "\n",
    "**Multiple inheritance** is the ability to derive a class from multiple base classes at the same time. Multiple inheritance can lead to `Tight coupling`, `Class explosion problem` and Fragile classes so it's not usually an option in software design and this brings us to **Composition Over Inheritance ( or Multiple inheritance)** as Composition allows us to write more flexible code as classes will have fewer dependencies on each other.\n"
   ]
  },
  {
   "cell_type": "markdown",
   "id": "51b56b0d",
   "metadata": {},
   "source": [
    "Let's start off by writing a productivity system code:"
   ]
  },
  {
   "cell_type": "code",
   "execution_count": 18,
   "id": "e9baf892",
   "metadata": {},
   "outputs": [],
   "source": [
    "class ProductivitySystem:\n",
    "    def track(self, employees, hours):\n",
    "        print(\"Tracking Employee Productivity\")\n",
    "        print(\"===============================\")\n",
    "        for employee in employees:\n",
    "            employee.work(hours)\n",
    "            print(\"\")"
   ]
  },
  {
   "cell_type": "markdown",
   "id": "05693c21",
   "metadata": {},
   "source": [
    "Now we would write different type of employee that do different type of work"
   ]
  },
  {
   "cell_type": "code",
   "execution_count": null,
   "id": "dd3e9c6c",
   "metadata": {},
   "outputs": [],
   "source": [
    "# ...\n",
    "\n",
    "class Manager(SalaryEmployee):\n",
    "    def work(self, hours):\n",
    "        print(f\"{self.name} screams and yells for {hours} hours.\")\n",
    "\n",
    "class Secretary(SalaryEmployee):\n",
    "    def work(self, hours):\n",
    "        print(f\"{self.name} expends {hours} hours doing office paperwork.\")\n",
    "\n",
    "class SalesPerson(CommissionEmployee):\n",
    "    def work(self, hours):\n",
    "        print(f\"{self.name} expends {hours} hours on the phone.\")\n",
    "\n",
    "class FactoryWorker(HourlyEmployee):\n",
    "    def work(self, hours):\n",
    "        print(f\"{self.name} manufactures gadgets for {hours} hours.\")"
   ]
  },
  {
   "cell_type": "markdown",
   "id": "2072e5cd",
   "metadata": {},
   "source": [
    "Our `TemporarySecetary` class will inherit from both our `Secertary` class and `Hourlyworker` class as the temp seceratary is just a borrowed secetary for when they is a lot of paperwork and she would would be payed at an hourly rate."
   ]
  },
  {
   "cell_type": "code",
   "execution_count": 6,
   "id": "1e880540",
   "metadata": {},
   "outputs": [],
   "source": [
    "# ...\n",
    "\n",
    "class TemporarySecretary(Secretary, HourlyEmployee):\n",
    "    pass"
   ]
  },
  {
   "cell_type": "markdown",
   "id": "a087bf38",
   "metadata": {},
   "source": [
    "now let's try to create a Temporary employee object."
   ]
  },
  {
   "cell_type": "code",
   "execution_count": 7,
   "id": "713c1537",
   "metadata": {},
   "outputs": [
    {
     "ename": "TypeError",
     "evalue": "SalaryEmployee.__init__() takes 4 positional arguments but 5 were given",
     "output_type": "error",
     "traceback": [
      "\u001b[31m---------------------------------------------------------------------------\u001b[39m",
      "\u001b[31mTypeError\u001b[39m                                 Traceback (most recent call last)",
      "\u001b[36mCell\u001b[39m\u001b[36m \u001b[39m\u001b[32mIn[7]\u001b[39m\u001b[32m, line 1\u001b[39m\n\u001b[32m----> \u001b[39m\u001b[32m1\u001b[39m temporary_secretary = \u001b[43mTemporarySecretary\u001b[49m\u001b[43m(\u001b[49m\u001b[32;43m5\u001b[39;49m\u001b[43m,\u001b[49m\u001b[43m \u001b[49m\u001b[33;43m\"\u001b[39;49m\u001b[33;43mRobin Williams\u001b[39;49m\u001b[33;43m\"\u001b[39;49m\u001b[43m,\u001b[49m\u001b[43m \u001b[49m\u001b[32;43m40\u001b[39;49m\u001b[43m,\u001b[49m\u001b[43m \u001b[49m\u001b[32;43m9\u001b[39;49m\u001b[43m)\u001b[49m\n",
      "\u001b[31mTypeError\u001b[39m: SalaryEmployee.__init__() takes 4 positional arguments but 5 were given"
     ]
    }
   ],
   "source": [
    "temporary_secretary = TemporarySecretary(5, \"Robin Williams\", 40, 9)\n"
   ]
  },
  {
   "cell_type": "markdown",
   "id": "7f6d2011",
   "metadata": {},
   "source": [
    "This appens because `TemporarySecetary` was derived from `Secetary` class so the interpreter is trying to use the `Secetary.__init__()` to initialize the object."
   ]
  },
  {
   "cell_type": "markdown",
   "id": "bf68439f",
   "metadata": {},
   "source": [
    "Let's reverse the class arguements and see what happens"
   ]
  },
  {
   "cell_type": "code",
   "execution_count": 10,
   "id": "0cac77d7",
   "metadata": {},
   "outputs": [],
   "source": [
    "class TemporarySecretary(HourlyEmployee, Secretary):\n",
    "    pass\n"
   ]
  },
  {
   "cell_type": "code",
   "execution_count": 11,
   "id": "705d9913",
   "metadata": {},
   "outputs": [
    {
     "ename": "TypeError",
     "evalue": "SalaryEmployee.__init__() missing 1 required positional argument: 'weekly_salary'",
     "output_type": "error",
     "traceback": [
      "\u001b[31m---------------------------------------------------------------------------\u001b[39m",
      "\u001b[31mTypeError\u001b[39m                                 Traceback (most recent call last)",
      "\u001b[36mCell\u001b[39m\u001b[36m \u001b[39m\u001b[32mIn[11]\u001b[39m\u001b[32m, line 1\u001b[39m\n\u001b[32m----> \u001b[39m\u001b[32m1\u001b[39m temporary_secretary = \u001b[43mTemporarySecretary\u001b[49m\u001b[43m(\u001b[49m\u001b[32;43m5\u001b[39;49m\u001b[43m,\u001b[49m\u001b[43m \u001b[49m\u001b[33;43m\"\u001b[39;49m\u001b[33;43mRobin Williams\u001b[39;49m\u001b[33;43m\"\u001b[39;49m\u001b[43m,\u001b[49m\u001b[43m \u001b[49m\u001b[32;43m40\u001b[39;49m\u001b[43m,\u001b[49m\u001b[43m \u001b[49m\u001b[32;43m9\u001b[39;49m\u001b[43m)\u001b[49m\n",
      "\u001b[36mCell\u001b[39m\u001b[36m \u001b[39m\u001b[32mIn[3]\u001b[39m\u001b[32m, line 33\u001b[39m, in \u001b[36mHourlyEmployee.__init__\u001b[39m\u001b[34m(self, id, name, hours_worked, hourly_rate)\u001b[39m\n\u001b[32m     32\u001b[39m \u001b[38;5;28;01mdef\u001b[39;00m\u001b[38;5;250m \u001b[39m\u001b[34m__init__\u001b[39m(\u001b[38;5;28mself\u001b[39m, \u001b[38;5;28mid\u001b[39m, name, hours_worked, hourly_rate):\n\u001b[32m---> \u001b[39m\u001b[32m33\u001b[39m     \u001b[38;5;28;43msuper\u001b[39;49m\u001b[43m(\u001b[49m\u001b[43m)\u001b[49m\u001b[43m.\u001b[49m\u001b[34;43m__init__\u001b[39;49m\u001b[43m(\u001b[49m\u001b[38;5;28;43mid\u001b[39;49m\u001b[43m,\u001b[49m\u001b[43m \u001b[49m\u001b[43mname\u001b[49m\u001b[43m)\u001b[49m\n\u001b[32m     34\u001b[39m     \u001b[38;5;28mself\u001b[39m.hours_worked = hours_worked\n\u001b[32m     35\u001b[39m     \u001b[38;5;28mself\u001b[39m.hourly_rate = hourly_rate\n",
      "\u001b[31mTypeError\u001b[39m: SalaryEmployee.__init__() missing 1 required positional argument: 'weekly_salary'"
     ]
    }
   ],
   "source": [
    "temporary_secretary = TemporarySecretary(5, \"Robin Williams\", 40, 9)\n"
   ]
  },
  {
   "cell_type": "markdown",
   "id": "8c761a78",
   "metadata": {},
   "source": [
    "So know we are missing a `weekly_salary` parameter which is neccesary to initialize `Secetary`.... which doesn't make sense since TemporarySecetary is an HourlyEmployee..... but it's requesting weely_salary parameter because it's also a secetary and `Secetary.__inti__()` expects that parameter. "
   ]
  },
  {
   "cell_type": "markdown",
   "id": "5d9e386d",
   "metadata": {},
   "source": [
    "Maybe implementing `TemporarySecetary.__init__()` will help:"
   ]
  },
  {
   "cell_type": "code",
   "execution_count": 12,
   "id": "0a87b145",
   "metadata": {},
   "outputs": [],
   "source": [
    "# ...\n",
    "\n",
    "class TemporarySecretary(HourlyEmployee, Secretary):\n",
    "    def __init__(self, id, name, hours_worked, hourly_rate):\n",
    "        super().__init__(id, name, hours_worked, hourly_rate)"
   ]
  },
  {
   "cell_type": "code",
   "execution_count": 13,
   "id": "b07e4492",
   "metadata": {},
   "outputs": [
    {
     "ename": "TypeError",
     "evalue": "SalaryEmployee.__init__() missing 1 required positional argument: 'weekly_salary'",
     "output_type": "error",
     "traceback": [
      "\u001b[31m---------------------------------------------------------------------------\u001b[39m",
      "\u001b[31mTypeError\u001b[39m                                 Traceback (most recent call last)",
      "\u001b[36mCell\u001b[39m\u001b[36m \u001b[39m\u001b[32mIn[13]\u001b[39m\u001b[32m, line 1\u001b[39m\n\u001b[32m----> \u001b[39m\u001b[32m1\u001b[39m temporary_secretary = \u001b[43mTemporarySecretary\u001b[49m\u001b[43m(\u001b[49m\u001b[32;43m5\u001b[39;49m\u001b[43m,\u001b[49m\u001b[43m \u001b[49m\u001b[33;43m\"\u001b[39;49m\u001b[33;43mRobin Williams\u001b[39;49m\u001b[33;43m\"\u001b[39;49m\u001b[43m,\u001b[49m\u001b[43m \u001b[49m\u001b[32;43m40\u001b[39;49m\u001b[43m,\u001b[49m\u001b[43m \u001b[49m\u001b[32;43m9\u001b[39;49m\u001b[43m)\u001b[49m\n",
      "\u001b[36mCell\u001b[39m\u001b[36m \u001b[39m\u001b[32mIn[12]\u001b[39m\u001b[32m, line 5\u001b[39m, in \u001b[36mTemporarySecretary.__init__\u001b[39m\u001b[34m(self, id, name, hours_worked, hourly_rate)\u001b[39m\n\u001b[32m      4\u001b[39m \u001b[38;5;28;01mdef\u001b[39;00m\u001b[38;5;250m \u001b[39m\u001b[34m__init__\u001b[39m(\u001b[38;5;28mself\u001b[39m, \u001b[38;5;28mid\u001b[39m, name, hours_worked, hourly_rate):\n\u001b[32m----> \u001b[39m\u001b[32m5\u001b[39m     \u001b[38;5;28;43msuper\u001b[39;49m\u001b[43m(\u001b[49m\u001b[43m)\u001b[49m\u001b[43m.\u001b[49m\u001b[34;43m__init__\u001b[39;49m\u001b[43m(\u001b[49m\u001b[38;5;28;43mid\u001b[39;49m\u001b[43m,\u001b[49m\u001b[43m \u001b[49m\u001b[43mname\u001b[49m\u001b[43m,\u001b[49m\u001b[43m \u001b[49m\u001b[43mhours_worked\u001b[49m\u001b[43m,\u001b[49m\u001b[43m \u001b[49m\u001b[43mhourly_rate\u001b[49m\u001b[43m)\u001b[49m\n",
      "\u001b[36mCell\u001b[39m\u001b[36m \u001b[39m\u001b[32mIn[3]\u001b[39m\u001b[32m, line 33\u001b[39m, in \u001b[36mHourlyEmployee.__init__\u001b[39m\u001b[34m(self, id, name, hours_worked, hourly_rate)\u001b[39m\n\u001b[32m     32\u001b[39m \u001b[38;5;28;01mdef\u001b[39;00m\u001b[38;5;250m \u001b[39m\u001b[34m__init__\u001b[39m(\u001b[38;5;28mself\u001b[39m, \u001b[38;5;28mid\u001b[39m, name, hours_worked, hourly_rate):\n\u001b[32m---> \u001b[39m\u001b[32m33\u001b[39m     \u001b[38;5;28;43msuper\u001b[39;49m\u001b[43m(\u001b[49m\u001b[43m)\u001b[49m\u001b[43m.\u001b[49m\u001b[34;43m__init__\u001b[39;49m\u001b[43m(\u001b[49m\u001b[38;5;28;43mid\u001b[39;49m\u001b[43m,\u001b[49m\u001b[43m \u001b[49m\u001b[43mname\u001b[49m\u001b[43m)\u001b[49m\n\u001b[32m     34\u001b[39m     \u001b[38;5;28mself\u001b[39m.hours_worked = hours_worked\n\u001b[32m     35\u001b[39m     \u001b[38;5;28mself\u001b[39m.hourly_rate = hourly_rate\n",
      "\u001b[31mTypeError\u001b[39m: SalaryEmployee.__init__() missing 1 required positional argument: 'weekly_salary'"
     ]
    }
   ],
   "source": [
    "temporary_secretary = TemporarySecretary(5, \"Robin Williams\", 40, 9)\n"
   ]
  },
  {
   "cell_type": "markdown",
   "id": "55576475",
   "metadata": {},
   "source": [
    "This didn't solve our issue either...We have encountered the [Diamond Problem](https://en.wikipedia.org/wiki/Multiple_inheritance#The_diamond_problem).... This brings us to the **Method Resolution Order(MRO)** this will help us see what's going on. When a method or attribute of a class is accessed python uses the `MRO` to find it, Super() also uses MRO to determine which method or attribute to invoke."
   ]
  },
  {
   "cell_type": "code",
   "execution_count": 14,
   "id": "ff0c44de",
   "metadata": {},
   "outputs": [
    {
     "data": {
      "text/plain": [
       "(__main__.TemporarySecretary,\n",
       " __main__.HourlyEmployee,\n",
       " __main__.Secretary,\n",
       " __main__.SalaryEmployee,\n",
       " __main__.Employee,\n",
       " abc.ABC,\n",
       " object)"
      ]
     },
     "execution_count": 14,
     "metadata": {},
     "output_type": "execute_result"
    }
   ],
   "source": [
    "TemporarySecretary.__mro__"
   ]
  },
  {
   "cell_type": "markdown",
   "id": "0576558b",
   "metadata": {},
   "source": [
    "This shows us the order in which Python is going to look for matching attribute or method. We can skip the initialization of Secetary and SalaryEmployee. by reversing the inheritance order. To do this we directly call `HourlyEmployee.__init__()`:\n"
   ]
  },
  {
   "cell_type": "code",
   "execution_count": 15,
   "id": "f083a5a2",
   "metadata": {},
   "outputs": [],
   "source": [
    "# ...\n",
    "\n",
    "class TemporarySecretary(Secretary, HourlyEmployee):\n",
    "    def __init__(self, id, name, hours_worked, hourly_rate):\n",
    "        HourlyEmployee.__init__(self, id, name, hours_worked, hourly_rate)"
   ]
  },
  {
   "cell_type": "code",
   "execution_count": 16,
   "id": "c8c0297e",
   "metadata": {},
   "outputs": [
    {
     "data": {
      "text/plain": [
       "(__main__.TemporarySecretary,\n",
       " __main__.Secretary,\n",
       " __main__.SalaryEmployee,\n",
       " __main__.HourlyEmployee,\n",
       " __main__.Employee,\n",
       " abc.ABC,\n",
       " object)"
      ]
     },
     "execution_count": 16,
     "metadata": {},
     "output_type": "execute_result"
    }
   ],
   "source": [
    "TemporarySecretary.__mro__"
   ]
  },
  {
   "cell_type": "markdown",
   "id": "30827949",
   "metadata": {},
   "source": [
    "So we can see now that HourlyEmployee class is priotized over SalaryEmployee. This way we can create a Secetary object that doesn't expect the `weekly_salary` attribute."
   ]
  },
  {
   "cell_type": "code",
   "execution_count": 17,
   "id": "031bb511",
   "metadata": {},
   "outputs": [],
   "source": [
    "temporary_secretary = TemporarySecretary(5, \"Robin Williams\", 40, 9)\n"
   ]
  },
  {
   "cell_type": "markdown",
   "id": "025cb71c",
   "metadata": {},
   "source": [
    "now let's use our Productivy system:"
   ]
  },
  {
   "cell_type": "code",
   "execution_count": 24,
   "id": "8f37684c",
   "metadata": {},
   "outputs": [
    {
     "name": "stdout",
     "output_type": "stream",
     "text": [
      "Tracking Employee Productivity\n",
      "===============================\n",
      "Mary Poppins screams and yells for 40 hours.\n",
      "\n",
      "John Smith expends 40 hours doing office paperwork.\n",
      "\n",
      "Kevin Bacon expends 40 hours on the phone.\n",
      "\n",
      "Jane Doe manufactures gadgets for 40 hours.\n",
      "\n",
      "Robin Williams expends 40 hours doing office paperwork.\n",
      "\n",
      "Calculating Payroll\n",
      "==================\n",
      "Payroll for: 1 - Mary Poppins\n",
      "- Check amount: 3000\n",
      "\n",
      "Payroll for: 2 - John Smith\n",
      "- Check amount: 1500\n",
      "\n",
      "Payroll for: 3 - Kevin Bacon\n",
      "- Check amount: 1250\n",
      "\n",
      "Payroll for: 4 - Jane Doe\n",
      "- Check amount: 600\n",
      "\n",
      "Payroll for: 5 - Robin Williams\n"
     ]
    },
    {
     "ename": "AttributeError",
     "evalue": "'TemporarySecretary' object has no attribute 'weekly_salary'",
     "output_type": "error",
     "traceback": [
      "\u001b[31m---------------------------------------------------------------------------\u001b[39m",
      "\u001b[31mAttributeError\u001b[39m                            Traceback (most recent call last)",
      "\u001b[36mCell\u001b[39m\u001b[36m \u001b[39m\u001b[32mIn[24]\u001b[39m\u001b[32m, line 19\u001b[39m\n\u001b[32m     16\u001b[39m productivity_system.track(employees, \u001b[32m40\u001b[39m)\n\u001b[32m     18\u001b[39m payroll_system = PayrollSystem()\n\u001b[32m---> \u001b[39m\u001b[32m19\u001b[39m \u001b[43mpayroll_system\u001b[49m\u001b[43m.\u001b[49m\u001b[43mprint_payroll\u001b[49m\u001b[43m(\u001b[49m\u001b[43memployees\u001b[49m\u001b[43m)\u001b[49m\n",
      "\u001b[36mCell\u001b[39m\u001b[36m \u001b[39m\u001b[32mIn[3]\u001b[39m\u001b[32m, line 7\u001b[39m, in \u001b[36mPayrollSystem.print_payroll\u001b[39m\u001b[34m(self, employees)\u001b[39m\n\u001b[32m      5\u001b[39m \u001b[38;5;28;01mfor\u001b[39;00m emp \u001b[38;5;129;01min\u001b[39;00m employees:\n\u001b[32m      6\u001b[39m     \u001b[38;5;28mprint\u001b[39m(\u001b[33mf\u001b[39m\u001b[33m\"\u001b[39m\u001b[33mPayroll for: \u001b[39m\u001b[38;5;132;01m{\u001b[39;00memp.id\u001b[38;5;132;01m}\u001b[39;00m\u001b[33m - \u001b[39m\u001b[38;5;132;01m{\u001b[39;00memp.name\u001b[38;5;132;01m}\u001b[39;00m\u001b[33m\"\u001b[39m)\n\u001b[32m----> \u001b[39m\u001b[32m7\u001b[39m     \u001b[38;5;28mprint\u001b[39m(\u001b[33mf\u001b[39m\u001b[33m\"\u001b[39m\u001b[33m- Check amount: \u001b[39m\u001b[38;5;132;01m{\u001b[39;00m\u001b[43memp\u001b[49m\u001b[43m.\u001b[49m\u001b[43mcalculate_payroll\u001b[49m\u001b[43m(\u001b[49m\u001b[43m)\u001b[49m\u001b[38;5;132;01m}\u001b[39;00m\u001b[33m\"\u001b[39m)\n\u001b[32m      8\u001b[39m     \u001b[38;5;28mprint\u001b[39m(\u001b[33m\"\u001b[39m\u001b[33m\"\u001b[39m)\n",
      "\u001b[36mCell\u001b[39m\u001b[36m \u001b[39m\u001b[32mIn[3]\u001b[39m\u001b[32m, line 28\u001b[39m, in \u001b[36mSalaryEmployee.calculate_payroll\u001b[39m\u001b[34m(self)\u001b[39m\n\u001b[32m     27\u001b[39m \u001b[38;5;28;01mdef\u001b[39;00m\u001b[38;5;250m \u001b[39m\u001b[34mcalculate_payroll\u001b[39m(\u001b[38;5;28mself\u001b[39m):\n\u001b[32m---> \u001b[39m\u001b[32m28\u001b[39m     \u001b[38;5;28;01mreturn\u001b[39;00m \u001b[38;5;28;43mself\u001b[39;49m\u001b[43m.\u001b[49m\u001b[43mweekly_salary\u001b[49m\n",
      "\u001b[31mAttributeError\u001b[39m: 'TemporarySecretary' object has no attribute 'weekly_salary'"
     ]
    }
   ],
   "source": [
    "\n",
    "manager = Manager(1, \"Mary Poppins\", 3000)\n",
    "secretary = Secretary(2, \"John Smith\", 1500)\n",
    "sales_guy = SalesPerson(3, \"Kevin Bacon\", 1000, 250)\n",
    "factory_worker = FactoryWorker(4, \"Jane Doe\", 40, 15)\n",
    "temporary_secretary = TemporarySecretary(5, \"Robin Williams\", 40, 9)\n",
    "\n",
    "employees = [\n",
    "    manager,\n",
    "    secretary,\n",
    "    sales_guy,\n",
    "    factory_worker,\n",
    "    temporary_secretary\n",
    "]\n",
    "\n",
    "productivity_system = ProductivitySystem()\n",
    "productivity_system.track(employees, 40)\n",
    "\n",
    "payroll_system = PayrollSystem()\n",
    "payroll_system.print_payroll(employees)"
   ]
  },
  {
   "cell_type": "markdown",
   "id": "06bba678",
   "metadata": {},
   "source": [
    "Oops we have not overidden the `calculate_payroll` method in TemporarySecetary so it uses that of HourlyEmployee instead  of  that of SalaryEmployee."
   ]
  },
  {
   "cell_type": "code",
   "execution_count": 27,
   "id": "59e6404e",
   "metadata": {},
   "outputs": [],
   "source": [
    "class TemporarySecretary(Secretary, HourlyEmployee):\n",
    "    def __init__(self, id, name, hours_worked, hourly_rate):\n",
    "        HourlyEmployee.__init__(self, id, name, hours_worked, hourly_rate)\n",
    "    \n",
    "    def calculate_payroll(self):\n",
    "        return HourlyEmployee.calculate_payroll(self)"
   ]
  },
  {
   "cell_type": "code",
   "execution_count": 29,
   "id": "57408a0c",
   "metadata": {},
   "outputs": [
    {
     "name": "stdout",
     "output_type": "stream",
     "text": [
      "Tracking Employee Productivity\n",
      "===============================\n",
      "Mary Poppins screams and yells for 40 hours.\n",
      "\n",
      "John Smith expends 40 hours doing office paperwork.\n",
      "\n",
      "Kevin Bacon expends 40 hours on the phone.\n",
      "\n",
      "Jane Doe manufactures gadgets for 40 hours.\n",
      "\n",
      "Robin Williams expends 40 hours doing office paperwork.\n",
      "\n",
      "Calculating Payroll\n",
      "==================\n",
      "Payroll for: 1 - Mary Poppins\n",
      "- Check amount: 3000\n",
      "\n",
      "Payroll for: 2 - John Smith\n",
      "- Check amount: 1500\n",
      "\n",
      "Payroll for: 3 - Kevin Bacon\n",
      "- Check amount: 1250\n",
      "\n",
      "Payroll for: 4 - Jane Doe\n",
      "- Check amount: 600\n",
      "\n",
      "Payroll for: 5 - Robin Williams\n",
      "- Check amount: 360\n",
      "\n"
     ]
    }
   ],
   "source": [
    "\n",
    "manager = Manager(1, \"Mary Poppins\", 3000)\n",
    "secretary = Secretary(2, \"John Smith\", 1500)\n",
    "sales_guy = SalesPerson(3, \"Kevin Bacon\", 1000, 250)\n",
    "factory_worker = FactoryWorker(4, \"Jane Doe\", 40, 15)\n",
    "temporary_secretary = TemporarySecretary(5, \"Robin Williams\", 40, 9)\n",
    "\n",
    "employees = [\n",
    "    manager,\n",
    "    secretary,\n",
    "    sales_guy,\n",
    "    factory_worker,\n",
    "    temporary_secretary\n",
    "]\n",
    "\n",
    "productivity_system = ProductivitySystem()\n",
    "productivity_system.track(employees, 40)\n",
    "\n",
    "payroll_system = PayrollSystem()\n",
    "payroll_system.print_payroll(employees)"
   ]
  },
  {
   "cell_type": "markdown",
   "id": "99d6cec2",
   "metadata": {},
   "source": [
    "When using Using multiple classes we should embrace Modular programming, Classes should be separated into modules and imported in other modules. This helps keep the codebase clean and easy to go through. Two different system uses the Employee derived classes - `The Productivity system` and  `The Payroll system`. This means that everything related to productivity should be together in one module, and everything related to payroll should be together in another. To avoid the Diamond problem we can also write class policy for each class and inherit from this policy this is called [**Policy based design**](https://medium.com/@abhishek.kr121/policy-based-design-pattern-ac902df38c20), Python example [here](https://realpython.com/inheritance-composition-python/#composition-in-python)"
   ]
  },
  {
   "cell_type": "markdown",
   "id": "174b0f0f",
   "metadata": {},
   "source": [
    "#### **Policy Based Design**"
   ]
  },
  {
   "cell_type": "markdown",
   "id": "7bc558b5",
   "metadata": {},
   "source": [
    "Now instead of writing `HourlyEmployee`, `SalaryEmployee` and `CommissionEmployee` classes that inherit from Employee class we can just just implement them as independent classes called **`policies`** (i.e `payement policies`)  this cuts away one layer of inheritance. Since They are not too dependent on the `Employee` base class if we think of it. Then we can make different types of employees but according to their role this time not payment type `Manager, Secetary, Salesperson, FactoryWorker` and `TemporarySecetary` inherit from `Employee` class, their expected payment policies (e.g Hourly policy) and role policies  (e.g SecetaryRole).\n",
    "\n",
    "This way we have created unified object (i.e we can create a secetary but here no secetary class inheriting from SalaryEmployee and SalaryEmployee inheriting from Employee class, but Secatary will now inherit from Employee base class and Salary policy which are independent.) "
   ]
  },
  {
   "cell_type": "code",
   "execution_count": 2,
   "id": "7436b306",
   "metadata": {},
   "outputs": [],
   "source": [
    "# Payment Policies\n",
    "\n",
    "class SalaryPolicy:\n",
    "    def __init__(self, weekly_salary):\n",
    "        self.weekly_salary = weekly_salary\n",
    "\n",
    "    def calculate_payroll(self):\n",
    "        return self.weekly_salary\n",
    "    \n",
    "class HourlyPolicy:\n",
    "    def __init__(self, hours_worked, hourly_rate):\n",
    "        self.hours_worked = hours_worked\n",
    "        self.hourly_rate = hourly_rate\n",
    "    \n",
    "    def calculate_payroll(self):\n",
    "        return self.hours_worked * self.hourly_rate\n",
    "    \n",
    "class CommissionPolicy(SalaryPolicy):\n",
    "    def __init__(self, weekly_salary, commission):\n",
    "        super().__init__(weekly_salary)\n",
    "        self.commision = commission\n",
    "\n",
    "    def calculate_payroll(self):\n",
    "        fixed = super().calculate_payroll()\n",
    "        return fixed + self.commision\n",
    "        \n",
    "\n",
    "# Role Policies\n",
    "class ManagerRole:\n",
    "    def work(self, hours):\n",
    "        return f\"Screams and yells for {hours} hours.\"\n",
    "    \n",
    "class SecretaryRole:\n",
    "    def work(self, hours):\n",
    "        return f\"expends {hours} hours doing office paperwork.\"\n",
    "\n",
    "class SalesRole:\n",
    "    def work(self, hours):\n",
    "        return f\"expends {hours} hours on the phone\"\n",
    "    \n",
    "class FactoryRole:\n",
    "    def work(self, hours):\n",
    "        return f\"manufactures gadgets for {hours} hours.\"\n",
    "    "
   ]
  },
  {
   "cell_type": "code",
   "execution_count": 9,
   "id": "95fa5c2c",
   "metadata": {},
   "outputs": [],
   "source": [
    "#Base class\n",
    "class Employee:\n",
    "    def __init__(self, id, name):\n",
    "        self.id = id\n",
    "        self.name = name\n",
    "\n",
    "\n",
    "# Types of Employee classes \n",
    "\n",
    "\"\"\"\n",
    "Inheriting from Role policies allows us to call .work() on the object\n",
    "Inheriting from Payement policies allows us to set payment type and amount and call .calculate_payroll()\n",
    "Inheriting from Employee allows us to create Id and Name\n",
    "\"\"\"\n",
    "\n",
    "class Manager(Employee, ManagerRole, SalaryPolicy):\n",
    "    def __init__(self, id, name, weekly_salary):\n",
    "        SalaryPolicy.__init__(self, weekly_salary)\n",
    "        super().__init__(id, name)\n",
    "\n",
    "class Secretary(Employee, SecretaryRole, SalaryPolicy):\n",
    "    def __init__(self, id, name, weekly_salary):\n",
    "        SalaryPolicy.__init__(self, weekly_salary)\n",
    "        super().__init__(id, name)\n",
    "\n",
    "class SalesPerson(Employee, SalesRole, CommissionPolicy):\n",
    "    def __init__(self, id, name, weekly_salary, commission):\n",
    "        CommissionPolicy.__init__(self, weekly_salary, commission)\n",
    "        super().__init__(id, name)\n",
    "\n",
    "class FactoryWorker(Employee, FactoryRole, HourlyPolicy):\n",
    "    def __init__(self, id, name, hours_worked, hourly_rate):\n",
    "        HourlyPolicy.__init__(self, hours_worked, hourly_rate)\n",
    "        super().__init__(id, name)\n",
    "\n",
    "class TemporarySecretary(Employee, SecretaryRole, HourlyPolicy):\n",
    "    def __init__(self, id, name, hours_worked, hourly_rate):\n",
    "        HourlyPolicy.__init__(self, hours_worked, hourly_rate)\n",
    "        super().__init__(id, name)\n"
   ]
  },
  {
   "cell_type": "code",
   "execution_count": 11,
   "id": "84955431",
   "metadata": {},
   "outputs": [],
   "source": [
    "class PayrollSystem:\n",
    "    def print_payroll(self, employees):\n",
    "        print(\"Calculating Payroll\")\n",
    "        print(\"==================\")\n",
    "        for emp in employees:\n",
    "            print(f\"Payroll for: {emp.id} - {emp.name}\")\n",
    "            print(f\"- Check amount: {emp.calculate_payroll()}\")\n",
    "            print(\"\")\n",
    "\n",
    "class ProductivitySystem:\n",
    "    def track(self, employees, hours):\n",
    "        print(\"Tracking Employee Productivity\")\n",
    "        print(\"==============================\")\n",
    "        for employee in employees:\n",
    "            result = employee.work(hours)\n",
    "            print(f\"{employee.name}: {result}\")\n",
    "        print(\"\")\n",
    "\n"
   ]
  },
  {
   "cell_type": "markdown",
   "id": "a17d867e",
   "metadata": {},
   "source": [
    "we can run the programme"
   ]
  },
  {
   "cell_type": "code",
   "execution_count": 13,
   "id": "1f81fb4e",
   "metadata": {},
   "outputs": [
    {
     "name": "stdout",
     "output_type": "stream",
     "text": [
      "Tracking Employee Productivity\n",
      "==============================\n",
      "Mary Poppins: Screams and yells for 40 hours.\n",
      "John Smith: expends 40 hours doing office paperwork.\n",
      "Kevin Bacon: expends 40 hours on the phone\n",
      "Jane Doe: manufactures gadgets for 40 hours.\n",
      "Robin Williams: expends 40 hours doing office paperwork.\n",
      "\n",
      "Calculating Payroll\n",
      "==================\n",
      "Payroll for: 1 - Mary Poppins\n",
      "- Check amount: 3000\n",
      "\n",
      "Payroll for: 2 - John Smith\n",
      "- Check amount: 1500\n",
      "\n",
      "Payroll for: 3 - Kevin Bacon\n",
      "- Check amount: 1250\n",
      "\n",
      "Payroll for: 4 - Jane Doe\n",
      "- Check amount: 600\n",
      "\n",
      "Payroll for: 5 - Robin Williams\n",
      "- Check amount: 360\n",
      "\n"
     ]
    }
   ],
   "source": [
    "manager = Manager(1, \"Mary Poppins\", 3000)\n",
    "secretary = Secretary(2, \"John Smith\", 1500)\n",
    "sales_guy = SalesPerson(3, \"Kevin Bacon\", 1000, 250)\n",
    "factory_worker = FactoryWorker(4, \"Jane Doe\", 40, 15)\n",
    "temporary_secretary = TemporarySecretary(5, \"Robin Williams\", 40, 9)\n",
    "company_employees = [\n",
    "    manager,\n",
    "    secretary,\n",
    "    sales_guy,\n",
    "    factory_worker,\n",
    "    temporary_secretary,\n",
    "]\n",
    "\n",
    "productivity_system = ProductivitySystem()\n",
    "productivity_system.track(company_employees, 40)\n",
    "\n",
    "payroll_system = PayrollSystem()\n",
    "payroll_system.print_payroll(company_employees)"
   ]
  },
  {
   "cell_type": "markdown",
   "id": "42f427c7",
   "metadata": {},
   "source": [
    "## **Composition**\n",
    "\n",
    "Composition is more flexible than inheritance because it models a lossely coupled relationship. Changes to a componenet class will have a minimal effect on the composit class. So Design based on composition are more suitable to change. We can provide new componenets and remove some components, this helps because relying too much on inheritance can lead to class explosion. Inheritance often leads to tight tight coupling especially when a lot of classes that are involved and the inherit from each other. "
   ]
  },
  {
   "cell_type": "markdown",
   "id": "104c4fea",
   "metadata": {},
   "source": [
    "We will re-design the whole System using composition."
   ]
  },
  {
   "cell_type": "markdown",
   "id": "8e538b97",
   "metadata": {},
   "source": [
    "Both `Payment policies` and `Role policies` will be used as componenets for our Employee class. So we will delegate responsibilities like `calculaye_payroll()` and `work()` to the classes so we don't have to repeat ourselves (DRY)"
   ]
  },
  {
   "cell_type": "code",
   "execution_count": 1,
   "id": "cf501957",
   "metadata": {},
   "outputs": [],
   "source": [
    "# payment policies to be used has a component\n",
    "\n",
    "class SalaryPolicy:\n",
    "    def __init__(self, weekly_salary):\n",
    "        self.weekly_salary = weekly_salary\n",
    "\n",
    "    def calculate_payroll(self):\n",
    "        return self.weekly_salary\n",
    "class HourlyPolicy:\n",
    "    def __init__(self, hours_worked, hourly_rate):\n",
    "        self.hours_worked = hours_worked\n",
    "        self.hourly_rate = hourly_rate\n",
    "    \n",
    "    def calculate_payroll(self):\n",
    "        return self.hours_worked * self.hourly_rate\n",
    "class CommissionPolicy(SalaryPolicy):\n",
    "    def __init__(self, commission, weekly_salary):\n",
    "        super().__init__(weekly_salary)\n",
    "        self.commission = commission\n",
    "\n",
    "    def calculate_payroll(self):\n",
    "        fixed = super().calculate_payroll()\n",
    "        return fixed + self.commission\n",
    "    \n",
    "\n",
    "# Role Policies to be used as a componenet for employee\n",
    "class ManagerRole:\n",
    "    def work(self, hours):\n",
    "        return f\"Screams and yells for {hours} hours.\"\n",
    "    \n",
    "class SecretaryRole:\n",
    "    def work(self, hours):\n",
    "        return f\"expends {hours} hours doing office paperwork.\"\n",
    "\n",
    "class SalesRole:\n",
    "    def work(self, hours):\n",
    "        return f\"expends {hours} hours on the phone\"\n",
    "    \n",
    "class FactoryRole:\n",
    "    def work(self, hours):\n",
    "        return f\"manufactures gadgets for {hours} hours.\"\n",
    "\n",
    "# Create Employee class\n",
    "class Employee:\n",
    "    def __init__(self, id, name, role, payment_policy):\n",
    "        self.id = id\n",
    "        self.name = name\n",
    "        self.role = role\n",
    "        self.payment_policy = payment_policy\n",
    "        \n",
    "\n",
    "    def calculate_payroll(self):\n",
    "        return self.payment_policy.calculate_payroll()\n",
    "    \n",
    "    def work(self, hours):\n",
    "        return self.role.work(hours)\n",
    "\n",
    "    \n",
    "        "
   ]
  },
  {
   "cell_type": "markdown",
   "id": "62a968f2",
   "metadata": {},
   "source": [
    "You can see how we used composition to make the two policy classes componenet of employee and avoided multiple inheritance.\n",
    "Now we will go ahead to write multiple versions Employee types that inherits from `Employee` class"
   ]
  },
  {
   "cell_type": "code",
   "execution_count": null,
   "id": "99c01ff6",
   "metadata": {},
   "outputs": [],
   "source": [
    "# Types of Employees\n",
    "class Manager(Employee):\n",
    "    # we don't need to add role nad pay_maent policy to Manager\n",
    "    # init method since manager already inherits them from Employee\n",
    "    # we will only set them and show them in super().__init__()\n",
    "    def __init__(self, id, name, weekly_salary):\n",
    "        role = ManagerRole()\n",
    "        payment_policy = SalaryPolicy(weekly_salary)\n",
    "        super().__init__(id, name, role, payment_policy)\n",
    "\n",
    "class Secretary(Employee):\n",
    "    def __init__(self, id, name, weekly_salary):\n",
    "        role = SecretaryRole()\n",
    "        payment_policy = SalaryPolicy(weekly_salary)\n",
    "        super().__init__(id, name, role, payment_policy)\n",
    "\n",
    "class SalesPerson(Employee):\n",
    "    def __init__(self, id, name, weekly_salary, commission):\n",
    "        role = SalesRole()\n",
    "        payment_policy = CommissionPolicy(weekly_salary, commission)\n",
    "        super().__init__(id, name, role, payment_policy)\n",
    "\n",
    "class FactoryWorker(Employee):\n",
    "    def __init__(self, id, name, hours_worked, hourly_rate):\n",
    "        role = FactoryRole()\n",
    "        payment_policy = HourlyPolicy(hours_worked, hourly_rate)\n",
    "        super().__init__(id, name, role, payment_policy)\n",
    "\n",
    "class TemporarySecretary(Employee):\n",
    "    def __init__(self, id, name, hours_worked, hourly_rate):\n",
    "        role = SecretaryRole()\n",
    "        payment_policy = HourlyPolicy(hours_worked, hourly_rate)\n",
    "        super().__init__(id, name, role, payment_policy)\n",
    "\n"
   ]
  },
  {
   "cell_type": "code",
   "execution_count": 3,
   "id": "8a60dd76",
   "metadata": {},
   "outputs": [],
   "source": [
    "class PayrollSystem:\n",
    "    def print_payroll(self, employees):\n",
    "        print(\"Calculating Payroll\")\n",
    "        print(\"==================\")\n",
    "        for emp in employees:\n",
    "            print(f\"Payroll for: {emp.id} - {emp.name}\")\n",
    "            print(f\"- Check amount: {emp.calculate_payroll()}\")\n",
    "            print(\"\")\n",
    "\n",
    "class ProductivitySystem:\n",
    "    def track(self, employees, hours):\n",
    "        print(\"Tracking Employee Productivity\")\n",
    "        print(\"==============================\")\n",
    "        for employee in employees:\n",
    "            result = employee.work(hours)\n",
    "            print(f\"{employee.name}: {result}\")\n",
    "        print(\"\")\n"
   ]
  },
  {
   "cell_type": "markdown",
   "id": "0bc826c2",
   "metadata": {},
   "source": [
    "We can descide to make a database to store employees in the Payroll system."
   ]
  },
  {
   "cell_type": "code",
   "execution_count": 4,
   "id": "b738bbad",
   "metadata": {},
   "outputs": [],
   "source": [
    "class PayrollSystem:\n",
    "    def __init__(self):\n",
    "        # Database of employees: key is employee ID, value is Employee object\n",
    "        self.employee_db = {}\n",
    "\n",
    "    def add_employee(self, employee):\n",
    "        \"\"\"Add a new employee to the payroll database\"\"\"\n",
    "        self.employee_db[employee.id] = employee\n",
    "        print(f\"Employee {employee.name} added to the system.\")\n",
    "\n",
    "    def remove_employee(self, employee_id):\n",
    "        \"\"\"Remove an employee from the payroll database by employee ID\"\"\"\n",
    "        if employee_id in self.employee_db:\n",
    "            removed_employee = self.employee_db.pop(employee_id)\n",
    "            print(f\"Employee {removed_employee.name} removed from the system.\")\n",
    "        else:\n",
    "            print(f\"Employee with ID {employee_id} not found.\")\n",
    "\n",
    "    def update_employee(self, employee_id, updated_employee):\n",
    "        \"\"\"Update an existing employee's data\"\"\"\n",
    "        if employee_id in self.employee_db:\n",
    "            self.employee_db[employee_id] = updated_employee\n",
    "            print(f\"Employee {updated_employee.name} updated.\")\n",
    "        else:\n",
    "            print(f\"Employee with ID {employee_id} not found.\")\n",
    "    \n",
    "    def get_employee(self, employee_id):\n",
    "        \"\"\"Retrieve an employee by ID\"\"\"\n",
    "        return self.employee_db.get(employee_id, None)\n",
    "\n",
    "    def print_payroll(self):\n",
    "        \"\"\"Calculate and print the payroll for all employees\"\"\"\n",
    "        print(\"Calculating Payroll\")\n",
    "        print(\"==================\")\n",
    "        for emp in self.employee_db.values():\n",
    "            print(f\"Payroll for: {emp.id} - {emp.name}\")\n",
    "            print(f\"- Check amount: {emp.calculate_payroll()}\")\n",
    "            print(\"\")\n",
    "    \n",
    "    def track_productivity(self, hours):\n",
    "        \"\"\"Track and print productivity for all employees\"\"\"\n",
    "        print(\"Tracking Employee Productivity\")\n",
    "        print(\"==============================\")\n",
    "        for emp in self.employee_db.values():\n",
    "            result = emp.work(hours)\n",
    "            print(f\"{emp.name}: {result}\")\n",
    "        print(\"\")\n"
   ]
  },
  {
   "cell_type": "code",
   "execution_count": 5,
   "id": "3124f41e",
   "metadata": {},
   "outputs": [
    {
     "name": "stdout",
     "output_type": "stream",
     "text": [
      "Employee Alice added to the system.\n",
      "Employee Bob added to the system.\n",
      "Employee Charlie added to the system.\n",
      "Employee Dave added to the system.\n",
      "Employee Eve added to the system.\n",
      "Calculating Payroll\n",
      "==================\n",
      "Payroll for: 1 - Alice\n",
      "- Check amount: 1000\n",
      "\n",
      "Payroll for: 2 - Bob\n",
      "- Check amount: 800\n",
      "\n",
      "Payroll for: 3 - Charlie\n",
      "- Check amount: 1700\n",
      "\n",
      "Payroll for: 4 - Dave\n",
      "- Check amount: 600\n",
      "\n",
      "Payroll for: 5 - Eve\n",
      "- Check amount: 600\n",
      "\n",
      "Tracking Employee Productivity\n",
      "==============================\n",
      "Alice: Screams and yells for 8 hours.\n",
      "Bob: expends 8 hours doing office paperwork.\n",
      "Charlie: expends 8 hours on the phone\n",
      "Dave: manufactures gadgets for 8 hours.\n",
      "Eve: expends 8 hours doing office paperwork.\n",
      "\n",
      "Employee Charlie updated.\n",
      "Calculating Payroll\n",
      "==================\n",
      "Payroll for: 1 - Alice\n",
      "- Check amount: 1000\n",
      "\n",
      "Payroll for: 2 - Bob\n",
      "- Check amount: 800\n",
      "\n",
      "Payroll for: 3 - Charlie\n",
      "- Check amount: 1900\n",
      "\n",
      "Payroll for: 4 - Dave\n",
      "- Check amount: 600\n",
      "\n",
      "Payroll for: 5 - Eve\n",
      "- Check amount: 600\n",
      "\n",
      "Employee Eve removed from the system.\n",
      "Calculating Payroll\n",
      "==================\n",
      "Payroll for: 1 - Alice\n",
      "- Check amount: 1000\n",
      "\n",
      "Payroll for: 2 - Bob\n",
      "- Check amount: 800\n",
      "\n",
      "Payroll for: 3 - Charlie\n",
      "- Check amount: 1900\n",
      "\n",
      "Payroll for: 4 - Dave\n",
      "- Check amount: 600\n",
      "\n",
      "Found employee: Alice, Role: ManagerRole\n"
     ]
    }
   ],
   "source": [
    "# Create some employees\n",
    "manager = Manager(1, \"Alice\", 1000)\n",
    "secretary = Secretary(2, \"Bob\", 800)\n",
    "salesperson = SalesPerson(3, \"Charlie\", 1200, 500)\n",
    "factory_worker = FactoryWorker(4, \"Dave\", 40, 15)\n",
    "temp_secretary = TemporarySecretary(5, \"Eve\", 30, 20)\n",
    "\n",
    "# Create a PayrollSystem\n",
    "payroll_system = PayrollSystem()\n",
    "\n",
    "# Add employees to the payroll system\n",
    "payroll_system.add_employee(manager)\n",
    "payroll_system.add_employee(secretary)\n",
    "payroll_system.add_employee(salesperson)\n",
    "payroll_system.add_employee(factory_worker)\n",
    "payroll_system.add_employee(temp_secretary)\n",
    "\n",
    "# Print the payroll\n",
    "payroll_system.print_payroll()\n",
    "\n",
    "# Track productivity for all employees\n",
    "payroll_system.track_productivity(8)\n",
    "\n",
    "# Update an employee's information\n",
    "new_salesperson = SalesPerson(3, \"Charlie\", 1300, 600)\n",
    "payroll_system.update_employee(3, new_salesperson)\n",
    "\n",
    "# Print the updated payroll\n",
    "payroll_system.print_payroll()\n",
    "\n",
    "# Remove an employee from the system\n",
    "payroll_system.remove_employee(5)\n",
    "\n",
    "# Print the payroll after removal\n",
    "payroll_system.print_payroll()\n",
    "\n",
    "# Get an employee by ID\n",
    "employee = payroll_system.get_employee(1)\n",
    "if employee:\n",
    "    print(f\"Found employee: {employee.name}, Role: {employee.role.__class__.__name__}\")\n",
    "else:\n",
    "    print(\"Employee not found.\")\n"
   ]
  },
  {
   "cell_type": "markdown",
   "id": "07004a38",
   "metadata": {},
   "source": [
    "Let's look at a simple example of composition. say we want every worker address to registered and shown in the payroll of workers, instead of tweaking our "
   ]
  },
  {
   "cell_type": "markdown",
   "id": "94fa9aa5",
   "metadata": {},
   "source": [
    "## 2. **Encapsulation**\n",
    "**Encapsulation** is a fundamental OOP concepts which involves bundling data (attributes) and behaviours (Methods) that work on this data into a single entity (class). So far we have done this in almost every single class we wrote and hence we have been practicing encapsulation. Encapsulation is one of the benefits of OOP."
   ]
  },
  {
   "cell_type": "markdown",
   "id": "a3408340",
   "metadata": {},
   "source": [
    "## 3. **Polymorphism**\n",
    "**Polymorphism** is an important concept of OOP which allows different classes to be treated the same say, this is because they implement the same interface. Polymorphism is usually implemented through `duck typing` but can also be implemeted through `inheritance` and `method overriding`. As we observe a lot of our examples so far especially in inheritance implements polymorphism."
   ]
  },
  {
   "cell_type": "code",
   "execution_count": null,
   "id": "6d210e6a",
   "metadata": {},
   "outputs": [],
   "source": []
  }
 ],
 "metadata": {
  "kernelspec": {
   "display_name": "Python 3",
   "language": "python",
   "name": "python3"
  },
  "language_info": {
   "codemirror_mode": {
    "name": "ipython",
    "version": 3
   },
   "file_extension": ".py",
   "mimetype": "text/x-python",
   "name": "python",
   "nbconvert_exporter": "python",
   "pygments_lexer": "ipython3",
   "version": "3.12.4"
  }
 },
 "nbformat": 4,
 "nbformat_minor": 5
}

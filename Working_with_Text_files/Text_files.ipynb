{
 "cells": [
  {
   "cell_type": "markdown",
   "metadata": {},
   "source": [
    "# Several ways to read a file"
   ]
  },
  {
   "cell_type": "markdown",
   "metadata": {},
   "source": [
    "### 1. load file line by line using a list comprehension"
   ]
  },
  {
   "cell_type": "code",
   "execution_count": 1,
   "metadata": {},
   "outputs": [],
   "source": [
    "lines = [line.strip() for line in open(\"example.txt\")]"
   ]
  },
  {
   "cell_type": "code",
   "execution_count": 3,
   "metadata": {},
   "outputs": [
    {
     "name": "stdout",
     "output_type": "stream",
     "text": [
      "['Hello.', 'This is a text file.', 'Bye!']\n"
     ]
    }
   ],
   "source": [
    "print(lines)"
   ]
  },
  {
   "cell_type": "markdown",
   "metadata": {},
   "source": [
    "### 2. Reading the entire file into a single string"
   ]
  },
  {
   "cell_type": "code",
   "execution_count": 4,
   "metadata": {},
   "outputs": [
    {
     "name": "stdout",
     "output_type": "stream",
     "text": [
      "Hello.\n",
      " This is a text file.\n",
      " Bye!\n"
     ]
    }
   ],
   "source": [
    "s = open(\"example.txt\").read()\n",
    "print(s)"
   ]
  },
  {
   "cell_type": "code",
   "execution_count": 5,
   "metadata": {},
   "outputs": [
    {
     "name": "stdout",
     "output_type": "stream",
     "text": [
      "Hello.\n",
      " This is a text file.\n",
      " Bye!\n"
     ]
    }
   ],
   "source": [
    "# OR\n",
    "with open(\"example.txt\") as fh:\n",
    "    content = fh.read()\n",
    "print(content)"
   ]
  },
  {
   "cell_type": "markdown",
   "metadata": {},
   "source": [
    "## Writing into files\n",
    "\n",
    "we can do this by opening the file in write mode then printing into this file\n",
    "once you are done writing close the file with `close()`"
   ]
  },
  {
   "cell_type": "code",
   "execution_count": 10,
   "metadata": {},
   "outputs": [],
   "source": [
    "f = open(\"samplefile.txt\", \"w\")\n",
    "print(\"This is line 1. \", file= f)\n",
    "print(\"This is line 2. \",  file= f)\n",
    "f.close()"
   ]
  },
  {
   "cell_type": "code",
   "execution_count": 11,
   "metadata": {},
   "outputs": [
    {
     "name": "stdout",
     "output_type": "stream",
     "text": [
      "This is line 1. \n",
      "This is line 2. \n",
      "\n"
     ]
    }
   ],
   "source": [
    "s = open(\"samplefile.txt\").read()\n",
    "print(s)"
   ]
  },
  {
   "cell_type": "markdown",
   "metadata": {},
   "source": [
    "Write a program that reads a list of temperatures from a file called temps.txt, con\n",
    "verts those temperatures to Fahrenheit, and writes the results to a file called ftemps.txt."
   ]
  },
  {
   "cell_type": "code",
   "execution_count": null,
   "metadata": {},
   "outputs": [],
   "source": [
    "temps = [lines.strip() for lines in open(\"ftemp.txt\")]\n",
    "f = open(\"ctemp.txt\", \"w\")\n",
    "for temp in temps:\n",
    "     print(int(temp)*9/5+32, file=f)\n",
    "f.close()\n",
    "\n"
   ]
  },
  {
   "cell_type": "markdown",
   "metadata": {},
   "source": [
    "### **`with` statement** "
   ]
  },
  {
   "cell_type": "markdown",
   "metadata": {},
   "source": [
    "with allows us to open a file while not worrying about closing it, it automatically closes the file when underlying logic is done."
   ]
  },
  {
   "cell_type": "code",
   "execution_count": 1,
   "metadata": {},
   "outputs": [
    {
     "name": "stdout",
     "output_type": "stream",
     "text": [
      "This is line 1. \n",
      "This is line 2. \n",
      "\n"
     ]
    }
   ],
   "source": [
    "with open(\"samplefile.txt\") as fh:\n",
    "    content =  fh.read()\n",
    "    print(content)\n"
   ]
  },
  {
   "cell_type": "markdown",
   "metadata": {},
   "source": [
    "### **`read()`, `readline()` and `readlines()`**"
   ]
  },
  {
   "cell_type": "markdown",
   "metadata": {},
   "source": [
    "* `read()`: Reads the entire file as one large string, with an optional argument (n) to specify how many characters to read.\n",
    "\n",
    "* `readline()`: Reads one line at a time, useful for processing files line-by-line.\n",
    "\n",
    "* `readlines()`: Reads the entire file but returns the content as a list of lines, where each element is a string representing one line.\n"
   ]
  },
  {
   "cell_type": "code",
   "execution_count": 4,
   "metadata": {},
   "outputs": [
    {
     "name": "stdout",
     "output_type": "stream",
     "text": [
      "This\n"
     ]
    }
   ],
   "source": [
    "with open(\"samplefile.txt\") as fh:\n",
    "    first_4_chr = fh.read(4)\n",
    "    print(first_4_chr)"
   ]
  },
  {
   "cell_type": "code",
   "execution_count": 5,
   "metadata": {},
   "outputs": [
    {
     "name": "stdout",
     "output_type": "stream",
     "text": [
      "This is line 1. \n",
      "This is line 2. \n",
      "\n"
     ]
    }
   ],
   "source": [
    "with open(\"samplefile.txt\") as fh:\n",
    "    content = fh.read()\n",
    "    print(content)"
   ]
  },
  {
   "cell_type": "code",
   "execution_count": 6,
   "metadata": {},
   "outputs": [
    {
     "name": "stdout",
     "output_type": "stream",
     "text": [
      "This is line 1. \n",
      "\n",
      "This is line 2. \n",
      "\n"
     ]
    }
   ],
   "source": [
    "with open(\"samplefile.txt\") as fh:\n",
    "    line1 = fh.readline()\n",
    "    print(line1)\n",
    "    line2 = fh.readline()\n",
    "    print(line2)"
   ]
  },
  {
   "cell_type": "code",
   "execution_count": 7,
   "metadata": {},
   "outputs": [
    {
     "name": "stdout",
     "output_type": "stream",
     "text": [
      "['This is line 1. \\n', 'This is line 2. \\n']\n"
     ]
    }
   ],
   "source": [
    "with open(\"samplefile.txt\") as fh:\n",
    "    lines = fh.readlines()\n",
    "    print(lines)\n"
   ]
  },
  {
   "cell_type": "markdown",
   "metadata": {},
   "source": [
    "### **Opening files in read mode**"
   ]
  },
  {
   "cell_type": "markdown",
   "metadata": {},
   "source": [
    "For more memory efficient processing we might not want to read the entire file into memory as a string or list, we can simple open file in read instead with the `\"r\"` statement."
   ]
  },
  {
   "cell_type": "code",
   "execution_count": 9,
   "metadata": {},
   "outputs": [
    {
     "name": "stdout",
     "output_type": "stream",
     "text": [
      "This is line 1. \n",
      "\n",
      "This is line 2. \n",
      "\n"
     ]
    }
   ],
   "source": [
    "with open(\"samplefile.txt\", \"r\") as fh:\n",
    "    for i in range(2):\n",
    "        print(fh.readline())"
   ]
  },
  {
   "cell_type": "code",
   "execution_count": null,
   "metadata": {},
   "outputs": [],
   "source": []
  }
 ],
 "metadata": {
  "kernelspec": {
   "display_name": "Python 3",
   "language": "python",
   "name": "python3"
  },
  "language_info": {
   "codemirror_mode": {
    "name": "ipython",
    "version": 3
   },
   "file_extension": ".py",
   "mimetype": "text/x-python",
   "name": "python",
   "nbconvert_exporter": "python",
   "pygments_lexer": "ipython3",
   "version": "3.12.4"
  }
 },
 "nbformat": 4,
 "nbformat_minor": 2
}

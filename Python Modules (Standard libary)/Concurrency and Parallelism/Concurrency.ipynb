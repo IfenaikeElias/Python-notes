{
 "cells": [
  {
   "cell_type": "markdown",
   "id": "dbdc0857",
   "metadata": {},
   "source": [
    "### **Concurrency**"
   ]
  },
  {
   "cell_type": "markdown",
   "id": "c7940148",
   "metadata": {},
   "source": [
    "Concunrency refers to a sequence of task run in order where each can stop at certain time and the computer interleaves ( CPU can switch to a different task at the middle of a running task and comeback to continue it later). The state of each task/ process is saved and can be restored where it was left/ interrupted.\n"
   ]
  },
  {
   "cell_type": "markdown",
   "id": "7da8f4de",
   "metadata": {},
   "source": [
    "In Concurrency, the words tasks, threads and process are used but they have different meanings but on higher level the terms can be used interchangably."
   ]
  },
  {
   "cell_type": "markdown",
   "id": "6123eade",
   "metadata": {},
   "source": [
    "On the other hand running a sequence of tasks at the same time is refered to as parrallelism"
   ]
  },
  {
   "cell_type": "markdown",
   "id": "edcf3973",
   "metadata": {},
   "source": [
    "Threads and Asynchronous tasks always run on a single processor, which means they can run only one at a time. They just find a way to take turns to speed up overall process in some cases."
   ]
  },
  {
   "cell_type": "markdown",
   "id": "5c9bddb2",
   "metadata": {},
   "source": [
    "1. Process: A process is an independent program in execution.\n",
    "2. Thread: A thread is a smaller unit of execution inside a process. A process can have one thread (single-threaded) or many (multi-threaded). It's a Subunit of a process.\n",
    "3. Task: A task is unit of work or a to-do-item. they are like threads but are called fake threads because the don't need to be in a process or they don't require a process to exist. So basically a task is waiting to be executed by a thread.\n"
   ]
  },
  {
   "cell_type": "markdown",
   "id": "dbc737ab",
   "metadata": {},
   "source": [
    "A multi-threaded program can do different things at the same time by running it's thread concurrently."
   ]
  },
  {
   "cell_type": "markdown",
   "id": "9723bdc1",
   "metadata": {},
   "source": [
    "Threads in most languages often run in parrallel. But not the case in python because of Python Global Interpreter Lock (GIL)"
   ]
  },
  {
   "cell_type": "markdown",
   "id": "f187eb1d",
   "metadata": {},
   "source": [
    "The way a multithread works is that the Operation System knows about each thread and can interrupt it at any time to start running a different thread. This mechanism occurs in processes and it's called `preemptive multitasking` since the operating sysytem can **preempt** your thread or process to make the switch betweeb threads consequently ensuring fair time-sharing."
   ]
  },
  {
   "cell_type": "markdown",
   "id": "f89b597b",
   "metadata": {},
   "source": [
    "`Asynchronous tasks` use `cooperative multitasking` (where the task decide when to give up control and conitnue (i.e pre-computed in code logic)) instead of `premtive multitasking` (i.e Operating decides when to witch tasks external to python). The tasks cooperate with each other and let each other know when they are ready to switch. Tasks don't require the operation system to run them unlike threads. they are just piece of code waiting to be executed by the OS."
   ]
  },
  {
   "cell_type": "markdown",
   "id": "126fe230",
   "metadata": {},
   "source": [
    "### **Parallelism**"
   ]
  },
  {
   "cell_type": "markdown",
   "id": "e68087b5",
   "metadata": {},
   "source": [
    "Since we know that concurrency happens on a single processor. In other to utilize all the cores our CPU has we can use all execute separate process (multiple programs). One way to think of it is that each process runs in its own python interpreter. Runnning on a different core means that they can actually run at the same time."
   ]
  },
  {
   "cell_type": "markdown",
   "id": "d6cdc856",
   "metadata": {},
   "source": [
    "Both `threading` and `multiprocessing` represent fairly low-level building blocks in concurrent programs. In practice, you can often replace them with `concurrent.futures`, which provides a higher-level interface for both modules. On the other hand, asyncio offers a bit of a different approach to concurrency, which you’ll dive into later."
   ]
  },
  {
   "cell_type": "markdown",
   "id": "b931f698",
   "metadata": {},
   "source": [
    "`Multiprocessing` while being parrallel can still be preemptive (because we would expect that since multiple processes occur in different cores they shoudn't have to wait for each other but in real world systems things aren't always ideal. We won't always ahve the same number of cores and processes. Say we have 4 cores and 20 processes. Even if processes will run in parrallel (multiprocessing) preemption will still occurs as we don't have enough cores for 20 processes)."
   ]
  },
  {
   "cell_type": "markdown",
   "id": "282ac5ea",
   "metadata": {},
   "source": [
    "|Myths|Clarification|\n",
    "|-----|-------------|\n",
    "|Multiple cores means no need for preemption|Not always. Preemption is still needed for fairness, limits, and control|\n",
    "|Independent processes don’t interfere|True logically, but they still compete for shared hardware|\n",
    "|Only one thing runs on one core at a time|True, so if you have more tasks than cores, you must preempt|"
   ]
  },
  {
   "cell_type": "code",
   "execution_count": null,
   "id": "a90f9afb",
   "metadata": {},
   "outputs": [],
   "source": []
  },
  {
   "cell_type": "markdown",
   "id": "55b5f621",
   "metadata": {},
   "source": []
  }
 ],
 "metadata": {
  "language_info": {
   "name": "python"
  }
 },
 "nbformat": 4,
 "nbformat_minor": 5
}

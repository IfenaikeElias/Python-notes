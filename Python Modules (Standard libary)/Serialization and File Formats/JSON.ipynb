{
 "cells": [
  {
   "cell_type": "markdown",
   "id": "30df8966",
   "metadata": {},
   "source": [
    "https://realpython.com/python-json/?utm_source=realpython&utm_medium=web&utm_campaign=related-post&utm_content=python-serialize-data"
   ]
  },
  {
   "cell_type": "markdown",
   "id": "92202332",
   "metadata": {},
   "source": []
  }
 ],
 "metadata": {
  "language_info": {
   "name": "python"
  }
 },
 "nbformat": 4,
 "nbformat_minor": 5
}

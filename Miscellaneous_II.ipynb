{
 "cells": [
  {
   "cell_type": "markdown",
   "metadata": {},
   "source": [
    "## Mutability and References"
   ]
  },
  {
   "cell_type": "markdown",
   "metadata": {},
   "source": [
    "###   Mutability\n",
    "\n",
    "Mutable object is one whose content can change while immutable is one that cannot be changed. List and Dictionaries are mutable while strings are immutable, this is partly because (immutable objects are faster) they are thought of as fundamental in the same way as numbers.\n",
    "\n",
    "\n"
   ]
  },
  {
   "cell_type": "markdown",
   "metadata": {},
   "source": [
    "We can demostrate this by making copies"
   ]
  },
  {
   "cell_type": "code",
   "execution_count": 1,
   "metadata": {},
   "outputs": [
    {
     "name": "stdout",
     "output_type": "stream",
     "text": [
      "L now:  [9, 2, 3] Copy now:  [9, 2, 3]\n"
     ]
    }
   ],
   "source": [
    "L = [1, 2, 3]\n",
    "Copy = L\n",
    "\n",
    "# let's change L\n",
    "L[0] = 9\n",
    "print(\"L now: \", L ,\"Copy now: \", Copy)"
   ]
  },
  {
   "cell_type": "code",
   "execution_count": 2,
   "metadata": {},
   "outputs": [
    {
     "name": "stdout",
     "output_type": "stream",
     "text": [
      "s now:  Hello!!! Copy now:  Hello\n"
     ]
    }
   ],
   "source": [
    "s = \"Hello\"\n",
    "Copy = s\n",
    "\n",
    "s = s + \"!!!\"\n",
    "\n",
    "print(\"s now: \", s , \"Copy now: \", Copy)"
   ]
  },
  {
   "cell_type": "markdown",
   "metadata": {},
   "source": [
    "We can notice that when L was modified Copy was also consequently modified. while when s was modified this did not affect it's copy. This is because of something called `\"References\"` which we will discuss."
   ]
  },
  {
   "cell_type": "markdown",
   "metadata": {},
   "source": [
    "### References"
   ]
  },
  {
   "cell_type": "markdown",
   "metadata": {},
   "source": [
    "Everything in Python, including integers, strings and lists are an object (Objects are python abstraction for data, meaning all data in python is represented by an object or an object that relates to another object. Every object has an identity (this is the objects memory address, can be checked by doing idx(x) in Cpython), type and a value. Hence why it is called an object oriented language) . When we assign a variable, say `x= 32`, python creates an integer object with value of `32` and x acts as a refernce to that object. Its not like `32` is stored in a memory location named `x` rather `32` is stored in a memory location and x points to that location. If we declare `y = 32`, y also points to that location.\n",
    "\n",
    "On the other hand, if we then come along and say `x=19`, what happens is we create a new integer object with value  somewhere in memory and x now points at that. The `32` still exists in memory where it was and it will stay  until there is nothing pointing at it, at which point its memory location will be free to use for something else."
   ]
  },
  {
   "cell_type": "markdown",
   "metadata": {},
   "source": [
    "All objects are treated the same way. When we set `s='Hello'`, the string object `Hello` is some\n",
    "where in memory and `s` is a reference to it. When we then say copy=x, we are actually saying that copy is another reference to `'Hello'`. If we then do `s=s+'!!!'`, what happens is a new object `'Hello!!!'` is created and because we assigned `s` to it, `s` is now a reference to that new object, `'Hello!!!'`. Remember that strings are immutable, so there is no changing `'Hello'` into something. Rather, Python creates a new object and points the variable `s` to it."
   ]
  },
  {
   "cell_type": "markdown",
   "metadata": {},
   "source": [
    "When we set `L=[1,2,3]`, we create a list object `[1,2,3]` and a reference, L, to it. When we say `copy=L`, we are making another reference to the object `[1,2,3]`. When we do `L[0]=9`, because lists are mutable, the list `[1,2,3]` is changed, in place, to `[9,2,3]`. No new object is created. The list `[1,2,3]` is now gone, and since copy is still pointing to the same location, it’s value is `[9,2,3]`."
   ]
  },
  {
   "cell_type": "markdown",
   "metadata": {},
   "source": [
    "On the other hand, if we instead use `copy=L[:]`, we are actually creating a new list object some where else in memory so that there are two copies of `[1,2,3]` in memory. Then when we do `L[0]=9`, we are only changing the thing that `L` points to, and copy still points to `[1,2,3]`."
   ]
  },
  {
   "cell_type": "markdown",
   "metadata": {},
   "source": [
    "Just one further note to drive the point home. If we set x=`32` and then set `x=19`, we are first creating an integer object `32` and pointing `x` to it. When we then set x=`19`, we are creating a new integer object `19` and pointing `x` to it. The net effect is that it seems like the “value” of `x` is changing, but what is in fact changing is what `x` is pointing to."
   ]
  },
  {
   "cell_type": "markdown",
   "metadata": {},
   "source": [
    "## Garbage Collection"
   ]
  },
  {
   "cell_type": "markdown",
   "metadata": {},
   "source": [
    "When nothing is pointing to an object anymore python discards it and the memory it has been using becomes available again. python keeps count of the number of `references` pointing to an ogject. when this count drops to 0, the unused object is deleted as a result."
   ]
  },
  {
   "cell_type": "markdown",
   "metadata": {},
   "source": [
    "# Tuples"
   ]
  },
  {
   "cell_type": "markdown",
   "metadata": {},
   "source": [
    "Tuples are immutable lists, they're are sequence of objects that may be covered in parantheses. Indexing and slicing works just like list and other list function like len(), count(), index(x) are applicable except functions like sort(), reverse() because tuples are immutable. when ever we need a list that maintains order and his immutable tuples are our go to."
   ]
  },
  {
   "cell_type": "markdown",
   "metadata": {},
   "source": [
    "## Why are Tuples immutable"
   ]
  },
  {
   "cell_type": "markdown",
   "metadata": {},
   "source": [
    "Tuples maintains a fixed memory address and size, hence one a tuple is created it's memory block is fixed and cannot be modified. When you try to modify the tuple python creates a new memory block for the modified data. The old tuple is left unchanged in memory (it becomes unused, and the garbage collector may clean it up later).\n",
    "\n",
    "1. This is usually because a tuple is a way to show order. Tuples maintain order of elements and a fixed size.\n",
    "2. when two or more variables point to the same tuple, Python can safely share the underlying memory. ensuring memory efficiency and protection\n",
    "3. Since tuples cannot be modified, there's no risk of one reference modifying the object in a way that would affect the other reference. This allows Python to handle memory more efficiently.\n",
    "4. Tuples are better for hashing, as when they are used, because their value and order cannot be changed, unlike lists which are mutuable and capable of corrupting data structures that use hashing"
   ]
  },
  {
   "cell_type": "markdown",
   "metadata": {},
   "source": [
    "### converting other datatypes to tuples"
   ]
  },
  {
   "cell_type": "markdown",
   "metadata": {},
   "source": [
    "this can be done with the key word `tuple`"
   ]
  },
  {
   "cell_type": "code",
   "execution_count": 3,
   "metadata": {},
   "outputs": [
    {
     "data": {
      "text/plain": [
       "('a', 'b', 'c', 'd', 'e')"
      ]
     },
     "execution_count": 3,
     "metadata": {},
     "output_type": "execute_result"
    }
   ],
   "source": [
    "tuple(\"abcde\")"
   ]
  },
  {
   "cell_type": "code",
   "execution_count": 4,
   "metadata": {},
   "outputs": [
    {
     "data": {
      "text/plain": [
       "(1, 2, 3, 4)"
      ]
     },
     "execution_count": 4,
     "metadata": {},
     "output_type": "execute_result"
    }
   ],
   "source": [
    "tuple([1, 2, 3, 4])"
   ]
  },
  {
   "cell_type": "code",
   "execution_count": 29,
   "metadata": {},
   "outputs": [
    {
     "data": {
      "text/plain": [
       "tuple"
      ]
     },
     "execution_count": 29,
     "metadata": {},
     "output_type": "execute_result"
    }
   ],
   "source": [
    "#initializing a tuple with one element\n",
    "\n",
    "a = (1,)\n",
    "type(a)"
   ]
  },
  {
   "cell_type": "markdown",
   "metadata": {},
   "source": [
    "As with lists, you can get the length of the tuple by using the `len` function, and, like lists, tuples have `count` and index methods. However, since a tuple is immutable, it does not have any of the other methods that lists have, like `sort` or `reverse`, as those change the list."
   ]
  },
  {
   "cell_type": "markdown",
   "metadata": {},
   "source": [
    "## Sets"
   ]
  },
  {
   "cell_type": "markdown",
   "metadata": {},
   "source": [
    "A set is a collection of unique values. Python has a data type called a set. Sets work like mathematical sets. They are a lot like lists with no repeats"
   ]
  },
  {
   "cell_type": "code",
   "execution_count": 5,
   "metadata": {},
   "outputs": [
    {
     "name": "stdout",
     "output_type": "stream",
     "text": [
      "<class 'set'>\n"
     ]
    }
   ],
   "source": [
    "s = {1, 2, 3, 4}\n",
    "print(type(s))"
   ]
  },
  {
   "cell_type": "code",
   "execution_count": 6,
   "metadata": {},
   "outputs": [
    {
     "name": "stdout",
     "output_type": "stream",
     "text": [
      "set()\n"
     ]
    }
   ],
   "source": [
    "# to Initialize an empty set\n",
    "s = set()\n",
    "print(s)"
   ]
  },
  {
   "cell_type": "code",
   "execution_count": 7,
   "metadata": {},
   "outputs": [
    {
     "data": {
      "text/plain": [
       "{1, 2, 3, 4}"
      ]
     },
     "execution_count": 7,
     "metadata": {},
     "output_type": "execute_result"
    }
   ],
   "source": [
    "# we can use the set function to convert things to set\n",
    "set([1, 2, 1, 3, 2, 4, 4])"
   ]
  },
  {
   "cell_type": "code",
   "execution_count": 10,
   "metadata": {},
   "outputs": [
    {
     "data": {
      "text/plain": [
       "{' ', 'a', 'e', 'h', 'i', 's', 't'}"
      ]
     },
     "execution_count": 10,
     "metadata": {},
     "output_type": "execute_result"
    }
   ],
   "source": [
    "set('this is a test')"
   ]
  },
  {
   "cell_type": "markdown",
   "metadata": {},
   "source": [
    "### Set operators"
   ]
  },
  {
   "cell_type": "markdown",
   "metadata": {},
   "source": [
    "| Operator | Description| Example|\n",
    "|----------|------------|--------|\n",
    "|  | Union| |\n",
    "|& | Intersection| |\n",
    "|- | Difference| {1, 2, 3} - {3, 4} -> {1, 2}\n",
    "|^ | Symmestric Difference| {1, 2, 3} ^ {3, 4} -> {1, 2, 4}\n",
    "\n",
    "\n",
    "\n",
    "`|` is the Union sign"
   ]
  },
  {
   "cell_type": "markdown",
   "metadata": {},
   "source": [
    "### Set Methods"
   ]
  },
  {
   "cell_type": "markdown",
   "metadata": {},
   "source": [
    "`a.issubset(b)`: returns True if a is subset of b\n",
    "\n",
    "`issuperset()`: returns True if a is superset of b\n",
    "\n",
    "`a.isdisjoint(b)`: returns True if a and b are disjoint(i.e do not intersect)\n",
    "\n",
    "`update()`: inplace union operation (same as union `|` but inplace)\n",
    "\n",
    "`add()`: adds a new element to a set\n",
    "\n",
    "`remove()`: removes and element from a set\n",
    "\n",
    "`discard()`: thesame as remove but doesn't throw out error if element is not in the set\n",
    "\n",
    "`pop()`: same as list pop\n",
    "\n",
    "`clear()`: deletes all set element\n",
    "\n",
    "`copy()`: returns a shallow copy"
   ]
  },
  {
   "cell_type": "markdown",
   "metadata": {},
   "source": [
    "### Set inplace Operations"
   ]
  },
  {
   "cell_type": "markdown",
   "metadata": {},
   "source": [
    "`inplace union (|= or update())`\n",
    "\n",
    "`inplace intersection( &= or intersection_update())`\n",
    "\n",
    "`inplace difference (-= or difference_update())`\n",
    "\n",
    "`inplace symmetric difference (^= or symmetric_difference_update())` "
   ]
  },
  {
   "cell_type": "markdown",
   "metadata": {},
   "source": [
    "# Unicode"
   ]
  },
  {
   "cell_type": "markdown",
   "metadata": {},
   "source": [
    "Unicode is a standard which uses more than one byte to store character data. Unicode currently supports over 65,000 characters. it contains the satndard ASCII characters and more.\n",
    "\n",
    "`chr` and `ord` built-in functions for accesing character using it's number and accesing number of a character from the character respectively."
   ]
  },
  {
   "cell_type": "code",
   "execution_count": 1,
   "metadata": {},
   "outputs": [
    {
     "name": "stdout",
     "output_type": "stream",
     "text": [
      "\u0000\u0001\u0002\u0003\u0004\u0005\u0006\t\n",
      "\u000e\u000f\u0010\u0011\u0012\u0013\u0014\u0015\u0016\u0017\u0018\u0019\u001a\u001b\u001c\u001d\u001e\u001f !\"#$%&'()*+,-./0123456789:;<=>?@ABCDEFGHIJKLMNOPQRSTUVWXYZ[\\]^_`abcdefghijklmnopqrstuvwxyz{|}~ ¡¢£¤¥¦§¨©ª«¬­®¯°±²³´µ¶·¸¹º»¼½¾¿ÀÁÂÃÄÅÆÇÈÉÊËÌÍÎÏÐÑÒÓÔÕÖ×ØÙÚÛÜÝÞßàáâãäåæçèéêëìíîïðñòóôõö÷øùúûüýþÿĀāĂăĄąĆćĈĉĊċČčĎďĐđĒēĔĕĖėĘęĚěĜĝĞğĠġĢģĤĥĦħĨĩĪīĬĭĮįİıĲĳĴĵĶķĸĹĺĻļĽľĿŀŁłŃńŅņŇňŉŊŋŌōŎŏŐőŒœŔŕŖŗŘřŚśŜŝŞşŠšŢţŤťŦŧŨũŪūŬŭŮůŰűŲųŴŵŶŷŸŹźŻżŽžſƀƁƂƃƄƅƆƇƈƉƊƋƌƍƎƏƐƑƒƓƔƕƖƗƘƙƚƛƜƝƞƟƠơƢƣƤƥƦƧƨƩƪƫƬƭƮƯưƱƲƳƴƵƶƷƸƹƺƻƼƽƾƿǀǁǂǃǄǅǆǇǈǉǊǋǌǍǎǏǐǑǒǓǔǕǖǗǘǙǚǛǜǝǞǟǠǡǢǣǤǥǦǧǨǩǪǫǬǭǮǯǰǱǲǳǴǵǶǷǸǹǺǻǼǽǾǿȀȁȂȃȄȅȆȇȈȉȊȋȌȍȎȏȐȑȒȓȔȕȖȗȘșȚțȜȝȞȟȠȡȢȣȤȥȦȧȨȩȪȫȬȭȮȯȰȱȲȳȴȵȶȷȸȹȺȻȼȽȾȿɀɁɂɃɄɅɆɇɈɉɊɋɌɍɎɏɐɑɒɓɔɕɖɗɘəɚɛɜɝɞɟɠɡɢɣɤɥɦɧɨɩɪɫɬɭɮɯɰɱɲɳɴɵɶɷɸɹɺɻɼɽɾɿʀʁʂʃʄʅʆʇʈʉʊʋʌʍʎʏʐʑʒʓʔʕʖʗʘʙʚʛʜʝʞʟʠʡʢʣʤʥʦʧʨʩʪʫʬʭʮʯʰʱʲʳʴʵʶʷʸʹʺʻʼʽʾʿˀˁ˂˃˄˅ˆˇˈˉˊˋˌˍˎˏːˑ˒˓˔˕˖˗˘˙˚˛˜˝˞˟ˠˡˢˣˤ˥˦˧˨˩˪˫ˬ˭ˮ˯˰˱˲˳˴˵˶˷˸˹˺˻˼˽˾˿̴̵̶̷̸̡̢̧̨̛̖̗̘̙̜̝̞̟̠̣̤̥̦̩̪̫̬̭̮̯̰̱̲̳̹̺̻̼͇͈͉͍͎̀́̂̃̄̅̆̇̈̉̊̋̌̍̎̏̐̑̒̓̔̽̾̿̀́͂̓̈́͆͊͋͌̕̚ͅ͏͓͔͕͖͙͚͐͑͒͗͛ͣͤͥͦͧͨͩͪͫͬͭͮͯ͘͜͟͢͝͞͠͡ͰͱͲͳʹ͵Ͷͷ͸͹ͺͻͼͽ;Ϳ΀΁΂΃΄΅Ά·ΈΉΊ΋Ό΍ΎΏΐΑΒΓΔΕΖΗΘΙΚΛΜΝΞΟΠΡ΢ΣΤΥΦΧΨΩΪΫάέήίΰαβγδεζηθικλμνξοπρςστυφχψωϊϋόύώϏϐϑϒϓϔϕϖϗϘϙϚϛϜϝϞϟϠϡϢϣϤϥϦϧ\n"
     ]
    }
   ],
   "source": [
    "print(\"\".join([chr(i) for i in range(1000) ]))"
   ]
  },
  {
   "cell_type": "code",
   "execution_count": 9,
   "metadata": {},
   "outputs": [
    {
     "name": "stdout",
     "output_type": "stream",
     "text": [
      "A 65\n"
     ]
    }
   ],
   "source": [
    "print(chr(65), ord(\"A\"))"
   ]
  },
  {
   "cell_type": "markdown",
   "metadata": {},
   "source": [
    "### solving the anagram problem using unicode method `ord`"
   ]
  },
  {
   "cell_type": "code",
   "execution_count": 10,
   "metadata": {},
   "outputs": [
    {
     "name": "stdout",
     "output_type": "stream",
     "text": [
      "True\n"
     ]
    }
   ],
   "source": [
    "def isAnagram(s, t):\n",
    "    s, t = s.lower(), t.lower()\n",
    "\n",
    "    frq = [0]*26\n",
    "    for each in s:\n",
    "        frq[ord(each) - ord(\"a\")] += 1\n",
    "    for each in t:\n",
    "        frq[ord(each) - ord(\"a\")] -= 1\n",
    "    return all(each == 0 for each in frq)\n",
    "\n",
    "print(isAnagram(\"Care\", \"race\"))\n"
   ]
  },
  {
   "cell_type": "markdown",
   "metadata": {},
   "source": [
    "# If - else Operator: Combining if else statement into one line"
   ]
  },
  {
   "cell_type": "markdown",
   "metadata": {},
   "source": [
    "```python\n",
    "if y==4:\n",
    " x='a'\n",
    " else:\n",
    " x='b'\n",
    " ```\n",
    "\n",
    " is equivalen to\n",
    "\n",
    " ``` python\n",
    " x ='a' if y === 4 else x = 'b'\n",
    " ```"
   ]
  },
  {
   "cell_type": "markdown",
   "metadata": {},
   "source": [
    "Using this we can print multiple statement with one print statement specifying conditions:\n",
    "\n",
    "``` python\n",
    " print('He scored ', score, ' point', 's.' if score>1 else '.', sep='')\n",
    "\n",
    "\n",
    "```"
   ]
  },
  {
   "cell_type": "code",
   "execution_count": null,
   "metadata": {},
   "outputs": [],
   "source": []
  },
  {
   "cell_type": "markdown",
   "metadata": {},
   "source": [
    "# Break and Continue"
   ]
  },
  {
   "cell_type": "markdown",
   "metadata": {},
   "source": [
    "`Break` is used after a conditon in a loop. once this condition is confirmed  the loop breaks\n",
    "\n",
    "`continue` is a cousin of `break`, it is used to ignore a piece of code if a condition is confirmed"
   ]
  },
  {
   "cell_type": "code",
   "execution_count": 11,
   "metadata": {},
   "outputs": [
    {
     "name": "stdout",
     "output_type": "stream",
     "text": [
      "0\n",
      "1\n",
      "2\n"
     ]
    }
   ],
   "source": [
    "for i in range(5):\n",
    "    if i == 3:\n",
    "        break\n",
    "    print(i)"
   ]
  },
  {
   "cell_type": "code",
   "execution_count": 12,
   "metadata": {},
   "outputs": [
    {
     "name": "stdout",
     "output_type": "stream",
     "text": [
      "0\n",
      "1\n",
      "2\n",
      "4\n"
     ]
    }
   ],
   "source": [
    "for i in range(5):\n",
    "    if i == 3:\n",
    "        continue\n",
    "    print(i)"
   ]
  },
  {
   "cell_type": "markdown",
   "metadata": {},
   "source": [
    "can also be written as"
   ]
  },
  {
   "cell_type": "code",
   "execution_count": 13,
   "metadata": {},
   "outputs": [
    {
     "name": "stdout",
     "output_type": "stream",
     "text": [
      "0\n",
      "1\n",
      "2\n",
      "4\n"
     ]
    }
   ],
   "source": [
    "for i in range(5):\n",
    "    if i == 3: continue\n",
    "    print(i)"
   ]
  },
  {
   "cell_type": "markdown",
   "metadata": {},
   "source": [
    "# eval and exec"
   ]
  },
  {
   "cell_type": "markdown",
   "metadata": {},
   "source": [
    "`eval` and `exec` are use to run python codes written in string format. `eval` is for shorter pieces of code."
   ]
  },
  {
   "cell_type": "code",
   "execution_count": 18,
   "metadata": {},
   "outputs": [
    {
     "name": "stdout",
     "output_type": "stream",
     "text": [
      "<class 'int'>\n"
     ]
    }
   ],
   "source": [
    "num = eval(input(\"Enter a number: \"))\n",
    "print(type(num))"
   ]
  },
  {
   "cell_type": "code",
   "execution_count": 19,
   "metadata": {},
   "outputs": [
    {
     "data": {
      "text/plain": [
       "6"
      ]
     },
     "execution_count": 19,
     "metadata": {},
     "output_type": "execute_result"
    }
   ],
   "source": [
    "def countif(num, condition):\n",
    "    count = 0\n",
    "    for i in range(num):\n",
    "        if eval(condition):\n",
    "            count += 1\n",
    "    return count\n",
    "\n",
    "countif(10, \"(i > 3)\")"
   ]
  },
  {
   "cell_type": "code",
   "execution_count": 20,
   "metadata": {},
   "outputs": [
    {
     "name": "stdout",
     "output_type": "stream",
     "text": [
      "0\n",
      "3\n",
      "6\n",
      "9\n"
     ]
    }
   ],
   "source": [
    "s = \"\"\"x=3\n",
    "for i in range(4):\n",
    "    print(i*x)\"\"\"\n",
    "\n",
    "exec(s)"
   ]
  },
  {
   "cell_type": "markdown",
   "metadata": {},
   "source": [
    "# enumerate and zip"
   ]
  },
  {
   "cell_type": "markdown",
   "metadata": {},
   "source": [
    "`enumerate(x)` takes in an iterable and returns something like an iterable containing pairs `(index, element)`"
   ]
  },
  {
   "cell_type": "code",
   "execution_count": 21,
   "metadata": {},
   "outputs": [
    {
     "name": "stdout",
     "output_type": "stream",
     "text": [
      "0 a\n",
      "1 b\n",
      "2 c\n",
      "3 d\n",
      "4 e\n",
      "[(0, 'a'), (1, 'b'), (2, 'c'), (3, 'd'), (4, 'e')]\n"
     ]
    }
   ],
   "source": [
    "s = \"abcde\"\n",
    "for i, j in enumerate(s):\n",
    "    print(i, j)\n",
    "\n",
    "# to print a list of the pairs from enumerate\n",
    "print(list(enumerate(s)))"
   ]
  },
  {
   "cell_type": "markdown",
   "metadata": {},
   "source": [
    "a good use enumerate is to keep track of something in a list or string, say we are interested in the index of all 1's in a string\n"
   ]
  },
  {
   "cell_type": "code",
   "execution_count": 22,
   "metadata": {},
   "outputs": [
    {
     "name": "stdout",
     "output_type": "stream",
     "text": [
      "[0, 4, 5, 7, 8, 9, 10]\n"
     ]
    }
   ],
   "source": [
    "s =\"10001101111\"\n",
    "print([j for (j,c) in enumerate(s) if c == \"1\"])"
   ]
  },
  {
   "cell_type": "markdown",
   "metadata": {},
   "source": [
    "`zip`function takes two iterables and “zips” them up into a single iterable that contains pairs (x,y), where x is from the first iterable, and y is from the second."
   ]
  },
  {
   "cell_type": "code",
   "execution_count": 23,
   "metadata": {},
   "outputs": [
    {
     "name": "stdout",
     "output_type": "stream",
     "text": [
      "[('a', 0), ('b', 1), ('c', 2)]\n"
     ]
    }
   ],
   "source": [
    "l = \"abc\"\n",
    "m = [0, 1, 2]\n",
    "print(list(zip(l, m)))"
   ]
  },
  {
   "cell_type": "markdown",
   "metadata": {},
   "source": [
    "The results of `enumerate` and `zip` are not list rather they are `enumerate` and `zip`objects respectively.\n",
    "if we wish to see a list we can convert it to a list with `list()`"
   ]
  },
  {
   "cell_type": "markdown",
   "metadata": {},
   "source": [
    "## Combining statements on the same line"
   ]
  },
  {
   "cell_type": "markdown",
   "metadata": {},
   "source": [
    "### Writing if and the preceeding statement in thesame line"
   ]
  },
  {
   "cell_type": "markdown",
   "metadata": {},
   "source": [
    "``` python\n",
    "if y ==4: print(\"yes\")\n",
    "```"
   ]
  },
  {
   "cell_type": "markdown",
   "metadata": {},
   "source": [
    "## declaring several variables on the same line\n",
    "\n",
    "``` python\n",
    "a = 3; b =2; c=1\n",
    "```"
   ]
  },
  {
   "cell_type": "code",
   "execution_count": 24,
   "metadata": {},
   "outputs": [
    {
     "name": "stdout",
     "output_type": "stream",
     "text": [
      "3 1\n"
     ]
    }
   ],
   "source": [
    "a=3; b=1\n",
    "print(a, b)"
   ]
  },
  {
   "cell_type": "markdown",
   "metadata": {},
   "source": [
    "## Calling multiple methods"
   ]
  },
  {
   "cell_type": "code",
   "execution_count": 25,
   "metadata": {},
   "outputs": [
    {
     "name": "stdout",
     "output_type": "stream",
     "text": [
      "HELLO.\n",
      " THIS IS A TEXT FILE.\n",
      " BYE!\n"
     ]
    },
    {
     "name": "stderr",
     "output_type": "stream",
     "text": [
      "<>:1: SyntaxWarning: invalid escape sequence '\\e'\n",
      "<>:1: SyntaxWarning: invalid escape sequence '\\e'\n",
      "C:\\Users\\ELIAS IFENAIKE\\AppData\\Local\\Temp\\ipykernel_2188\\966880693.py:1: SyntaxWarning: invalid escape sequence '\\e'\n",
      "  s = open(\"Working_with_Text_files\\example.txt\").read().upper()\n"
     ]
    }
   ],
   "source": [
    "s = open(\"Working_with_Text_files\\example.txt\").read().upper()\n",
    "print(s)"
   ]
  },
  {
   "cell_type": "code",
   "execution_count": null,
   "metadata": {},
   "outputs": [],
   "source": []
  }
 ],
 "metadata": {
  "kernelspec": {
   "display_name": "Python 3",
   "language": "python",
   "name": "python3"
  },
  "language_info": {
   "codemirror_mode": {
    "name": "ipython",
    "version": 3
   },
   "file_extension": ".py",
   "mimetype": "text/x-python",
   "name": "python",
   "nbconvert_exporter": "python",
   "pygments_lexer": "ipython3",
   "version": "3.12.4"
  }
 },
 "nbformat": 4,
 "nbformat_minor": 2
}

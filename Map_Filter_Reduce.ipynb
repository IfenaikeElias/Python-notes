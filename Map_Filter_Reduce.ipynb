{
 "cells": [
  {
   "cell_type": "markdown",
   "id": "f04eb788",
   "metadata": {},
   "source": [
    "### **Map**"
   ]
  },
  {
   "cell_type": "markdown",
   "id": "d34c2ece",
   "metadata": {},
   "source": [
    "the **`map()`** functions takes a function and an iterable and applies the function to all the elements of an iterable generating a new iterable.\n",
    "\n",
    "syntax:\n",
    "``` python\n",
    "map(function, iterable)\n",
    "\n",
    "```\n",
    "\n",
    "map usually returns a `map object` that can be transformed into a list."
   ]
  },
  {
   "cell_type": "code",
   "execution_count": 1,
   "id": "86872101",
   "metadata": {},
   "outputs": [
    {
     "data": {
      "text/plain": [
       "<map at 0x170c50f3c10>"
      ]
     },
     "execution_count": 1,
     "metadata": {},
     "output_type": "execute_result"
    }
   ],
   "source": [
    "map(len, [\"Python\", \"is\", \"fun\"])"
   ]
  },
  {
   "cell_type": "code",
   "execution_count": 5,
   "id": "6766744d",
   "metadata": {},
   "outputs": [
    {
     "data": {
      "text/plain": [
       "' this maps the function len to every element\\n    of the list and generates a new list of the results'"
      ]
     },
     "execution_count": 5,
     "metadata": {},
     "output_type": "execute_result"
    }
   ],
   "source": [
    "list(map(len, [\"Python\", \"is\", \"fun\"]))\n",
    "\n",
    "\"\"\" this maps the function len to every element\n",
    "    of the list and generates a new list of the results\"\"\""
   ]
  },
  {
   "cell_type": "markdown",
   "id": "56cc93b3",
   "metadata": {},
   "source": [
    "Using `map` with `lambda` functions"
   ]
  },
  {
   "cell_type": "code",
   "execution_count": 7,
   "id": "4d32bf55",
   "metadata": {},
   "outputs": [
    {
     "data": {
      "text/plain": [
       "[1, 4, 9, 16]"
      ]
     },
     "execution_count": 7,
     "metadata": {},
     "output_type": "execute_result"
    }
   ],
   "source": [
    "numbers = [1,2,3,4]\n",
    "sqrd = map(lambda num: num**2, numbers)\n",
    "\n",
    "list(sqrd)"
   ]
  },
  {
   "cell_type": "markdown",
   "id": "bc4cb12a",
   "metadata": {},
   "source": [
    "processing multiple iterables using `map`"
   ]
  },
  {
   "cell_type": "code",
   "execution_count": null,
   "id": "69518711",
   "metadata": {},
   "outputs": [
    {
     "data": {
      "text/plain": [
       "[8, 10, 12]"
      ]
     },
     "execution_count": 8,
     "metadata": {},
     "output_type": "execute_result"
    }
   ],
   "source": [
    "from operator import add\n",
    "first_itr = [1,2,3]\n",
    "second_itr = [7, 8, 9]\n",
    "\n",
    "#add elements in first iterable to those in second iterable\n",
    "list(map(add, first_itr, second_itr))"
   ]
  },
  {
   "cell_type": "code",
   "execution_count": 10,
   "id": "697329e9",
   "metadata": {},
   "outputs": [
    {
     "data": {
      "text/plain": [
       "[7, 64, 729]"
      ]
     },
     "execution_count": 10,
     "metadata": {},
     "output_type": "execute_result"
    }
   ],
   "source": [
    "first_itr = [1,2,3]\n",
    "second_itr = [7, 8, 9]\n",
    "\n",
    "#raising the seconf itr elements to the power of the elements in first list\n",
    "list(map(pow, second_itr, first_itr))"
   ]
  },
  {
   "cell_type": "markdown",
   "id": "0f010d7e",
   "metadata": {},
   "source": [
    "Utilising parralel iteration to do element wise operations with `map` and `lambda`"
   ]
  },
  {
   "cell_type": "code",
   "execution_count": null,
   "id": "5b6c1b28",
   "metadata": {},
   "outputs": [
    {
     "data": {
      "text/plain": [
       "[10, 15]"
      ]
     },
     "execution_count": 13,
     "metadata": {},
     "output_type": "execute_result"
    }
   ],
   "source": [
    "list(map(lambda x, y, z: x + y + z,\n",
    "          [2, 4], [1, 3], [7, 8]))"
   ]
  },
  {
   "cell_type": "code",
   "execution_count": 30,
   "id": "118c01f8",
   "metadata": {},
   "outputs": [
    {
     "data": {
      "text/plain": [
       "[1, 1, 1]"
      ]
     },
     "execution_count": 30,
     "metadata": {},
     "output_type": "execute_result"
    }
   ],
   "source": [
    "list(map((lambda x, y: x - y),\n",
    "     [2,3,4], [1,2,3]))"
   ]
  },
  {
   "cell_type": "markdown",
   "id": "72dc2467",
   "metadata": {},
   "source": []
  },
  {
   "cell_type": "markdown",
   "id": "01623370",
   "metadata": {},
   "source": [
    "lol, works like numpy....."
   ]
  },
  {
   "cell_type": "markdown",
   "id": "d76d3749",
   "metadata": {},
   "source": [
    "### **filter**"
   ]
  },
  {
   "cell_type": "markdown",
   "id": "0dc8afa5",
   "metadata": {},
   "source": [
    "filter takes a function and and an iterable and return all the elements of the list for which the function returns true. to do the opposite we use `filterfalse()`"
   ]
  },
  {
   "cell_type": "code",
   "execution_count": 32,
   "id": "afac808c",
   "metadata": {},
   "outputs": [
    {
     "data": {
      "text/plain": [
       "['This', 'Test']"
      ]
     },
     "execution_count": 32,
     "metadata": {},
     "output_type": "execute_result"
    }
   ],
   "source": [
    "list(filter(lambda x: len(x)> 2, [\"This\", \"is\", \"a\", \"Test\"]))"
   ]
  },
  {
   "cell_type": "markdown",
   "id": "11ab01a2",
   "metadata": {},
   "source": [
    "### **reduce**"
   ]
  },
  {
   "cell_type": "markdown",
   "id": "b22e71b6",
   "metadata": {},
   "source": [
    "reduce applies a function to the element of a list. reduce was moved to functools, so now we would have to import it. It works in the apply, use , repeat format, where a function (or callable) is applied on first two items of an iterable and generates a partial result and the partila result with the next item is also passed in the function to generate next partial result. This is done untill the function is exhausted."
   ]
  },
  {
   "cell_type": "code",
   "execution_count": 37,
   "id": "01b7a115",
   "metadata": {},
   "outputs": [],
   "source": [
    "from functools import reduce\n",
    "\n",
    "total = reduce(lambda x,y: x+y, range(1,101))"
   ]
  },
  {
   "cell_type": "code",
   "execution_count": 38,
   "id": "2f81e3f6",
   "metadata": {},
   "outputs": [
    {
     "name": "stdout",
     "output_type": "stream",
     "text": [
      "5050\n"
     ]
    }
   ],
   "source": [
    "print(total)"
   ]
  },
  {
   "cell_type": "markdown",
   "id": "4af6c6f2",
   "metadata": {},
   "source": [
    "Reduce takes an optional arguement called `initializer`, the function passed to reduce starts the iteration from this initializer and the first item, if initializer is not specified, the reduce iteration just starts from the first and second item of the list."
   ]
  },
  {
   "cell_type": "code",
   "execution_count": null,
   "id": "76bbe38b",
   "metadata": {},
   "outputs": [],
   "source": []
  },
  {
   "cell_type": "markdown",
   "id": "eab2525f",
   "metadata": {},
   "source": [
    "### **map - reduce (using the both together)**"
   ]
  },
  {
   "cell_type": "markdown",
   "id": "668c852d",
   "metadata": {},
   "source": []
  },
  {
   "cell_type": "markdown",
   "id": "1b19c63b",
   "metadata": {},
   "source": [
    "### **map - filter (using the both together)**"
   ]
  },
  {
   "cell_type": "markdown",
   "id": "26686683",
   "metadata": {},
   "source": []
  }
 ],
 "metadata": {
  "kernelspec": {
   "display_name": "Python 3",
   "language": "python",
   "name": "python3"
  },
  "language_info": {
   "codemirror_mode": {
    "name": "ipython",
    "version": 3
   },
   "file_extension": ".py",
   "mimetype": "text/x-python",
   "name": "python",
   "nbconvert_exporter": "python",
   "pygments_lexer": "ipython3",
   "version": "3.12.4"
  }
 },
 "nbformat": 4,
 "nbformat_minor": 5
}
